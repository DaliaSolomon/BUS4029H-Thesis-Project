{
 "cells": [
  {
   "cell_type": "code",
   "execution_count": 58,
   "metadata": {},
   "outputs": [],
   "source": [
    "import pandas as pd\n",
    "import matplotlib.pyplot as plt\n",
    "import numpy as np\n",
    "%matplotlib inline"
   ]
  },
  {
   "cell_type": "code",
   "execution_count": 59,
   "metadata": {},
   "outputs": [],
   "source": [
    "mom_data=pd.read_excel(\"../Data/All_Schemes_Data_Broken_Into_Mom_And_Baby.xlsx\", sheet_name=\"Mom_Data\",index_col=[0,1])\n",
    "baby_data=pd.read_excel(\"../Data/All_Schemes_Data_Broken_Into_Mom_And_Baby.xlsx\", sheet_name=\"Baby_Data\",index_col=[0,1])"
   ]
  },
  {
   "cell_type": "code",
   "execution_count": 88,
   "metadata": {},
   "outputs": [
    {
     "output_type": "execute_result",
     "data": {
      "text/plain": "                    Scheme_Code  Plan_Key  Authorization_Key  Stg_Has_Key  \\\n         admit_year                                                         \nScheme A 2013               BON      20.0        769315294.0    337573075   \n         2013               BON      20.0        770412480.0    427619851   \n         2013               BON      20.0        831092695.0    432614025   \n\n                     Member_Key  Beneficiary_Number  \\\n         admit_year                                   \nScheme A 2013        2000156110                   3   \n         2013        2000446019                   4   \n         2013        2000490168                   4   \n\n                                               Admission_Category  \\\n         admit_year                                                 \nScheme A 2013        Newborn - Complications/Premature baby major   \n         2013        Newborn - Complications/Premature baby major   \n         2013        Newborn - Complications/Premature baby minor   \n\n                    Date_Of_Birth  Admit_Month  Age_At_Treatment  ...  \\\n         admit_year                                               ...   \nScheme A 2013          2013-03-07       201303                 0  ...   \n         2013          2013-05-03       201305                 0  ...   \n         2013          2013-06-30       201307                 0  ...   \n\n                    Pharmacy_Amt  Age_Group Pulse_Paypoint_Code  Dpm_Ind  \\\n         admit_year                                                        \nScheme A 2013                0.0          0           BON033GDE    Group   \n         2013                0.0          0           BON124EY5    Group   \n         2013                0.0          0           BON005UNO    Group   \n\n                    Beneficiary_Type        Plan_Name  Pmb_Eligible  \\\n         admit_year                                                   \nScheme A 2013                    NaN  STANDARD OPTION             Y   \n         2013                    NaN  STANDARD OPTION             Y   \n         2013                   CHIL  STANDARD OPTION             N   \n\n                     Magisterial_District_Descr  Region_Descr     Member_ID  \n         admit_year                                                          \nScheme A 2013                          MAMELODI       GAUTENG  2000156110-3  \n         2013                       KOMATIPOORT    MPUMALANGA  2000446019-4  \n         2013                          PRETORIA       GAUTENG  2000490168-4  \n\n[3 rows x 31 columns]",
      "text/html": "<div>\n<style scoped>\n    .dataframe tbody tr th:only-of-type {\n        vertical-align: middle;\n    }\n\n    .dataframe tbody tr th {\n        vertical-align: top;\n    }\n\n    .dataframe thead th {\n        text-align: right;\n    }\n</style>\n<table border=\"1\" class=\"dataframe\">\n  <thead>\n    <tr style=\"text-align: right;\">\n      <th></th>\n      <th></th>\n      <th>Scheme_Code</th>\n      <th>Plan_Key</th>\n      <th>Authorization_Key</th>\n      <th>Stg_Has_Key</th>\n      <th>Member_Key</th>\n      <th>Beneficiary_Number</th>\n      <th>Admission_Category</th>\n      <th>Date_Of_Birth</th>\n      <th>Admit_Month</th>\n      <th>Age_At_Treatment</th>\n      <th>...</th>\n      <th>Pharmacy_Amt</th>\n      <th>Age_Group</th>\n      <th>Pulse_Paypoint_Code</th>\n      <th>Dpm_Ind</th>\n      <th>Beneficiary_Type</th>\n      <th>Plan_Name</th>\n      <th>Pmb_Eligible</th>\n      <th>Magisterial_District_Descr</th>\n      <th>Region_Descr</th>\n      <th>Member_ID</th>\n    </tr>\n    <tr>\n      <th></th>\n      <th>admit_year</th>\n      <th></th>\n      <th></th>\n      <th></th>\n      <th></th>\n      <th></th>\n      <th></th>\n      <th></th>\n      <th></th>\n      <th></th>\n      <th></th>\n      <th></th>\n      <th></th>\n      <th></th>\n      <th></th>\n      <th></th>\n      <th></th>\n      <th></th>\n      <th></th>\n      <th></th>\n      <th></th>\n      <th></th>\n    </tr>\n  </thead>\n  <tbody>\n    <tr>\n      <th rowspan=\"3\" valign=\"top\">Scheme A</th>\n      <th>2013</th>\n      <td>BON</td>\n      <td>20.0</td>\n      <td>769315294.0</td>\n      <td>337573075</td>\n      <td>2000156110</td>\n      <td>3</td>\n      <td>Newborn - Complications/Premature baby major</td>\n      <td>2013-03-07</td>\n      <td>201303</td>\n      <td>0</td>\n      <td>...</td>\n      <td>0.0</td>\n      <td>0</td>\n      <td>BON033GDE</td>\n      <td>Group</td>\n      <td>NaN</td>\n      <td>STANDARD OPTION</td>\n      <td>Y</td>\n      <td>MAMELODI</td>\n      <td>GAUTENG</td>\n      <td>2000156110-3</td>\n    </tr>\n    <tr>\n      <th>2013</th>\n      <td>BON</td>\n      <td>20.0</td>\n      <td>770412480.0</td>\n      <td>427619851</td>\n      <td>2000446019</td>\n      <td>4</td>\n      <td>Newborn - Complications/Premature baby major</td>\n      <td>2013-05-03</td>\n      <td>201305</td>\n      <td>0</td>\n      <td>...</td>\n      <td>0.0</td>\n      <td>0</td>\n      <td>BON124EY5</td>\n      <td>Group</td>\n      <td>NaN</td>\n      <td>STANDARD OPTION</td>\n      <td>Y</td>\n      <td>KOMATIPOORT</td>\n      <td>MPUMALANGA</td>\n      <td>2000446019-4</td>\n    </tr>\n    <tr>\n      <th>2013</th>\n      <td>BON</td>\n      <td>20.0</td>\n      <td>831092695.0</td>\n      <td>432614025</td>\n      <td>2000490168</td>\n      <td>4</td>\n      <td>Newborn - Complications/Premature baby minor</td>\n      <td>2013-06-30</td>\n      <td>201307</td>\n      <td>0</td>\n      <td>...</td>\n      <td>0.0</td>\n      <td>0</td>\n      <td>BON005UNO</td>\n      <td>Group</td>\n      <td>CHIL</td>\n      <td>STANDARD OPTION</td>\n      <td>N</td>\n      <td>PRETORIA</td>\n      <td>GAUTENG</td>\n      <td>2000490168-4</td>\n    </tr>\n  </tbody>\n</table>\n<p>3 rows × 31 columns</p>\n</div>"
     },
     "metadata": {},
     "execution_count": 88
    }
   ],
   "source": [
    "baby_data.head(3)"
   ]
  },
  {
   "cell_type": "markdown",
   "metadata": {},
   "source": [
    "# Analysing the Newborn Complications"
   ]
  },
  {
   "cell_type": "code",
   "execution_count": 89,
   "metadata": {
    "scrolled": true,
    "tags": []
   },
   "outputs": [
    {
     "output_type": "stream",
     "name": "stdout",
     "text": "Number of infants charged for complications: 14958\n"
    }
   ],
   "source": [
    "print(f'Number of infants charged for complications: {baby_data[\"Member_ID\"].nunique()}')"
   ]
  },
  {
   "cell_type": "code",
   "execution_count": 63,
   "metadata": {
    "scrolled": true
   },
   "outputs": [
    {
     "output_type": "execute_result",
     "data": {
      "text/plain": "P22.0    3642\nP59.9    2749\nP22.9    2213\nP07.3    1721\nP36.9     832\n         ... \nP01.6       1\nP28.2       1\nP54.5       1\nP54.8       1\nP52.1       1\nName: Final_Diagnosis, Length: 200, dtype: int64"
     },
     "metadata": {},
     "execution_count": 63
    }
   ],
   "source": [
    "baby_data[\"Final_Diagnosis\"].value_counts()"
   ]
  },
  {
   "cell_type": "markdown",
   "metadata": {},
   "source": [
    "## Complications Caused During Labour and Delivery "
   ]
  },
  {
   "cell_type": "code",
   "execution_count": 90,
   "metadata": {
    "scrolled": false,
    "tags": []
   },
   "outputs": [
    {
     "output_type": "stream",
     "name": "stdout",
     "text": "Number of infants affected by caesarean section: 3\n"
    }
   ],
   "source": [
    "print(f'Number of infants affected by caesarean section: {len(baby_data[baby_data[\"Final_Diagnosis\"]==\"P03.4\"])}')"
   ]
  },
  {
   "cell_type": "code",
   "execution_count": 91,
   "metadata": {
    "scrolled": true,
    "tags": []
   },
   "outputs": [
    {
     "output_type": "stream",
     "name": "stdout",
     "text": "Number of infants affected by forceps delivery: 0\n"
    }
   ],
   "source": [
    "print(f'Number of infants affected by forceps delivery: {len(baby_data[baby_data[\"Final_Diagnosis\"]==\"P03.2\"])}')"
   ]
  },
  {
   "cell_type": "code",
   "execution_count": 92,
   "metadata": {
    "tags": []
   },
   "outputs": [
    {
     "output_type": "stream",
     "name": "stdout",
     "text": "Number of infants affected by vacuum extracter: 2\n"
    }
   ],
   "source": [
    "print(f'Number of infants affected by vacuum extracter: {len(baby_data[baby_data[\"Final_Diagnosis\"]==\"P03.3\"])}')"
   ]
  },
  {
   "cell_type": "code",
   "execution_count": 93,
   "metadata": {
    "tags": []
   },
   "outputs": [
    {
     "output_type": "stream",
     "name": "stdout",
     "text": "Number of infants affected by breech delivery and extraction: 2\n"
    }
   ],
   "source": [
    "print(f'Number of infants affected by breech delivery and extraction: {len(baby_data[baby_data[\"Final_Diagnosis\"]==\"P03.0\"])}')"
   ]
  },
  {
   "cell_type": "code",
   "execution_count": 94,
   "metadata": {
    "tags": []
   },
   "outputs": [
    {
     "output_type": "stream",
     "name": "stdout",
     "text": "Number of infants affected by other malpresentation, malposition and disproportion during labour and delivery: 1\n"
    }
   ],
   "source": [
    "print(f'Number of infants affected by other malpresentation, malposition and disproportion during labour and delivery: {len(baby_data[baby_data[\"Final_Diagnosis\"]==\"P03.1\"])}')"
   ]
  },
  {
   "cell_type": "markdown",
   "metadata": {},
   "source": [
    "## Rispiratory Distress Syndrome of Newborn P22"
   ]
  },
  {
   "cell_type": "code",
   "execution_count": 69,
   "metadata": {},
   "outputs": [],
   "source": [
    "RDS=pd.concat([baby_data[baby_data[\"Final_Diagnosis\"]==\"P22.0\"],baby_data[baby_data[\"Final_Diagnosis\"]==\"P22.1\"],baby_data[baby_data[\"Final_Diagnosis\"]==\"P22.8\"],baby_data[baby_data[\"Final_Diagnosis\"]==\"P22.9\"]])\n"
   ]
  },
  {
   "cell_type": "code",
   "execution_count": 70,
   "metadata": {
    "tags": []
   },
   "outputs": [
    {
     "output_type": "stream",
     "name": "stdout",
     "text": "Average cost of Respitory Distress Syndrome: 153060.43\n"
    }
   ],
   "source": [
    "print(f' Average cost of Respitory Distress Syndrome: {round(RDS[\"Total_Cost\"].mean(),2)}')"
   ]
  },
  {
   "cell_type": "code",
   "execution_count": 95,
   "metadata": {
    "tags": []
   },
   "outputs": [
    {
     "output_type": "stream",
     "name": "stdout",
     "text": "Number of infants that experienced respiratory distress syndrome: 6755\n"
    }
   ],
   "source": [
    "print(f'Number of infants that experienced respiratory distress syndrome: {len(RDS)}')"
   ]
  },
  {
   "cell_type": "code",
   "execution_count": 96,
   "metadata": {
    "tags": []
   },
   "outputs": [
    {
     "output_type": "stream",
     "name": "stdout",
     "text": "Percentage of infants in the data set that experienced respiratory distress syndrome: 0.4516\n"
    }
   ],
   "source": [
    "print(f'Percentage of infants in the data set that experienced respiratory distress syndrome: {round(len(RDS)/baby_data[\"Member_ID\"].nunique(),4)}')"
   ]
  },
  {
   "cell_type": "code",
   "execution_count": 73,
   "metadata": {},
   "outputs": [
    {
     "output_type": "execute_result",
     "data": {
      "text/plain": "O82.1    1408\nO34.2     828\nO82.0     763\nO80.0     468\nO60.0     369\n         ... \nZ51.9       1\nO75.0       1\nO64.9       1\nO65.2       1\nO24.2       1\nName: Final_Diagnosis, Length: 228, dtype: int64"
     },
     "metadata": {},
     "execution_count": 73
    }
   ],
   "source": [
    "RDS_1=RDS[[\"Member_Key\",\"Admit_Month\"]]\n",
    "mom_data_1=mom_data[[\"Member_Key\",\"Admit_Month\",\"Final_Diagnosis\",\"Admission_Category\"]]\n",
    "\n",
    "merged=RDS_1.merge(mom_data_1,how=\"inner\",on=[\"Member_Key\",\"Admit_Month\"])\n",
    "merged[\"Final_Diagnosis\"].value_counts() \n",
    "# This is the final diagnosis of the mom"
   ]
  },
  {
   "cell_type": "code",
   "execution_count": 74,
   "metadata": {},
   "outputs": [
    {
     "output_type": "execute_result",
     "data": {
      "text/plain": "5448"
     },
     "metadata": {},
     "execution_count": 74
    }
   ],
   "source": [
    "merged[\"Member_Key\"].nunique()"
   ]
  },
  {
   "cell_type": "code",
   "execution_count": 97,
   "metadata": {
    "tags": []
   },
   "outputs": [
    {
     "output_type": "stream",
     "name": "stdout",
     "text": "Number of infants that experienced respiratory distress syndrome who were born via caeserean section: 5199\n"
    }
   ],
   "source": [
    "print(f'Number of infants that experienced respiratory distress syndrome who were born via caeserean section: {len(merged[merged[\"Admission_Category\"]==\"Caesarean Delivery\"])}')"
   ]
  },
  {
   "cell_type": "code",
   "execution_count": 76,
   "metadata": {
    "scrolled": true,
    "tags": []
   },
   "outputs": [
    {
     "output_type": "stream",
     "name": "stdout",
     "text": "Number of babys that experienced respiratory distress syndrome who were born through a natural delivery: 709\n"
    }
   ],
   "source": [
    "print(f'Number of babys that experienced respiratory distress syndrome who were born through a natural delivery: {len(merged[merged[\"Admission_Category\"]==\"Normal Delivery\"])}')"
   ]
  },
  {
   "cell_type": "markdown",
   "metadata": {},
   "source": [
    "This confrims what was said in literature review about caeserian section babies experiencing significantly worse lung function"
   ]
  },
  {
   "cell_type": "code",
   "execution_count": 77,
   "metadata": {
    "tags": []
   },
   "outputs": [
    {
     "output_type": "stream",
     "name": "stdout",
     "text": "Number of babys that experienced respiratory distress syndrome whose mothers experienced maternal care due to uterine scar from previous surgery:828\n"
    }
   ],
   "source": [
    "print(f'Number of babys that experienced respiratory distress syndrome whose mothers experienced maternal care due to uterine scar from previous surgery:{828}')\n"
   ]
  },
  {
   "cell_type": "code",
   "execution_count": 78,
   "metadata": {
    "tags": []
   },
   "outputs": [
    {
     "output_type": "stream",
     "name": "stdout",
     "text": "Number of babys that experienced respiratory distress syndrome whose mothers experienced pre-term labour without delivery:369\n"
    }
   ],
   "source": [
    "print(f'Number of babys that experienced respiratory distress syndrome whose mothers experienced pre-term labour without delivery:{369}')"
   ]
  },
  {
   "cell_type": "markdown",
   "metadata": {},
   "source": [
    "## Neonatal Jaundice P59.9"
   ]
  },
  {
   "cell_type": "markdown",
   "metadata": {},
   "source": [
    "This is not further looked into because there is no association between neonatal Jaundice and the Method of Delivery."
   ]
  },
  {
   "cell_type": "markdown",
   "metadata": {},
   "source": [
    "## Preterm Infants P07.3"
   ]
  },
  {
   "cell_type": "markdown",
   "metadata": {},
   "source": [
    "This is not further looked into because there is the method of delivery does not affect whether a baby is born pre-term"
   ]
  },
  {
   "cell_type": "markdown",
   "metadata": {},
   "source": [
    "## HIV related"
   ]
  },
  {
   "cell_type": "code",
   "execution_count": 79,
   "metadata": {},
   "outputs": [
    {
     "output_type": "execute_result",
     "data": {
      "text/plain": "                    Scheme_Code  Plan_Key  Authorization_Key  Stg_Has_Key  \\\n         admit_year                                                         \nScheme A 2013               BON      20.0        850538267.0    442113666   \n         2013               BON     240.0        850322218.0    436967164   \n         2013               BON     277.0        850326675.0    437405438   \n         2014               BON      20.0        851464317.0    542322123   \n         2014               BON      20.0        851146781.0    541732192   \n...                         ...       ...                ...          ...   \nScheme_C 2015                 C     731.0        873762311.0    541778592   \n         2019                 C     731.0        912301885.0    672040958   \n         2017                 C     731.0        908581478.0    611562676   \n         2019                 C     731.0        912667419.0    688172362   \n         2018                 C     731.0        908339067.0    634654023   \n\n                      Member_Key  Beneficiary_Number  \\\n         admit_year                                    \nScheme A 2013         2025573280                   3   \n         2013        24002378493                   4   \n         2013        27703161597                   4   \n         2014         2021366211                   4   \n         2014         2023938827                   1   \n...                          ...                 ...   \nScheme_C 2015        88100565687                   2   \n         2019        88100565687                   3   \n         2017        88100577857                   2   \n         2019        88100611012                   2   \n         2018        88100623581                   6   \n\n                                               Admission_Category  \\\n         admit_year                                                 \nScheme A 2013        Newborn - Complications/Premature baby major   \n         2013        Newborn - Complications/Premature baby major   \n         2013        Newborn - Complications/Premature baby major   \n         2014        Newborn - Complications/Premature baby minor   \n         2014        Newborn - Complications/Premature baby major   \n...                                                           ...   \nScheme_C 2015        Newborn - Complications/Premature baby major   \n         2019        Newborn - Complications/Premature baby major   \n         2017        Newborn - Complications/Premature baby major   \n         2019        Newborn - Complications/Premature baby major   \n         2018        Newborn - Complications/Premature baby major   \n\n                    Date_Of_Birth  Admit_Month  Age_At_Treatment  ...  \\\n         admit_year                                               ...   \nScheme A 2013          2013-10-14       201310                 0  ...   \n         2013          2013-08-29       201308                 0  ...   \n         2013          2013-07-07       201307                 0  ...   \n         2014          2014-07-16       201407                 0  ...   \n         2014          2014-05-15       201405                 0  ...   \n...                           ...          ...               ...  ...   \nScheme_C 2015          2015-10-22       201510                 0  ...   \n         2019          2019-06-20       201907                 0  ...   \n         2017          2017-11-01       201711                 0  ...   \n         2019          2019-09-25       201909                 0  ...   \n         2018          2018-07-18       201807                 0  ...   \n\n                    Pharmacy_Amt  Age_Group Pulse_Paypoint_Code  Dpm_Ind  \\\n         admit_year                                                        \nScheme A 2013               0.00          0           BON040NHB    Group   \n         2013               0.00          0           BON001BRK    Group   \n         2013               0.00          0           BON040RAN    Group   \n         2014               0.00          0           BON050NEN    Group   \n         2014               0.00          0           BON124EY4    Group   \n...                          ...        ...                 ...      ...   \nScheme_C 2015               0.00          0           SMD003SYN    Group   \n         2019             387.89          0           SMD003SYN    Group   \n         2017               0.00          0           SMD011MIN    Group   \n         2019               0.00          0           SMD003SYN    Group   \n         2018               0.00          0           SMD011MIN    Group   \n\n                    Beneficiary_Type        Plan_Name  Pmb_Eligible  \\\n         admit_year                                                   \nScheme A 2013                    NaN  STANDARD OPTION             Y   \n         2013                    NaN   BONSAVE OPTION             Y   \n         2013                    NaN   PRIMARY OPTION             Y   \n         2014                    NaN  STANDARD OPTION             Y   \n         2014                    NaN  STANDARD OPTION             Y   \n...                              ...              ...           ...   \nScheme_C 2015                    NaN         SASOLMED             N   \n         2019                   CHIL         SASOLMED             Y   \n         2017                   CHIL         SASOLMED             Y   \n         2019                    NaN         SASOLMED             Y   \n         2018                    NaN         SASOLMED             Y   \n\n                     Magisterial_District_Descr  Region_Descr      Member_ID  \n         admit_year                                                           \nScheme A 2013                         NELSPRUIT    MPUMALANGA   2025573280-3  \n         2013                           TSAKANE       GAUTENG  24002378493-4  \n         2013                      KEMPTON PARK       GAUTENG  27703161597-4  \n         2014                             BRITS    NORTH WEST   2021366211-4  \n         2014                            BERLIN  EASTERN CAPE   2023938827-1  \n...                                         ...           ...            ...  \nScheme_C 2015                        EMBALENHLE    MPUMALANGA  88100565687-2  \n         2019                        EMBALENHLE    MPUMALANGA  88100565687-3  \n         2017                           SECUNDA    MPUMALANGA  88100577857-2  \n         2019                           WITBANK    MPUMALANGA  88100611012-2  \n         2018                        EMBALENHLE    MPUMALANGA  88100623581-6  \n\n[110 rows x 31 columns]",
      "text/html": "<div>\n<style scoped>\n    .dataframe tbody tr th:only-of-type {\n        vertical-align: middle;\n    }\n\n    .dataframe tbody tr th {\n        vertical-align: top;\n    }\n\n    .dataframe thead th {\n        text-align: right;\n    }\n</style>\n<table border=\"1\" class=\"dataframe\">\n  <thead>\n    <tr style=\"text-align: right;\">\n      <th></th>\n      <th></th>\n      <th>Scheme_Code</th>\n      <th>Plan_Key</th>\n      <th>Authorization_Key</th>\n      <th>Stg_Has_Key</th>\n      <th>Member_Key</th>\n      <th>Beneficiary_Number</th>\n      <th>Admission_Category</th>\n      <th>Date_Of_Birth</th>\n      <th>Admit_Month</th>\n      <th>Age_At_Treatment</th>\n      <th>...</th>\n      <th>Pharmacy_Amt</th>\n      <th>Age_Group</th>\n      <th>Pulse_Paypoint_Code</th>\n      <th>Dpm_Ind</th>\n      <th>Beneficiary_Type</th>\n      <th>Plan_Name</th>\n      <th>Pmb_Eligible</th>\n      <th>Magisterial_District_Descr</th>\n      <th>Region_Descr</th>\n      <th>Member_ID</th>\n    </tr>\n    <tr>\n      <th></th>\n      <th>admit_year</th>\n      <th></th>\n      <th></th>\n      <th></th>\n      <th></th>\n      <th></th>\n      <th></th>\n      <th></th>\n      <th></th>\n      <th></th>\n      <th></th>\n      <th></th>\n      <th></th>\n      <th></th>\n      <th></th>\n      <th></th>\n      <th></th>\n      <th></th>\n      <th></th>\n      <th></th>\n      <th></th>\n      <th></th>\n    </tr>\n  </thead>\n  <tbody>\n    <tr>\n      <th rowspan=\"5\" valign=\"top\">Scheme A</th>\n      <th>2013</th>\n      <td>BON</td>\n      <td>20.0</td>\n      <td>850538267.0</td>\n      <td>442113666</td>\n      <td>2025573280</td>\n      <td>3</td>\n      <td>Newborn - Complications/Premature baby major</td>\n      <td>2013-10-14</td>\n      <td>201310</td>\n      <td>0</td>\n      <td>...</td>\n      <td>0.00</td>\n      <td>0</td>\n      <td>BON040NHB</td>\n      <td>Group</td>\n      <td>NaN</td>\n      <td>STANDARD OPTION</td>\n      <td>Y</td>\n      <td>NELSPRUIT</td>\n      <td>MPUMALANGA</td>\n      <td>2025573280-3</td>\n    </tr>\n    <tr>\n      <th>2013</th>\n      <td>BON</td>\n      <td>240.0</td>\n      <td>850322218.0</td>\n      <td>436967164</td>\n      <td>24002378493</td>\n      <td>4</td>\n      <td>Newborn - Complications/Premature baby major</td>\n      <td>2013-08-29</td>\n      <td>201308</td>\n      <td>0</td>\n      <td>...</td>\n      <td>0.00</td>\n      <td>0</td>\n      <td>BON001BRK</td>\n      <td>Group</td>\n      <td>NaN</td>\n      <td>BONSAVE OPTION</td>\n      <td>Y</td>\n      <td>TSAKANE</td>\n      <td>GAUTENG</td>\n      <td>24002378493-4</td>\n    </tr>\n    <tr>\n      <th>2013</th>\n      <td>BON</td>\n      <td>277.0</td>\n      <td>850326675.0</td>\n      <td>437405438</td>\n      <td>27703161597</td>\n      <td>4</td>\n      <td>Newborn - Complications/Premature baby major</td>\n      <td>2013-07-07</td>\n      <td>201307</td>\n      <td>0</td>\n      <td>...</td>\n      <td>0.00</td>\n      <td>0</td>\n      <td>BON040RAN</td>\n      <td>Group</td>\n      <td>NaN</td>\n      <td>PRIMARY OPTION</td>\n      <td>Y</td>\n      <td>KEMPTON PARK</td>\n      <td>GAUTENG</td>\n      <td>27703161597-4</td>\n    </tr>\n    <tr>\n      <th>2014</th>\n      <td>BON</td>\n      <td>20.0</td>\n      <td>851464317.0</td>\n      <td>542322123</td>\n      <td>2021366211</td>\n      <td>4</td>\n      <td>Newborn - Complications/Premature baby minor</td>\n      <td>2014-07-16</td>\n      <td>201407</td>\n      <td>0</td>\n      <td>...</td>\n      <td>0.00</td>\n      <td>0</td>\n      <td>BON050NEN</td>\n      <td>Group</td>\n      <td>NaN</td>\n      <td>STANDARD OPTION</td>\n      <td>Y</td>\n      <td>BRITS</td>\n      <td>NORTH WEST</td>\n      <td>2021366211-4</td>\n    </tr>\n    <tr>\n      <th>2014</th>\n      <td>BON</td>\n      <td>20.0</td>\n      <td>851146781.0</td>\n      <td>541732192</td>\n      <td>2023938827</td>\n      <td>1</td>\n      <td>Newborn - Complications/Premature baby major</td>\n      <td>2014-05-15</td>\n      <td>201405</td>\n      <td>0</td>\n      <td>...</td>\n      <td>0.00</td>\n      <td>0</td>\n      <td>BON124EY4</td>\n      <td>Group</td>\n      <td>NaN</td>\n      <td>STANDARD OPTION</td>\n      <td>Y</td>\n      <td>BERLIN</td>\n      <td>EASTERN CAPE</td>\n      <td>2023938827-1</td>\n    </tr>\n    <tr>\n      <th>...</th>\n      <th>...</th>\n      <td>...</td>\n      <td>...</td>\n      <td>...</td>\n      <td>...</td>\n      <td>...</td>\n      <td>...</td>\n      <td>...</td>\n      <td>...</td>\n      <td>...</td>\n      <td>...</td>\n      <td>...</td>\n      <td>...</td>\n      <td>...</td>\n      <td>...</td>\n      <td>...</td>\n      <td>...</td>\n      <td>...</td>\n      <td>...</td>\n      <td>...</td>\n      <td>...</td>\n      <td>...</td>\n    </tr>\n    <tr>\n      <th rowspan=\"5\" valign=\"top\">Scheme_C</th>\n      <th>2015</th>\n      <td>C</td>\n      <td>731.0</td>\n      <td>873762311.0</td>\n      <td>541778592</td>\n      <td>88100565687</td>\n      <td>2</td>\n      <td>Newborn - Complications/Premature baby major</td>\n      <td>2015-10-22</td>\n      <td>201510</td>\n      <td>0</td>\n      <td>...</td>\n      <td>0.00</td>\n      <td>0</td>\n      <td>SMD003SYN</td>\n      <td>Group</td>\n      <td>NaN</td>\n      <td>SASOLMED</td>\n      <td>N</td>\n      <td>EMBALENHLE</td>\n      <td>MPUMALANGA</td>\n      <td>88100565687-2</td>\n    </tr>\n    <tr>\n      <th>2019</th>\n      <td>C</td>\n      <td>731.0</td>\n      <td>912301885.0</td>\n      <td>672040958</td>\n      <td>88100565687</td>\n      <td>3</td>\n      <td>Newborn - Complications/Premature baby major</td>\n      <td>2019-06-20</td>\n      <td>201907</td>\n      <td>0</td>\n      <td>...</td>\n      <td>387.89</td>\n      <td>0</td>\n      <td>SMD003SYN</td>\n      <td>Group</td>\n      <td>CHIL</td>\n      <td>SASOLMED</td>\n      <td>Y</td>\n      <td>EMBALENHLE</td>\n      <td>MPUMALANGA</td>\n      <td>88100565687-3</td>\n    </tr>\n    <tr>\n      <th>2017</th>\n      <td>C</td>\n      <td>731.0</td>\n      <td>908581478.0</td>\n      <td>611562676</td>\n      <td>88100577857</td>\n      <td>2</td>\n      <td>Newborn - Complications/Premature baby major</td>\n      <td>2017-11-01</td>\n      <td>201711</td>\n      <td>0</td>\n      <td>...</td>\n      <td>0.00</td>\n      <td>0</td>\n      <td>SMD011MIN</td>\n      <td>Group</td>\n      <td>CHIL</td>\n      <td>SASOLMED</td>\n      <td>Y</td>\n      <td>SECUNDA</td>\n      <td>MPUMALANGA</td>\n      <td>88100577857-2</td>\n    </tr>\n    <tr>\n      <th>2019</th>\n      <td>C</td>\n      <td>731.0</td>\n      <td>912667419.0</td>\n      <td>688172362</td>\n      <td>88100611012</td>\n      <td>2</td>\n      <td>Newborn - Complications/Premature baby major</td>\n      <td>2019-09-25</td>\n      <td>201909</td>\n      <td>0</td>\n      <td>...</td>\n      <td>0.00</td>\n      <td>0</td>\n      <td>SMD003SYN</td>\n      <td>Group</td>\n      <td>NaN</td>\n      <td>SASOLMED</td>\n      <td>Y</td>\n      <td>WITBANK</td>\n      <td>MPUMALANGA</td>\n      <td>88100611012-2</td>\n    </tr>\n    <tr>\n      <th>2018</th>\n      <td>C</td>\n      <td>731.0</td>\n      <td>908339067.0</td>\n      <td>634654023</td>\n      <td>88100623581</td>\n      <td>6</td>\n      <td>Newborn - Complications/Premature baby major</td>\n      <td>2018-07-18</td>\n      <td>201807</td>\n      <td>0</td>\n      <td>...</td>\n      <td>0.00</td>\n      <td>0</td>\n      <td>SMD011MIN</td>\n      <td>Group</td>\n      <td>NaN</td>\n      <td>SASOLMED</td>\n      <td>Y</td>\n      <td>EMBALENHLE</td>\n      <td>MPUMALANGA</td>\n      <td>88100623581-6</td>\n    </tr>\n  </tbody>\n</table>\n<p>110 rows × 31 columns</p>\n</div>"
     },
     "metadata": {},
     "execution_count": 79
    }
   ],
   "source": [
    "HIV_baby=baby_data[baby_data[\"Member_Key\"].isin(mom_data[mom_data[\"Final_Diagnosis\"]==\"O98.7\"][\"Member_Key\"])]\n",
    "HIV_baby\n",
    "# This is all the babies whose moms were recorded as havign HIV during pregnancy or delivery "
   ]
  },
  {
   "cell_type": "code",
   "execution_count": 80,
   "metadata": {
    "tags": []
   },
   "outputs": [
    {
     "output_type": "stream",
     "name": "stdout",
     "text": "Average cost to infants whose mother was recorded as HIV positive: 133645.99\n"
    }
   ],
   "source": [
    "print(f'Average cost to infants whose mother was recorded as HIV positive: {round(HIV_baby[\"Total_Cost\"].mean(),2)}')"
   ]
  },
  {
   "cell_type": "code",
   "execution_count": 81,
   "metadata": {
    "scrolled": true
   },
   "outputs": [
    {
     "output_type": "execute_result",
     "data": {
      "text/plain": "P22.0    29\nP22.9    21\nP22.1    12\nP36.9     9\nP07.3     8\nP07.1     6\nP70.4     4\nP21.1     2\nP59.9     2\nP23.9     2\nP36.3     2\nP28.8     2\nP05.9     1\nP92.0     1\nP74.0     1\nP05.1     1\nP24.0     1\nP52.0     1\nP21.9     1\nP22.8     1\nP39.8     1\nP78.8     1\nName: Final_Diagnosis, dtype: int64"
     },
     "metadata": {},
     "execution_count": 81
    }
   ],
   "source": [
    "HIV_baby[\"Final_Diagnosis\"].value_counts()"
   ]
  },
  {
   "cell_type": "markdown",
   "metadata": {},
   "source": [
    "9 of the babies suffered from bacterial sepsis - likley from mom having HIV"
   ]
  },
  {
   "cell_type": "markdown",
   "metadata": {},
   "source": [
    "8 of the babies were born pre-term"
   ]
  },
  {
   "cell_type": "markdown",
   "metadata": {},
   "source": [
    "# Feeding Problems"
   ]
  },
  {
   "cell_type": "code",
   "execution_count": 82,
   "metadata": {},
   "outputs": [
    {
     "output_type": "execute_result",
     "data": {
      "text/plain": "{'P92.0': 98,\n 'P92.1': 7,\n 'P92.2': 19,\n 'P92.3': 1,\n 'P92.4': 0,\n 'P92.5': 12,\n 'P92.8': 42,\n 'P92.9': 127}"
     },
     "metadata": {},
     "execution_count": 82
    }
   ],
   "source": [
    " {\n",
    "    'P92.0':len(baby_data[baby_data[\"Final_Diagnosis\"]==\"P92.0\"]),\n",
    "    'P92.1':len(baby_data[baby_data[\"Final_Diagnosis\"]==\"P92.1\"]),\n",
    "    'P92.2':len(baby_data[baby_data[\"Final_Diagnosis\"]==\"P92.2\"]),\n",
    "    'P92.3':len(baby_data[baby_data[\"Final_Diagnosis\"]==\"P92.3\"]),\n",
    "    'P92.4':len(baby_data[baby_data[\"Final_Diagnosis\"]==\"P92.4\"]),\n",
    "    'P92.5':len(baby_data[baby_data[\"Final_Diagnosis\"]==\"P92.5\"]),\n",
    "    'P92.8':len(baby_data[baby_data[\"Final_Diagnosis\"]==\"P92.8\"]),\n",
    "    'P92.9':len(baby_data[baby_data[\"Final_Diagnosis\"]==\"P92.9\"])\n",
    "}"
   ]
  },
  {
   "cell_type": "code",
   "execution_count": 83,
   "metadata": {},
   "outputs": [],
   "source": [
    "feeding=pd.concat([baby_data[baby_data[\"Final_Diagnosis\"]==\"P92.0\"],baby_data[baby_data[\"Final_Diagnosis\"]==\"P92.1\"],baby_data[baby_data[\"Final_Diagnosis\"]==\"P92.2\"],baby_data[baby_data[\"Final_Diagnosis\"]==\"P92.3\"],baby_data[baby_data[\"Final_Diagnosis\"]==\"P92.4\"],baby_data[baby_data[\"Final_Diagnosis\"]==\"P92.5\"],baby_data[baby_data[\"Final_Diagnosis\"]==\"P92.8\"],baby_data[baby_data[\"Final_Diagnosis\"]==\"P92.9\"]])\n",
    "\n",
    "feeding1=mom_data[mom_data['Member_Key'].isin(feeding['Member_Key'])]"
   ]
  },
  {
   "cell_type": "code",
   "execution_count": 100,
   "metadata": {
    "tags": []
   },
   "outputs": [
    {
     "output_type": "stream",
     "name": "stdout",
     "text": "Number of infants who experienced feeding problems: 306\n"
    }
   ],
   "source": [
    "print(f'Number of infants who experienced feeding problems: {feeding[\"Member_ID\"].nunique()}')"
   ]
  },
  {
   "cell_type": "code",
   "execution_count": 84,
   "metadata": {},
   "outputs": [
    {
     "output_type": "execute_result",
     "data": {
      "text/plain": "Caesarean Delivery                             265\nComplicated Pregnancy                          164\nNormal Delivery                                 67\nComplicated labour, delivery and puerperium      4\nUncomplicated delivery                           3\nComplications of the pueperium                   3\nName: Admission_Category, dtype: int64"
     },
     "metadata": {},
     "execution_count": 84
    }
   ],
   "source": [
    "feeding1[\"Admission_Category\"].value_counts()"
   ]
  },
  {
   "cell_type": "code",
   "execution_count": 85,
   "metadata": {
    "tags": []
   },
   "outputs": [
    {
     "output_type": "stream",
     "name": "stdout",
     "text": "Average cost of feeding problems: 43162.37\n"
    }
   ],
   "source": [
    "print(f'Average cost of feeding problems: {round(feeding[\"Total_Cost\"].mean(),2)}')"
   ]
  },
  {
   "cell_type": "code",
   "execution_count": null,
   "metadata": {},
   "outputs": [],
   "source": []
  }
 ],
 "metadata": {
  "kernelspec": {
   "display_name": "Python 3.8.3 64-bit ('pandas_playground': conda)",
   "language": "python",
   "name": "python38364bitpandasplaygroundconda84a10f80b1fd4332ae3de9b6c1656e8d"
  },
  "language_info": {
   "codemirror_mode": {
    "name": "ipython",
    "version": 3
   },
   "file_extension": ".py",
   "mimetype": "text/x-python",
   "name": "python",
   "nbconvert_exporter": "python",
   "pygments_lexer": "ipython3",
   "version": "3.8.3-final"
  }
 },
 "nbformat": 4,
 "nbformat_minor": 4
}