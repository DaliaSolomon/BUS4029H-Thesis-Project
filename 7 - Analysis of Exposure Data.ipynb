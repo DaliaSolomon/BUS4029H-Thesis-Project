{
 "cells": [
  {
   "cell_type": "code",
   "execution_count": 1,
   "metadata": {},
   "outputs": [],
   "source": [
    "import pandas as pd\n",
    "import matplotlib.pyplot as plt\n",
    "import numpy as np\n",
    "%matplotlib inline"
   ]
  },
  {
   "cell_type": "markdown",
   "metadata": {},
   "source": [
    "# Reading in the Data"
   ]
  },
  {
   "cell_type": "code",
   "execution_count": 2,
   "metadata": {},
   "outputs": [],
   "source": [
    "data_13 = pd.read_excel(\"MATERNITY_MEM_2013.xlsx\")\n",
    "data_14 = pd.read_excel(\"MATERNITY_MEM_2014.xlsx\")\n",
    "data_15 = pd.read_excel(\"MATERNITY_MEM_2015.xlsx\")\n",
    "data_16 = pd.read_excel(\"MATERNITY_MEM_2016.xlsx\")\n",
    "data_17 = pd.read_excel(\"MATERNITY_MEM_2017.xlsx\")\n",
    "data_18 = pd.read_excel(\"MATERNITY_MEM_2018.xlsx\")\n",
    "data_19 = pd.read_excel(\"MATERNITY_MEM_2019.xlsx\")"
   ]
  },
  {
   "cell_type": "code",
   "execution_count": 3,
   "metadata": {},
   "outputs": [],
   "source": [
    "scheme_B=pd.read_excel(\"B_MATERNITY_EXPOSURE.xlsx\")\n",
    "scheme_C=pd.read_excel(\"C_MATERNITY_MEM_EXPOSURE.xlsx\")"
   ]
  },
  {
   "cell_type": "markdown",
   "metadata": {},
   "source": [
    "# Merging the Data"
   ]
  },
  {
   "cell_type": "code",
   "execution_count": 4,
   "metadata": {},
   "outputs": [],
   "source": [
    "scheme_A_no_13_or_14=pd.concat(objs=[data_15,data_16,data_17,data_18,data_19])"
   ]
  },
  {
   "cell_type": "code",
   "execution_count": 5,
   "metadata": {
    "scrolled": false
   },
   "outputs": [
    {
     "output_type": "execute_result",
     "data": {
      "text/plain": "   year GENDER  age_at_treatment  REGION_DESCR     dpm_ind  exposure\n0  2015      F                12  EASTERN CAPE       Group      5800\n1  2015      F                12  EASTERN CAPE  Individual       424\n2  2015      F                12    FREE STATE       Group      2717",
      "text/html": "<div>\n<style scoped>\n    .dataframe tbody tr th:only-of-type {\n        vertical-align: middle;\n    }\n\n    .dataframe tbody tr th {\n        vertical-align: top;\n    }\n\n    .dataframe thead th {\n        text-align: right;\n    }\n</style>\n<table border=\"1\" class=\"dataframe\">\n  <thead>\n    <tr style=\"text-align: right;\">\n      <th></th>\n      <th>year</th>\n      <th>GENDER</th>\n      <th>age_at_treatment</th>\n      <th>REGION_DESCR</th>\n      <th>dpm_ind</th>\n      <th>exposure</th>\n    </tr>\n  </thead>\n  <tbody>\n    <tr>\n      <th>0</th>\n      <td>2015</td>\n      <td>F</td>\n      <td>12</td>\n      <td>EASTERN CAPE</td>\n      <td>Group</td>\n      <td>5800</td>\n    </tr>\n    <tr>\n      <th>1</th>\n      <td>2015</td>\n      <td>F</td>\n      <td>12</td>\n      <td>EASTERN CAPE</td>\n      <td>Individual</td>\n      <td>424</td>\n    </tr>\n    <tr>\n      <th>2</th>\n      <td>2015</td>\n      <td>F</td>\n      <td>12</td>\n      <td>FREE STATE</td>\n      <td>Group</td>\n      <td>2717</td>\n    </tr>\n  </tbody>\n</table>\n</div>"
     },
     "metadata": {},
     "execution_count": 5
    }
   ],
   "source": [
    "scheme_A_no_13_or_14.head(3)"
   ]
  },
  {
   "cell_type": "markdown",
   "metadata": {},
   "source": [
    "# Cleaning the Headings"
   ]
  },
  {
   "cell_type": "code",
   "execution_count": 6,
   "metadata": {
    "scrolled": true
   },
   "outputs": [],
   "source": [
    "data_13.columns=data_13.columns.str.title()\n",
    "data_14.columns=data_14.columns.str.title()\n",
    "scheme_A_no_13_or_14.columns=scheme_A_no_13_or_14.columns.str.title()\n",
    "scheme_B.columns=scheme_B.columns.str.title()\n",
    "scheme_C.columns=scheme_C.columns.str.title()"
   ]
  },
  {
   "cell_type": "markdown",
   "metadata": {},
   "source": [
    "# Removing the Rows Where the Region is Outside of South Africa"
   ]
  },
  {
   "cell_type": "code",
   "execution_count": 7,
   "metadata": {},
   "outputs": [],
   "source": [
    "scheme_A_no_13_or_14.replace(to_replace=\"KWAZULU-NATAL\",value=\"KWAZULU NATAL\",inplace=True)\n",
    "scheme_A_no_13_or_14.replace(to_replace=\"NORTHWEST PROVINCE\",value=\"NORTH WEST\",inplace=True)"
   ]
  },
  {
   "cell_type": "code",
   "execution_count": 8,
   "metadata": {},
   "outputs": [
    {
     "output_type": "execute_result",
     "data": {
      "text/plain": "['EASTERN CAPE',\n 'FREE STATE',\n 'GAUTENG',\n 'KWAZULU NATAL',\n 'LESOTHO',\n 'LIMPOPO',\n 'MPUMALANGA',\n 'NAMIBIA',\n 'NORTH WEST',\n 'NORTHERN CAPE',\n 'SWAZILAND',\n 'Unknown',\n 'WESTERN CAPE',\n 'ZIMBABWE',\n 'ANGOLA',\n 'BOTSWANA',\n 'BRAZIL',\n 'NEW ZEALAND',\n 'ZAMBIA',\n 'UGANDA']"
     },
     "metadata": {},
     "execution_count": 8
    }
   ],
   "source": [
    "scheme_A_no_13_or_14[\"Region_Descr\"].unique().tolist()"
   ]
  },
  {
   "cell_type": "code",
   "execution_count": 9,
   "metadata": {},
   "outputs": [],
   "source": [
    "req1=scheme_A_no_13_or_14[\"Region_Descr\"]==\"NORTHERN CAPE\"\n",
    "req2=scheme_A_no_13_or_14[\"Region_Descr\"]==\"KWAZULU NATAL\"\n",
    "req3=scheme_A_no_13_or_14[\"Region_Descr\"]==\"EASTERN CAPE\"\n",
    "req4=scheme_A_no_13_or_14[\"Region_Descr\"]==\"GAUTENG\"\n",
    "req5=scheme_A_no_13_or_14[\"Region_Descr\"]==\"LIMPOPO\"\n",
    "req6=scheme_A_no_13_or_14[\"Region_Descr\"]==\"FREE STATE\"\n",
    "req7=scheme_A_no_13_or_14[\"Region_Descr\"]==\"NORTH WEST\"\n",
    "req8=scheme_A_no_13_or_14[\"Region_Descr\"]==\"MPUMALANGA\"\n",
    "req9=scheme_A_no_13_or_14[\"Region_Descr\"]==\"WESTERN CAPE\"\n",
    "req10=scheme_A_no_13_or_14[\"Region_Descr\"]==\"nan\""
   ]
  },
  {
   "cell_type": "code",
   "execution_count": 10,
   "metadata": {},
   "outputs": [],
   "source": [
    "scheme_A_no_13_or_14=scheme_A_no_13_or_14[req1|req2|req3|req4|req5|req6|req7|req8|req9|req10]"
   ]
  },
  {
   "cell_type": "code",
   "execution_count": 11,
   "metadata": {},
   "outputs": [
    {
     "output_type": "execute_result",
     "data": {
      "text/plain": "['EASTERN CAPE',\n 'FREE STATE',\n 'GAUTENG',\n 'KWAZULU NATAL',\n 'LIMPOPO',\n 'MPUMALANGA',\n 'NORTH WEST',\n 'NORTHERN CAPE',\n 'WESTERN CAPE']"
     },
     "metadata": {},
     "execution_count": 11
    }
   ],
   "source": [
    "scheme_A_no_13_or_14[\"Region_Descr\"].unique().tolist()"
   ]
  },
  {
   "cell_type": "code",
   "execution_count": 12,
   "metadata": {},
   "outputs": [],
   "source": [
    "scheme_A=pd.concat([scheme_A_no_13_or_14,data_13,data_14])"
   ]
  },
  {
   "cell_type": "code",
   "execution_count": 13,
   "metadata": {},
   "outputs": [
    {
     "output_type": "execute_result",
     "data": {
      "text/plain": "     Year Gender  Age_At_Treatment  Region_Descr     Dpm_Ind  Exposure  \\\n0    2015      F                12  EASTERN CAPE       Group      5800   \n1    2015      F                12  EASTERN CAPE  Individual       424   \n2    2015      F                12    FREE STATE       Group      2717   \n3    2015      F                12    FREE STATE  Individual       350   \n4    2015      F                12       GAUTENG       Group     18888   \n..    ...    ...               ...           ...         ...       ...   \n681  2014      F                60           NaN  Individual       396   \n682  2014      F                60           NaN       Group      2610   \n683  2014      F                60           NaN  Individual      1897   \n684  2014      F                60           NaN       Group     16691   \n685  2014      F                60           NaN  Individual      6707   \n\n               Plan_Name  \n0                    NaN  \n1                    NaN  \n2                    NaN  \n3                    NaN  \n4                    NaN  \n..                   ...  \n681  BonEssential Option  \n682       PRIMARY OPTION  \n683       PRIMARY OPTION  \n684      STANDARD OPTION  \n685      STANDARD OPTION  \n\n[6273 rows x 7 columns]",
      "text/html": "<div>\n<style scoped>\n    .dataframe tbody tr th:only-of-type {\n        vertical-align: middle;\n    }\n\n    .dataframe tbody tr th {\n        vertical-align: top;\n    }\n\n    .dataframe thead th {\n        text-align: right;\n    }\n</style>\n<table border=\"1\" class=\"dataframe\">\n  <thead>\n    <tr style=\"text-align: right;\">\n      <th></th>\n      <th>Year</th>\n      <th>Gender</th>\n      <th>Age_At_Treatment</th>\n      <th>Region_Descr</th>\n      <th>Dpm_Ind</th>\n      <th>Exposure</th>\n      <th>Plan_Name</th>\n    </tr>\n  </thead>\n  <tbody>\n    <tr>\n      <th>0</th>\n      <td>2015</td>\n      <td>F</td>\n      <td>12</td>\n      <td>EASTERN CAPE</td>\n      <td>Group</td>\n      <td>5800</td>\n      <td>NaN</td>\n    </tr>\n    <tr>\n      <th>1</th>\n      <td>2015</td>\n      <td>F</td>\n      <td>12</td>\n      <td>EASTERN CAPE</td>\n      <td>Individual</td>\n      <td>424</td>\n      <td>NaN</td>\n    </tr>\n    <tr>\n      <th>2</th>\n      <td>2015</td>\n      <td>F</td>\n      <td>12</td>\n      <td>FREE STATE</td>\n      <td>Group</td>\n      <td>2717</td>\n      <td>NaN</td>\n    </tr>\n    <tr>\n      <th>3</th>\n      <td>2015</td>\n      <td>F</td>\n      <td>12</td>\n      <td>FREE STATE</td>\n      <td>Individual</td>\n      <td>350</td>\n      <td>NaN</td>\n    </tr>\n    <tr>\n      <th>4</th>\n      <td>2015</td>\n      <td>F</td>\n      <td>12</td>\n      <td>GAUTENG</td>\n      <td>Group</td>\n      <td>18888</td>\n      <td>NaN</td>\n    </tr>\n    <tr>\n      <th>...</th>\n      <td>...</td>\n      <td>...</td>\n      <td>...</td>\n      <td>...</td>\n      <td>...</td>\n      <td>...</td>\n      <td>...</td>\n    </tr>\n    <tr>\n      <th>681</th>\n      <td>2014</td>\n      <td>F</td>\n      <td>60</td>\n      <td>NaN</td>\n      <td>Individual</td>\n      <td>396</td>\n      <td>BonEssential Option</td>\n    </tr>\n    <tr>\n      <th>682</th>\n      <td>2014</td>\n      <td>F</td>\n      <td>60</td>\n      <td>NaN</td>\n      <td>Group</td>\n      <td>2610</td>\n      <td>PRIMARY OPTION</td>\n    </tr>\n    <tr>\n      <th>683</th>\n      <td>2014</td>\n      <td>F</td>\n      <td>60</td>\n      <td>NaN</td>\n      <td>Individual</td>\n      <td>1897</td>\n      <td>PRIMARY OPTION</td>\n    </tr>\n    <tr>\n      <th>684</th>\n      <td>2014</td>\n      <td>F</td>\n      <td>60</td>\n      <td>NaN</td>\n      <td>Group</td>\n      <td>16691</td>\n      <td>STANDARD OPTION</td>\n    </tr>\n    <tr>\n      <th>685</th>\n      <td>2014</td>\n      <td>F</td>\n      <td>60</td>\n      <td>NaN</td>\n      <td>Individual</td>\n      <td>6707</td>\n      <td>STANDARD OPTION</td>\n    </tr>\n  </tbody>\n</table>\n<p>6273 rows × 7 columns</p>\n</div>"
     },
     "metadata": {},
     "execution_count": 13
    }
   ],
   "source": [
    "scheme_A"
   ]
  },
  {
   "cell_type": "markdown",
   "metadata": {},
   "source": [
    "# Breaking Up the Data into Years"
   ]
  },
  {
   "cell_type": "code",
   "execution_count": 14,
   "metadata": {
    "scrolled": false
   },
   "outputs": [
    {
     "output_type": "execute_result",
     "data": {
      "text/plain": "array([2015, 2016, 2017, 2018, 2019, 2013, 2014])"
     },
     "metadata": {},
     "execution_count": 14
    }
   ],
   "source": [
    "scheme_A[\"Year\"].unique()"
   ]
  },
  {
   "cell_type": "code",
   "execution_count": 15,
   "metadata": {},
   "outputs": [],
   "source": [
    "scheme_A_13=scheme_A[scheme_A[\"Year\"]==2013]\n",
    "scheme_A_14=scheme_A[scheme_A[\"Year\"]==2014]\n",
    "scheme_A_15=scheme_A[scheme_A[\"Year\"]==2015]\n",
    "scheme_A_16=scheme_A[scheme_A[\"Year\"]==2016]\n",
    "scheme_A_17=scheme_A[scheme_A[\"Year\"]==2017]\n",
    "scheme_A_18=scheme_A[scheme_A[\"Year\"]==2018]\n",
    "scheme_A_19=scheme_A[scheme_A[\"Year\"]==2019]"
   ]
  },
  {
   "cell_type": "code",
   "execution_count": 16,
   "metadata": {},
   "outputs": [
    {
     "output_type": "execute_result",
     "data": {
      "text/plain": "array([2013, 2014, 2015, 2016, 2017, 2018, 2019, 2020])"
     },
     "metadata": {},
     "execution_count": 16
    }
   ],
   "source": [
    "scheme_B[\"Year\"].unique()"
   ]
  },
  {
   "cell_type": "code",
   "execution_count": 17,
   "metadata": {},
   "outputs": [],
   "source": [
    "scheme_B_13=scheme_B[scheme_B[\"Year\"]==2013]\n",
    "scheme_B_14=scheme_B[scheme_B[\"Year\"]==2014]\n",
    "scheme_B_15=scheme_B[scheme_B[\"Year\"]==2015]\n",
    "scheme_B_16=scheme_B[scheme_B[\"Year\"]==2016]\n",
    "scheme_B_17=scheme_B[scheme_B[\"Year\"]==2017]\n",
    "scheme_B_18=scheme_B[scheme_B[\"Year\"]==2018]\n",
    "scheme_B_19=scheme_B[scheme_B[\"Year\"]==2019]\n",
    "scheme_B_20=scheme_B[scheme_B[\"Year\"]==2020]"
   ]
  },
  {
   "cell_type": "code",
   "execution_count": 18,
   "metadata": {},
   "outputs": [
    {
     "output_type": "execute_result",
     "data": {
      "text/plain": "array([2013, 2014, 2015, 2016, 2017, 2018, 2019, 2020])"
     },
     "metadata": {},
     "execution_count": 18
    }
   ],
   "source": [
    "scheme_C[\"Year\"].unique()"
   ]
  },
  {
   "cell_type": "code",
   "execution_count": 19,
   "metadata": {},
   "outputs": [],
   "source": [
    "scheme_C_13=scheme_C[scheme_C[\"Year\"]==2013]\n",
    "scheme_C_14=scheme_C[scheme_C[\"Year\"]==2014]\n",
    "scheme_C_15=scheme_C[scheme_C[\"Year\"]==2015]\n",
    "scheme_C_16=scheme_C[scheme_C[\"Year\"]==2016]\n",
    "scheme_C_17=scheme_C[scheme_C[\"Year\"]==2017]\n",
    "scheme_C_18=scheme_C[scheme_C[\"Year\"]==2018]\n",
    "scheme_C_19=scheme_C[scheme_C[\"Year\"]==2019]\n",
    "scheme_C_20=scheme_C[scheme_C[\"Year\"]==2020]"
   ]
  },
  {
   "cell_type": "markdown",
   "metadata": {},
   "source": [
    "# Calculating Number of Female Members of Childbearing Age per Year for Each Scheme"
   ]
  },
  {
   "cell_type": "markdown",
   "metadata": {},
   "source": [
    "Scheme A"
   ]
  },
  {
   "cell_type": "code",
   "execution_count": 20,
   "metadata": {
    "scrolled": true
   },
   "outputs": [
    {
     "output_type": "execute_result",
     "data": {
      "text/plain": "{'Number of Female Members in 2013': 230565.5,\n 'Number of Female Members in 2014': 230312.08,\n 'Number of Female Members in 2015': 228383.42,\n 'Number of Female Members in 2016': 226262.5,\n 'Number of Female Members in 2017': 252395.25,\n 'Number of Female Members in 2018': 245989.42,\n 'Number of Female Members in 2019': 248636.5}"
     },
     "metadata": {},
     "execution_count": 20
    }
   ],
   "source": [
    "{\n",
    "    'Number of Female Members in 2013':round((scheme_A_13[\"Exposure\"].sum())/12,2),\n",
    "    'Number of Female Members in 2014':round((scheme_A_14[\"Exposure\"].sum())/12,2),\n",
    "    'Number of Female Members in 2015':round((scheme_A_15[\"Exposure\"].sum())/12,2),\n",
    "    'Number of Female Members in 2016':round((scheme_A_16[\"Exposure\"].sum())/12,2),\n",
    "    'Number of Female Members in 2017':round((scheme_A_17[\"Exposure\"].sum())/12,2),\n",
    "    'Number of Female Members in 2018':round((scheme_A_18[\"Exposure\"].sum())/12,2),\n",
    "    'Number of Female Members in 2019':round((scheme_A_19[\"Exposure\"].sum())/12,2),\n",
    "}"
   ]
  },
  {
   "cell_type": "code",
   "execution_count": 21,
   "metadata": {
    "tags": []
   },
   "outputs": [
    {
     "output_type": "stream",
     "name": "stdout",
     "text": "Average Number of Members per Year : 237506.38\n"
    }
   ],
   "source": [
    "print(f'Average Number of Members per Year : {round(((scheme_A_13[\"Exposure\"].sum())/12+(scheme_A_14[\"Exposure\"].sum())/12+(scheme_A_15[\"Exposure\"].sum())/12+(scheme_A_16[\"Exposure\"].sum())/12+(scheme_A_17[\"Exposure\"].sum())/12+(scheme_A_18[\"Exposure\"].sum())/12+(scheme_A_19[\"Exposure\"].sum())/12)/7,2)}')"
   ]
  },
  {
   "cell_type": "markdown",
   "metadata": {},
   "source": [
    "Scheme B"
   ]
  },
  {
   "cell_type": "code",
   "execution_count": 22,
   "metadata": {},
   "outputs": [
    {
     "output_type": "execute_result",
     "data": {
      "text/plain": "{'Number of Female Members in 2013': 52973.25,\n 'Number of Female Members in 2014': 52719.67,\n 'Number of Female Members in 2015': 50461.25,\n 'Number of Female Members in 2016': 49776.92,\n 'Number of Female Members in 2017': 48847.17,\n 'Number of Female Members in 2018': 48259.25,\n 'Number of Female Members in 2019': 48258.33}"
     },
     "metadata": {},
     "execution_count": 22
    }
   ],
   "source": [
    "{\n",
    "    'Number of Female Members in 2013':round((scheme_B_13[\"Exposure\"].sum())/12,2),\n",
    "    'Number of Female Members in 2014':round((scheme_B_14[\"Exposure\"].sum())/12,2),\n",
    "    'Number of Female Members in 2015':round((scheme_B_15[\"Exposure\"].sum())/12,2),\n",
    "    'Number of Female Members in 2016':round((scheme_B_16[\"Exposure\"].sum())/12,2),\n",
    "    'Number of Female Members in 2017':round((scheme_B_17[\"Exposure\"].sum())/12,2),\n",
    "    'Number of Female Members in 2018':round((scheme_B_18[\"Exposure\"].sum())/12,2),\n",
    "    'Number of Female Members in 2019':round((scheme_B_19[\"Exposure\"].sum())/12,2),\n",
    "}"
   ]
  },
  {
   "cell_type": "code",
   "execution_count": 23,
   "metadata": {
    "tags": []
   },
   "outputs": [
    {
     "output_type": "stream",
     "name": "stdout",
     "text": "Average Number of Members per Year : 50185.12\n"
    }
   ],
   "source": [
    "print(f'Average Number of Members per Year : {round(((scheme_B_13[\"Exposure\"].sum())/12+(scheme_B_14[\"Exposure\"].sum())/12+(scheme_B_15[\"Exposure\"].sum())/12+(scheme_B_16[\"Exposure\"].sum())/12+(scheme_B_17[\"Exposure\"].sum())/12+(scheme_B_18[\"Exposure\"].sum())/12+(scheme_B_19[\"Exposure\"].sum())/12)/7,2)}')"
   ]
  },
  {
   "cell_type": "markdown",
   "metadata": {},
   "source": [
    "Scheme C"
   ]
  },
  {
   "cell_type": "code",
   "execution_count": 24,
   "metadata": {},
   "outputs": [
    {
     "output_type": "execute_result",
     "data": {
      "text/plain": "{'Number of Female Members in 2013': 26125.83,\n 'Number of Female Members in 2014': 26081.67,\n 'Number of Female Members in 2015': 24985.42,\n 'Number of Female Members in 2016': 24777.0,\n 'Number of Female Members in 2017': 25216.5,\n 'Number of Female Members in 2018': 25416.75,\n 'Number of Female Members in 2019': 25443.25}"
     },
     "metadata": {},
     "execution_count": 24
    }
   ],
   "source": [
    "{\n",
    "    'Number of Female Members in 2013':round((scheme_C_13[\"Exposure\"].sum())/12,2),\n",
    "    'Number of Female Members in 2014':round((scheme_C_14[\"Exposure\"].sum())/12,2),\n",
    "    'Number of Female Members in 2015':round((scheme_C_15[\"Exposure\"].sum())/12,2),\n",
    "    'Number of Female Members in 2016':round((scheme_C_16[\"Exposure\"].sum())/12,2),\n",
    "    'Number of Female Members in 2017':round((scheme_C_17[\"Exposure\"].sum())/12,2),\n",
    "    'Number of Female Members in 2018':round((scheme_C_18[\"Exposure\"].sum())/12,2),\n",
    "    'Number of Female Members in 2019':round((scheme_C_19[\"Exposure\"].sum())/12,2),\n",
    "}"
   ]
  },
  {
   "cell_type": "code",
   "execution_count": 25,
   "metadata": {
    "tags": []
   },
   "outputs": [
    {
     "output_type": "stream",
     "name": "stdout",
     "text": "Average Number of Members per Year : 25435.2\n"
    }
   ],
   "source": [
    "print(f'Average Number of Members per Year : {round(((scheme_C_13[\"Exposure\"].sum())/12+(scheme_C_14[\"Exposure\"].sum())/12+(scheme_C_15[\"Exposure\"].sum())/12+(scheme_C_16[\"Exposure\"].sum())/12+(scheme_C_17[\"Exposure\"].sum())/12+(scheme_C_18[\"Exposure\"].sum())/12+(scheme_C_19[\"Exposure\"].sum())/12)/7,2)}')"
   ]
  },
  {
   "cell_type": "markdown",
   "metadata": {},
   "source": [
    "# Calculating Number of Members per Year for All Schemes"
   ]
  },
  {
   "cell_type": "code",
   "execution_count": 26,
   "metadata": {},
   "outputs": [],
   "source": [
    "data=pd.concat(objs=[scheme_A,scheme_B,scheme_C])"
   ]
  },
  {
   "cell_type": "code",
   "execution_count": 27,
   "metadata": {},
   "outputs": [],
   "source": [
    "data_13=data[data[\"Year\"]==2013]\n",
    "data_14=data[data[\"Year\"]==2014]\n",
    "data_15=data[data[\"Year\"]==2015]\n",
    "data_16=data[data[\"Year\"]==2016]\n",
    "data_17=data[data[\"Year\"]==2017]\n",
    "data_18=data[data[\"Year\"]==2018]\n",
    "data_19=data[data[\"Year\"]==2019]"
   ]
  },
  {
   "cell_type": "code",
   "execution_count": 28,
   "metadata": {},
   "outputs": [
    {
     "output_type": "execute_result",
     "data": {
      "text/plain": "{'Number of Female Members in 2013': 309664.58,\n 'Number of Female Members in 2014': 309113.42,\n 'Number of Female Members in 2015': 303830.08,\n 'Number of Female Members in 2016': 300816.42,\n 'Number of Female Members in 2017': 326458.92,\n 'Number of Female Members in 2018': 319665.42,\n 'Number of Female Members in 2019': 322338.08}"
     },
     "metadata": {},
     "execution_count": 28
    }
   ],
   "source": [
    "{\n",
    "    'Number of Female Members in 2013':round((data_13[\"Exposure\"].sum())/12,2),\n",
    "    'Number of Female Members in 2014':round((data_14[\"Exposure\"].sum())/12,2),\n",
    "    'Number of Female Members in 2015':round((data_15[\"Exposure\"].sum())/12,2),\n",
    "    'Number of Female Members in 2016':round((data_16[\"Exposure\"].sum())/12,2),\n",
    "    'Number of Female Members in 2017':round((data_17[\"Exposure\"].sum())/12,2),\n",
    "    'Number of Female Members in 2018':round((data_18[\"Exposure\"].sum())/12,2),\n",
    "    'Number of Female Members in 2019':round((data_19[\"Exposure\"].sum())/12,2),\n",
    "}"
   ]
  },
  {
   "cell_type": "code",
   "execution_count": 29,
   "metadata": {
    "tags": []
   },
   "outputs": [
    {
     "output_type": "stream",
     "name": "stdout",
     "text": "Average Number of Members per Year : 313126.7\n"
    }
   ],
   "source": [
    "print(f'Average Number of Members per Year : {round(((data_13[\"Exposure\"].sum())/12+(data_14[\"Exposure\"].sum())/12+(data_15[\"Exposure\"].sum())/12+(data_16[\"Exposure\"].sum())/12+(data_17[\"Exposure\"].sum())/12+(data_18[\"Exposure\"].sum())/12+(data_19[\"Exposure\"].sum())/12)/7,2)}')\n"
   ]
  },
  {
   "cell_type": "code",
   "execution_count": null,
   "metadata": {},
   "outputs": [],
   "source": []
  }
 ],
 "metadata": {
  "kernelspec": {
   "display_name": "Python 3.8.3 64-bit ('pandas_playground': conda)",
   "language": "python",
   "name": "python38364bitpandasplaygroundconda84a10f80b1fd4332ae3de9b6c1656e8d"
  },
  "language_info": {
   "codemirror_mode": {
    "name": "ipython",
    "version": 3
   },
   "file_extension": ".py",
   "mimetype": "text/x-python",
   "name": "python",
   "nbconvert_exporter": "python",
   "pygments_lexer": "ipython3",
   "version": "3.8.3-final"
  }
 },
 "nbformat": 4,
 "nbformat_minor": 4
}