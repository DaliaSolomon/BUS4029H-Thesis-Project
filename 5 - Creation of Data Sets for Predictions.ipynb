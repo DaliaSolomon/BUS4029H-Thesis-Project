{
 "metadata": {
  "language_info": {
   "codemirror_mode": {
    "name": "ipython",
    "version": 3
   },
   "file_extension": ".py",
   "mimetype": "text/x-python",
   "name": "python",
   "nbconvert_exporter": "python",
   "pygments_lexer": "ipython3",
   "version": "3.7.6-final"
  },
  "orig_nbformat": 2,
  "kernelspec": {
   "name": "python3",
   "display_name": "Python 3"
  }
 },
 "nbformat": 4,
 "nbformat_minor": 2,
 "cells": [
  {
   "cell_type": "code",
   "execution_count": 1,
   "metadata": {},
   "outputs": [],
   "source": [
    "import pandas as pd\n",
    "import matplotlib.pyplot as plt\n",
    "import numpy as np\n",
    "%matplotlib inline\n",
    "\n",
    "from scipy.stats import zscore"
   ]
  },
  {
   "cell_type": "code",
   "execution_count": 2,
   "metadata": {},
   "outputs": [],
   "source": [
    "data=pd.read_excel(\"All_Schemes_Data_Broken_Into_Mom_And_Baby.xlsx\", sheet_name=\"Mom_Data\",index_col=[0,1])"
   ]
  },
  {
   "cell_type": "markdown",
   "metadata": {},
   "source": [
    "# Removing Outlires\n"
   ]
  },
  {
   "cell_type": "code",
   "execution_count": 3,
   "metadata": {},
   "outputs": [],
   "source": [
    "adm_cat=data.groupby(\"Admission_Category\")\n",
    "Natural=adm_cat.get_group(\"Normal Delivery\")\n",
    "Caesarean=adm_cat.get_group(\"Caesarean Delivery\")"
   ]
  },
  {
   "cell_type": "code",
   "execution_count": 4,
   "metadata": {},
   "outputs": [],
   "source": [
    "total_cost_df_Normal=Natural[\"Total_Cost\"]\n",
    "total_cost_df_Caesarean=Caesarean[\"Total_Cost\"]"
   ]
  },
  {
   "cell_type": "code",
   "execution_count": 5,
   "metadata": {},
   "outputs": [
    {
     "output_type": "execute_result",
     "data": {
      "text/plain": "                    Scheme_Code  Plan_Key  Authorization_Key  Stg_Has_Key  \\\n         admit_year                                                         \nScheme A 2013               BON      20.0        769012710.0    337573074   \n         2013               BON      20.0        768751860.0    337574069   \n         2013               BON      20.0        825871979.0    337574855   \n         2013               BON      20.0        850562974.0    443087111   \n         2013               BON      20.0        768778906.0    426326981   \n...                         ...       ...                ...          ...   \nScheme_C 2019                 C     731.0        912280411.0    672346712   \n         2020                 C     731.0        913123197.0    698088738   \n         2020                 C     731.0        913251585.0    700772846   \n         2020                 C     731.0        912910930.0    690643272   \n         2020                 C     731.0        913063789.0    699526386   \n\n                      Member_Key  Beneficiary_Number Admission_Category  \\\n         admit_year                                                       \nScheme A 2013         2000156110                   2    Normal Delivery   \n         2013         2000230971                   4    Normal Delivery   \n         2013         2000282455                   2    Normal Delivery   \n         2013         2000382489                   3    Normal Delivery   \n         2013         2000422909                   1    Normal Delivery   \n...                          ...                 ...                ...   \nScheme_C 2019        88100660489                   1    Normal Delivery   \n         2020        88100661976                   0    Normal Delivery   \n         2020        88100662030                   3    Normal Delivery   \n         2020        88100668948                   1    Normal Delivery   \n         2020        88100669882                   1    Normal Delivery   \n\n                    Date_Of_Birth  Admit_Month  Age_At_Treatment  ...  \\\n         admit_year                                               ...   \nScheme A 2013          1994-05-05       201303                18  ...   \n         2013          1992-11-21       201301                20  ...   \n         2013          1992-05-17       201304                20  ...   \n         2013          1994-05-11       201310                19  ...   \n         2013          1993-07-12       201304                19  ...   \n...                           ...          ...               ...  ...   \nScheme_C 2019          1993-03-25       201907                26  ...   \n         2020          1994-04-02       202002                25  ...   \n         2020          1991-08-28       202003                28  ...   \n         2020          1988-03-21       202001                31  ...   \n         2020          1988-06-28       202002                31  ...   \n\n                    Pharmacy_Amt Age_Group Pulse_Paypoint_Code  Dpm_Ind  \\\n         admit_year                                                       \nScheme A 2013               0.00   16 - 20           BON033GDE    Group   \n         2013               0.00   16 - 20           BON001JHM    Group   \n         2013              84.68   16 - 20           BON001JHM    Group   \n         2013               0.00   16 - 20           BON004PEM    Group   \n         2013               0.00   16 - 20           BON050NEN    Group   \n...                          ...       ...                 ...      ...   \nScheme_C 2019            1023.01   26 - 30           SMD003SMI    Group   \n         2020             304.67   21 - 25           SMD003SYN    Group   \n         2020             179.74   26 - 30           SMD004CHE    Group   \n         2020             162.47   31 - 35           SMD003SYN    Group   \n         2020               0.00   31 - 35           SMD011MIN    Group   \n\n                    Beneficiary_Type        Plan_Name  Pmb_Eligible  \\\n         admit_year                                                   \nScheme A 2013                   CHIL  STANDARD OPTION             Y   \n         2013                   CHIL  STANDARD OPTION             Y   \n         2013                   CHIL  STANDARD OPTION             Y   \n         2013                   CHIL  STANDARD OPTION             Y   \n         2013                   CHIL  STANDARD OPTION             Y   \n...                              ...              ...           ...   \nScheme_C 2019                   ADUL         SASOLMED             Y   \n         2020                   MEMB         SASOLMED             Y   \n         2020                   ADUL         SASOLMED             Y   \n         2020                   ADUL         SASOLMED             Y   \n         2020                   ADUL         SASOLMED             Y   \n\n                     Magisterial_District_Descr  Region_Descr      Member_ID  \n         admit_year                                                           \nScheme A 2013                          MAMELODI       GAUTENG   2000156110-2  \n         2013                     HALFWAY HOUSE       GAUTENG   2000230971-4  \n         2013                      JOHANNESBURG       GAUTENG   2000282455-2  \n         2013                      NEW BRIGHTON  EASTERN CAPE   2000382489-3  \n         2013                  SCHWEIZER-RENEKE    NORTH WEST   2000422909-1  \n...                                         ...           ...            ...  \nScheme_C 2019                  BRONKHORSTSPRUIT       GAUTENG  88100660489-1  \n         2020                        MPUMALANGA    MPUMALANGA  88100661976-0  \n         2020                        EMBALENHLE    MPUMALANGA  88100662030-3  \n         2020                        EMBALENHLE    MPUMALANGA  88100668948-1  \n         2020                        STANDERTON    MPUMALANGA  88100669882-1  \n\n[21145 rows x 31 columns]",
      "text/html": "<div>\n<style scoped>\n    .dataframe tbody tr th:only-of-type {\n        vertical-align: middle;\n    }\n\n    .dataframe tbody tr th {\n        vertical-align: top;\n    }\n\n    .dataframe thead th {\n        text-align: right;\n    }\n</style>\n<table border=\"1\" class=\"dataframe\">\n  <thead>\n    <tr style=\"text-align: right;\">\n      <th></th>\n      <th></th>\n      <th>Scheme_Code</th>\n      <th>Plan_Key</th>\n      <th>Authorization_Key</th>\n      <th>Stg_Has_Key</th>\n      <th>Member_Key</th>\n      <th>Beneficiary_Number</th>\n      <th>Admission_Category</th>\n      <th>Date_Of_Birth</th>\n      <th>Admit_Month</th>\n      <th>Age_At_Treatment</th>\n      <th>...</th>\n      <th>Pharmacy_Amt</th>\n      <th>Age_Group</th>\n      <th>Pulse_Paypoint_Code</th>\n      <th>Dpm_Ind</th>\n      <th>Beneficiary_Type</th>\n      <th>Plan_Name</th>\n      <th>Pmb_Eligible</th>\n      <th>Magisterial_District_Descr</th>\n      <th>Region_Descr</th>\n      <th>Member_ID</th>\n    </tr>\n    <tr>\n      <th></th>\n      <th>admit_year</th>\n      <th></th>\n      <th></th>\n      <th></th>\n      <th></th>\n      <th></th>\n      <th></th>\n      <th></th>\n      <th></th>\n      <th></th>\n      <th></th>\n      <th></th>\n      <th></th>\n      <th></th>\n      <th></th>\n      <th></th>\n      <th></th>\n      <th></th>\n      <th></th>\n      <th></th>\n      <th></th>\n      <th></th>\n    </tr>\n  </thead>\n  <tbody>\n    <tr>\n      <th rowspan=\"5\" valign=\"top\">Scheme A</th>\n      <th>2013</th>\n      <td>BON</td>\n      <td>20.0</td>\n      <td>769012710.0</td>\n      <td>337573074</td>\n      <td>2000156110</td>\n      <td>2</td>\n      <td>Normal Delivery</td>\n      <td>1994-05-05</td>\n      <td>201303</td>\n      <td>18</td>\n      <td>...</td>\n      <td>0.00</td>\n      <td>16 - 20</td>\n      <td>BON033GDE</td>\n      <td>Group</td>\n      <td>CHIL</td>\n      <td>STANDARD OPTION</td>\n      <td>Y</td>\n      <td>MAMELODI</td>\n      <td>GAUTENG</td>\n      <td>2000156110-2</td>\n    </tr>\n    <tr>\n      <th>2013</th>\n      <td>BON</td>\n      <td>20.0</td>\n      <td>768751860.0</td>\n      <td>337574069</td>\n      <td>2000230971</td>\n      <td>4</td>\n      <td>Normal Delivery</td>\n      <td>1992-11-21</td>\n      <td>201301</td>\n      <td>20</td>\n      <td>...</td>\n      <td>0.00</td>\n      <td>16 - 20</td>\n      <td>BON001JHM</td>\n      <td>Group</td>\n      <td>CHIL</td>\n      <td>STANDARD OPTION</td>\n      <td>Y</td>\n      <td>HALFWAY HOUSE</td>\n      <td>GAUTENG</td>\n      <td>2000230971-4</td>\n    </tr>\n    <tr>\n      <th>2013</th>\n      <td>BON</td>\n      <td>20.0</td>\n      <td>825871979.0</td>\n      <td>337574855</td>\n      <td>2000282455</td>\n      <td>2</td>\n      <td>Normal Delivery</td>\n      <td>1992-05-17</td>\n      <td>201304</td>\n      <td>20</td>\n      <td>...</td>\n      <td>84.68</td>\n      <td>16 - 20</td>\n      <td>BON001JHM</td>\n      <td>Group</td>\n      <td>CHIL</td>\n      <td>STANDARD OPTION</td>\n      <td>Y</td>\n      <td>JOHANNESBURG</td>\n      <td>GAUTENG</td>\n      <td>2000282455-2</td>\n    </tr>\n    <tr>\n      <th>2013</th>\n      <td>BON</td>\n      <td>20.0</td>\n      <td>850562974.0</td>\n      <td>443087111</td>\n      <td>2000382489</td>\n      <td>3</td>\n      <td>Normal Delivery</td>\n      <td>1994-05-11</td>\n      <td>201310</td>\n      <td>19</td>\n      <td>...</td>\n      <td>0.00</td>\n      <td>16 - 20</td>\n      <td>BON004PEM</td>\n      <td>Group</td>\n      <td>CHIL</td>\n      <td>STANDARD OPTION</td>\n      <td>Y</td>\n      <td>NEW BRIGHTON</td>\n      <td>EASTERN CAPE</td>\n      <td>2000382489-3</td>\n    </tr>\n    <tr>\n      <th>2013</th>\n      <td>BON</td>\n      <td>20.0</td>\n      <td>768778906.0</td>\n      <td>426326981</td>\n      <td>2000422909</td>\n      <td>1</td>\n      <td>Normal Delivery</td>\n      <td>1993-07-12</td>\n      <td>201304</td>\n      <td>19</td>\n      <td>...</td>\n      <td>0.00</td>\n      <td>16 - 20</td>\n      <td>BON050NEN</td>\n      <td>Group</td>\n      <td>CHIL</td>\n      <td>STANDARD OPTION</td>\n      <td>Y</td>\n      <td>SCHWEIZER-RENEKE</td>\n      <td>NORTH WEST</td>\n      <td>2000422909-1</td>\n    </tr>\n    <tr>\n      <th>...</th>\n      <th>...</th>\n      <td>...</td>\n      <td>...</td>\n      <td>...</td>\n      <td>...</td>\n      <td>...</td>\n      <td>...</td>\n      <td>...</td>\n      <td>...</td>\n      <td>...</td>\n      <td>...</td>\n      <td>...</td>\n      <td>...</td>\n      <td>...</td>\n      <td>...</td>\n      <td>...</td>\n      <td>...</td>\n      <td>...</td>\n      <td>...</td>\n      <td>...</td>\n      <td>...</td>\n      <td>...</td>\n    </tr>\n    <tr>\n      <th rowspan=\"5\" valign=\"top\">Scheme_C</th>\n      <th>2019</th>\n      <td>C</td>\n      <td>731.0</td>\n      <td>912280411.0</td>\n      <td>672346712</td>\n      <td>88100660489</td>\n      <td>1</td>\n      <td>Normal Delivery</td>\n      <td>1993-03-25</td>\n      <td>201907</td>\n      <td>26</td>\n      <td>...</td>\n      <td>1023.01</td>\n      <td>26 - 30</td>\n      <td>SMD003SMI</td>\n      <td>Group</td>\n      <td>ADUL</td>\n      <td>SASOLMED</td>\n      <td>Y</td>\n      <td>BRONKHORSTSPRUIT</td>\n      <td>GAUTENG</td>\n      <td>88100660489-1</td>\n    </tr>\n    <tr>\n      <th>2020</th>\n      <td>C</td>\n      <td>731.0</td>\n      <td>913123197.0</td>\n      <td>698088738</td>\n      <td>88100661976</td>\n      <td>0</td>\n      <td>Normal Delivery</td>\n      <td>1994-04-02</td>\n      <td>202002</td>\n      <td>25</td>\n      <td>...</td>\n      <td>304.67</td>\n      <td>21 - 25</td>\n      <td>SMD003SYN</td>\n      <td>Group</td>\n      <td>MEMB</td>\n      <td>SASOLMED</td>\n      <td>Y</td>\n      <td>MPUMALANGA</td>\n      <td>MPUMALANGA</td>\n      <td>88100661976-0</td>\n    </tr>\n    <tr>\n      <th>2020</th>\n      <td>C</td>\n      <td>731.0</td>\n      <td>913251585.0</td>\n      <td>700772846</td>\n      <td>88100662030</td>\n      <td>3</td>\n      <td>Normal Delivery</td>\n      <td>1991-08-28</td>\n      <td>202003</td>\n      <td>28</td>\n      <td>...</td>\n      <td>179.74</td>\n      <td>26 - 30</td>\n      <td>SMD004CHE</td>\n      <td>Group</td>\n      <td>ADUL</td>\n      <td>SASOLMED</td>\n      <td>Y</td>\n      <td>EMBALENHLE</td>\n      <td>MPUMALANGA</td>\n      <td>88100662030-3</td>\n    </tr>\n    <tr>\n      <th>2020</th>\n      <td>C</td>\n      <td>731.0</td>\n      <td>912910930.0</td>\n      <td>690643272</td>\n      <td>88100668948</td>\n      <td>1</td>\n      <td>Normal Delivery</td>\n      <td>1988-03-21</td>\n      <td>202001</td>\n      <td>31</td>\n      <td>...</td>\n      <td>162.47</td>\n      <td>31 - 35</td>\n      <td>SMD003SYN</td>\n      <td>Group</td>\n      <td>ADUL</td>\n      <td>SASOLMED</td>\n      <td>Y</td>\n      <td>EMBALENHLE</td>\n      <td>MPUMALANGA</td>\n      <td>88100668948-1</td>\n    </tr>\n    <tr>\n      <th>2020</th>\n      <td>C</td>\n      <td>731.0</td>\n      <td>913063789.0</td>\n      <td>699526386</td>\n      <td>88100669882</td>\n      <td>1</td>\n      <td>Normal Delivery</td>\n      <td>1988-06-28</td>\n      <td>202002</td>\n      <td>31</td>\n      <td>...</td>\n      <td>0.00</td>\n      <td>31 - 35</td>\n      <td>SMD011MIN</td>\n      <td>Group</td>\n      <td>ADUL</td>\n      <td>SASOLMED</td>\n      <td>Y</td>\n      <td>STANDERTON</td>\n      <td>MPUMALANGA</td>\n      <td>88100669882-1</td>\n    </tr>\n  </tbody>\n</table>\n<p>21145 rows × 31 columns</p>\n</div>"
     },
     "metadata": {},
     "execution_count": 5
    }
   ],
   "source": [
    "z_scores = zscore(total_cost_df_Normal)\n",
    "abs_z_scores = np.abs(z_scores)\n",
    "filtered_entries = (abs_z_scores < 3)\n",
    "Natural = Natural[filtered_entries]\n",
    "Natural"
   ]
  },
  {
   "cell_type": "code",
   "execution_count": 6,
   "metadata": {},
   "outputs": [
    {
     "output_type": "execute_result",
     "data": {
      "text/plain": "                    Scheme_Code  Plan_Key  Authorization_Key  Stg_Has_Key  \\\n         admit_year                                                         \nScheme A 2013               BON      20.0        769252214.0    425810854   \n         2013               BON      20.0        770333964.0    426326697   \n         2013               BON      20.0        769170413.0    337573090   \n         2013               BON      20.0        825623065.0    426069394   \n         2013               BON      20.0        850630482.0    442210545   \n...                         ...       ...                ...          ...   \nScheme_C 2019                 C     731.0        912758943.0    688172698   \n         2020                 C     731.0        913026937.0    701398244   \n         2019                 C     731.0        912810835.0    687097784   \n         2020                 C     731.0        913064135.0    699526385   \n         2020                 C     731.0        913176090.0    702333359   \n\n                      Member_Key  Beneficiary_Number  Admission_Category  \\\n         admit_year                                                        \nScheme A 2013         2000141125                   2  Caesarean Delivery   \n         2013         2000149969                   5  Caesarean Delivery   \n         2013         2000157858                   1  Caesarean Delivery   \n         2013         2000173667                   4  Caesarean Delivery   \n         2013         2000238461                   4  Caesarean Delivery   \n...                          ...                 ...                 ...   \nScheme_C 2019        88100666452                   2  Caesarean Delivery   \n         2020        88100666854                   0  Caesarean Delivery   \n         2019        88100667705                   1  Caesarean Delivery   \n         2020        88100668742                   2  Caesarean Delivery   \n         2020        88100669260                   1  Caesarean Delivery   \n\n                    Date_Of_Birth  Admit_Month  Age_At_Treatment  ...  \\\n         admit_year                                               ...   \nScheme A 2013          1984-05-16       201304                28  ...   \n         2013          1994-11-14       201302                18  ...   \n         2013          1995-02-21       201302                18  ...   \n         2013          1987-12-04       201305                25  ...   \n         2013          1982-08-05       201311                31  ...   \n...                           ...          ...               ...  ...   \nScheme_C 2019          1993-01-19       201912                26  ...   \n         2020          1982-08-23       202002                37  ...   \n         2019          1988-02-02       201911                31  ...   \n         2020          1997-08-17       202002                22  ...   \n         2020          1998-10-18       202003                21  ...   \n\n                    Pharmacy_Amt Age_Group Pulse_Paypoint_Code     Dpm_Ind  \\\n         admit_year                                                          \nScheme A 2013               0.00   26 - 30           BON019KHG       Group   \n         2013               0.00   16 - 20           BON004QUE       Group   \n         2013               0.00   16 - 20           BON019NPE       Group   \n         2013               0.00   21 - 25           BON056EDW       Group   \n         2013               0.00   31 - 35           BON002STE       Group   \n...                          ...       ...                 ...         ...   \nScheme_C 2019             478.51   26 - 30           SMD011MIN       Group   \n         2020             132.39   36 - 40           SMD009DP1  Individual   \n         2019             251.14   31 - 35           SMD011MIN       Group   \n         2020             252.52   21 - 25           SMD004CHE       Group   \n         2020             210.07   21 - 25           SMD011MIN       Group   \n\n                    Beneficiary_Type        Plan_Name  Pmb_Eligible  \\\n         admit_year                                                   \nScheme A 2013                   ADUL  STANDARD OPTION             Y   \n         2013                   CHIL  STANDARD OPTION             Y   \n         2013                   CHIL  STANDARD OPTION             Y   \n         2013                   ADUL  STANDARD OPTION             Y   \n         2013                   ADUL  STANDARD OPTION             Y   \n...                              ...              ...           ...   \nScheme_C 2019                   ADUL         SASOLMED             Y   \n         2020                   MEMB         SASOLMED             Y   \n         2019                   ADUL         SASOLMED             Y   \n         2020                   ADUL         SASOLMED             Y   \n         2020                   ADUL         SASOLMED             Y   \n\n                     Magisterial_District_Descr   Region_Descr      Member_ID  \n         admit_year                                                            \nScheme A 2013                          ISIPINGO  KWAZULU NATAL   2000141125-2  \n         2013                        QUEENSTOWN   EASTERN CAPE   2000149969-5  \n         2013                  PIETERMARITZBURG  KWAZULU NATAL   2000157858-1  \n         2013                            LETABA        LIMPOPO   2000173667-4  \n         2013                         LADYSMITH  KWAZULU NATAL   2000238461-4  \n...                                         ...            ...            ...  \nScheme_C 2019                           SECUNDA     MPUMALANGA  88100666452-2  \n         2020                         CAPE TOWN   WESTERN CAPE  88100666854-0  \n         2019                           SECUNDA     MPUMALANGA  88100667705-1  \n         2020                        STANDERTON     MPUMALANGA  88100668742-2  \n         2020                            ERMELO     MPUMALANGA  88100669260-1  \n\n[59010 rows x 31 columns]",
      "text/html": "<div>\n<style scoped>\n    .dataframe tbody tr th:only-of-type {\n        vertical-align: middle;\n    }\n\n    .dataframe tbody tr th {\n        vertical-align: top;\n    }\n\n    .dataframe thead th {\n        text-align: right;\n    }\n</style>\n<table border=\"1\" class=\"dataframe\">\n  <thead>\n    <tr style=\"text-align: right;\">\n      <th></th>\n      <th></th>\n      <th>Scheme_Code</th>\n      <th>Plan_Key</th>\n      <th>Authorization_Key</th>\n      <th>Stg_Has_Key</th>\n      <th>Member_Key</th>\n      <th>Beneficiary_Number</th>\n      <th>Admission_Category</th>\n      <th>Date_Of_Birth</th>\n      <th>Admit_Month</th>\n      <th>Age_At_Treatment</th>\n      <th>...</th>\n      <th>Pharmacy_Amt</th>\n      <th>Age_Group</th>\n      <th>Pulse_Paypoint_Code</th>\n      <th>Dpm_Ind</th>\n      <th>Beneficiary_Type</th>\n      <th>Plan_Name</th>\n      <th>Pmb_Eligible</th>\n      <th>Magisterial_District_Descr</th>\n      <th>Region_Descr</th>\n      <th>Member_ID</th>\n    </tr>\n    <tr>\n      <th></th>\n      <th>admit_year</th>\n      <th></th>\n      <th></th>\n      <th></th>\n      <th></th>\n      <th></th>\n      <th></th>\n      <th></th>\n      <th></th>\n      <th></th>\n      <th></th>\n      <th></th>\n      <th></th>\n      <th></th>\n      <th></th>\n      <th></th>\n      <th></th>\n      <th></th>\n      <th></th>\n      <th></th>\n      <th></th>\n      <th></th>\n    </tr>\n  </thead>\n  <tbody>\n    <tr>\n      <th rowspan=\"5\" valign=\"top\">Scheme A</th>\n      <th>2013</th>\n      <td>BON</td>\n      <td>20.0</td>\n      <td>769252214.0</td>\n      <td>425810854</td>\n      <td>2000141125</td>\n      <td>2</td>\n      <td>Caesarean Delivery</td>\n      <td>1984-05-16</td>\n      <td>201304</td>\n      <td>28</td>\n      <td>...</td>\n      <td>0.00</td>\n      <td>26 - 30</td>\n      <td>BON019KHG</td>\n      <td>Group</td>\n      <td>ADUL</td>\n      <td>STANDARD OPTION</td>\n      <td>Y</td>\n      <td>ISIPINGO</td>\n      <td>KWAZULU NATAL</td>\n      <td>2000141125-2</td>\n    </tr>\n    <tr>\n      <th>2013</th>\n      <td>BON</td>\n      <td>20.0</td>\n      <td>770333964.0</td>\n      <td>426326697</td>\n      <td>2000149969</td>\n      <td>5</td>\n      <td>Caesarean Delivery</td>\n      <td>1994-11-14</td>\n      <td>201302</td>\n      <td>18</td>\n      <td>...</td>\n      <td>0.00</td>\n      <td>16 - 20</td>\n      <td>BON004QUE</td>\n      <td>Group</td>\n      <td>CHIL</td>\n      <td>STANDARD OPTION</td>\n      <td>Y</td>\n      <td>QUEENSTOWN</td>\n      <td>EASTERN CAPE</td>\n      <td>2000149969-5</td>\n    </tr>\n    <tr>\n      <th>2013</th>\n      <td>BON</td>\n      <td>20.0</td>\n      <td>769170413.0</td>\n      <td>337573090</td>\n      <td>2000157858</td>\n      <td>1</td>\n      <td>Caesarean Delivery</td>\n      <td>1995-02-21</td>\n      <td>201302</td>\n      <td>18</td>\n      <td>...</td>\n      <td>0.00</td>\n      <td>16 - 20</td>\n      <td>BON019NPE</td>\n      <td>Group</td>\n      <td>CHIL</td>\n      <td>STANDARD OPTION</td>\n      <td>Y</td>\n      <td>PIETERMARITZBURG</td>\n      <td>KWAZULU NATAL</td>\n      <td>2000157858-1</td>\n    </tr>\n    <tr>\n      <th>2013</th>\n      <td>BON</td>\n      <td>20.0</td>\n      <td>825623065.0</td>\n      <td>426069394</td>\n      <td>2000173667</td>\n      <td>4</td>\n      <td>Caesarean Delivery</td>\n      <td>1987-12-04</td>\n      <td>201305</td>\n      <td>25</td>\n      <td>...</td>\n      <td>0.00</td>\n      <td>21 - 25</td>\n      <td>BON056EDW</td>\n      <td>Group</td>\n      <td>ADUL</td>\n      <td>STANDARD OPTION</td>\n      <td>Y</td>\n      <td>LETABA</td>\n      <td>LIMPOPO</td>\n      <td>2000173667-4</td>\n    </tr>\n    <tr>\n      <th>2013</th>\n      <td>BON</td>\n      <td>20.0</td>\n      <td>850630482.0</td>\n      <td>442210545</td>\n      <td>2000238461</td>\n      <td>4</td>\n      <td>Caesarean Delivery</td>\n      <td>1982-08-05</td>\n      <td>201311</td>\n      <td>31</td>\n      <td>...</td>\n      <td>0.00</td>\n      <td>31 - 35</td>\n      <td>BON002STE</td>\n      <td>Group</td>\n      <td>ADUL</td>\n      <td>STANDARD OPTION</td>\n      <td>Y</td>\n      <td>LADYSMITH</td>\n      <td>KWAZULU NATAL</td>\n      <td>2000238461-4</td>\n    </tr>\n    <tr>\n      <th>...</th>\n      <th>...</th>\n      <td>...</td>\n      <td>...</td>\n      <td>...</td>\n      <td>...</td>\n      <td>...</td>\n      <td>...</td>\n      <td>...</td>\n      <td>...</td>\n      <td>...</td>\n      <td>...</td>\n      <td>...</td>\n      <td>...</td>\n      <td>...</td>\n      <td>...</td>\n      <td>...</td>\n      <td>...</td>\n      <td>...</td>\n      <td>...</td>\n      <td>...</td>\n      <td>...</td>\n      <td>...</td>\n    </tr>\n    <tr>\n      <th rowspan=\"5\" valign=\"top\">Scheme_C</th>\n      <th>2019</th>\n      <td>C</td>\n      <td>731.0</td>\n      <td>912758943.0</td>\n      <td>688172698</td>\n      <td>88100666452</td>\n      <td>2</td>\n      <td>Caesarean Delivery</td>\n      <td>1993-01-19</td>\n      <td>201912</td>\n      <td>26</td>\n      <td>...</td>\n      <td>478.51</td>\n      <td>26 - 30</td>\n      <td>SMD011MIN</td>\n      <td>Group</td>\n      <td>ADUL</td>\n      <td>SASOLMED</td>\n      <td>Y</td>\n      <td>SECUNDA</td>\n      <td>MPUMALANGA</td>\n      <td>88100666452-2</td>\n    </tr>\n    <tr>\n      <th>2020</th>\n      <td>C</td>\n      <td>731.0</td>\n      <td>913026937.0</td>\n      <td>701398244</td>\n      <td>88100666854</td>\n      <td>0</td>\n      <td>Caesarean Delivery</td>\n      <td>1982-08-23</td>\n      <td>202002</td>\n      <td>37</td>\n      <td>...</td>\n      <td>132.39</td>\n      <td>36 - 40</td>\n      <td>SMD009DP1</td>\n      <td>Individual</td>\n      <td>MEMB</td>\n      <td>SASOLMED</td>\n      <td>Y</td>\n      <td>CAPE TOWN</td>\n      <td>WESTERN CAPE</td>\n      <td>88100666854-0</td>\n    </tr>\n    <tr>\n      <th>2019</th>\n      <td>C</td>\n      <td>731.0</td>\n      <td>912810835.0</td>\n      <td>687097784</td>\n      <td>88100667705</td>\n      <td>1</td>\n      <td>Caesarean Delivery</td>\n      <td>1988-02-02</td>\n      <td>201911</td>\n      <td>31</td>\n      <td>...</td>\n      <td>251.14</td>\n      <td>31 - 35</td>\n      <td>SMD011MIN</td>\n      <td>Group</td>\n      <td>ADUL</td>\n      <td>SASOLMED</td>\n      <td>Y</td>\n      <td>SECUNDA</td>\n      <td>MPUMALANGA</td>\n      <td>88100667705-1</td>\n    </tr>\n    <tr>\n      <th>2020</th>\n      <td>C</td>\n      <td>731.0</td>\n      <td>913064135.0</td>\n      <td>699526385</td>\n      <td>88100668742</td>\n      <td>2</td>\n      <td>Caesarean Delivery</td>\n      <td>1997-08-17</td>\n      <td>202002</td>\n      <td>22</td>\n      <td>...</td>\n      <td>252.52</td>\n      <td>21 - 25</td>\n      <td>SMD004CHE</td>\n      <td>Group</td>\n      <td>ADUL</td>\n      <td>SASOLMED</td>\n      <td>Y</td>\n      <td>STANDERTON</td>\n      <td>MPUMALANGA</td>\n      <td>88100668742-2</td>\n    </tr>\n    <tr>\n      <th>2020</th>\n      <td>C</td>\n      <td>731.0</td>\n      <td>913176090.0</td>\n      <td>702333359</td>\n      <td>88100669260</td>\n      <td>1</td>\n      <td>Caesarean Delivery</td>\n      <td>1998-10-18</td>\n      <td>202003</td>\n      <td>21</td>\n      <td>...</td>\n      <td>210.07</td>\n      <td>21 - 25</td>\n      <td>SMD011MIN</td>\n      <td>Group</td>\n      <td>ADUL</td>\n      <td>SASOLMED</td>\n      <td>Y</td>\n      <td>ERMELO</td>\n      <td>MPUMALANGA</td>\n      <td>88100669260-1</td>\n    </tr>\n  </tbody>\n</table>\n<p>59010 rows × 31 columns</p>\n</div>"
     },
     "metadata": {},
     "execution_count": 6
    }
   ],
   "source": [
    "z_scores = zscore(total_cost_df_Caesarean)\n",
    "abs_z_scores = np.abs(z_scores)\n",
    "filtered_entries = (abs_z_scores < 3)\n",
    "Caesarean = Caesarean[filtered_entries]\n",
    "Caesarean"
   ]
  },
  {
   "cell_type": "code",
   "execution_count": 7,
   "metadata": {
    "tags": []
   },
   "outputs": [
    {
     "output_type": "execute_result",
     "data": {
      "text/plain": "       Admit_Month  Total_Cost\n0           201303    22185.33\n1           201301    37548.05\n2           201304    17743.08\n3           201310    19312.29\n4           201304    15584.50\n...            ...         ...\n21140       201907    31773.77\n21141       202002    33245.87\n21142       202003    28822.51\n21143       202001    27820.13\n21144       202002    26895.30\n\n[21145 rows x 2 columns]",
      "text/html": "<div>\n<style scoped>\n    .dataframe tbody tr th:only-of-type {\n        vertical-align: middle;\n    }\n\n    .dataframe tbody tr th {\n        vertical-align: top;\n    }\n\n    .dataframe thead th {\n        text-align: right;\n    }\n</style>\n<table border=\"1\" class=\"dataframe\">\n  <thead>\n    <tr style=\"text-align: right;\">\n      <th></th>\n      <th>Admit_Month</th>\n      <th>Total_Cost</th>\n    </tr>\n  </thead>\n  <tbody>\n    <tr>\n      <th>0</th>\n      <td>201303</td>\n      <td>22185.33</td>\n    </tr>\n    <tr>\n      <th>1</th>\n      <td>201301</td>\n      <td>37548.05</td>\n    </tr>\n    <tr>\n      <th>2</th>\n      <td>201304</td>\n      <td>17743.08</td>\n    </tr>\n    <tr>\n      <th>3</th>\n      <td>201310</td>\n      <td>19312.29</td>\n    </tr>\n    <tr>\n      <th>4</th>\n      <td>201304</td>\n      <td>15584.50</td>\n    </tr>\n    <tr>\n      <th>...</th>\n      <td>...</td>\n      <td>...</td>\n    </tr>\n    <tr>\n      <th>21140</th>\n      <td>201907</td>\n      <td>31773.77</td>\n    </tr>\n    <tr>\n      <th>21141</th>\n      <td>202002</td>\n      <td>33245.87</td>\n    </tr>\n    <tr>\n      <th>21142</th>\n      <td>202003</td>\n      <td>28822.51</td>\n    </tr>\n    <tr>\n      <th>21143</th>\n      <td>202001</td>\n      <td>27820.13</td>\n    </tr>\n    <tr>\n      <th>21144</th>\n      <td>202002</td>\n      <td>26895.30</td>\n    </tr>\n  </tbody>\n</table>\n<p>21145 rows × 2 columns</p>\n</div>"
     },
     "metadata": {},
     "execution_count": 7
    }
   ],
   "source": [
    "Natural=Natural.reset_index()\n",
    "Natural[[\"Admit_Month\",\"Total_Cost\"]]\n"
   ]
  },
  {
   "cell_type": "code",
   "execution_count": 8,
   "metadata": {},
   "outputs": [
    {
     "output_type": "execute_result",
     "data": {
      "text/plain": "       Admit_Month  Total_Cost\n0           201304    37174.90\n1           201302    28006.45\n2           201302    27408.35\n3           201305    31196.77\n4           201311    25342.85\n...            ...         ...\n59005       201912    51263.80\n59006       202002    49810.95\n59007       201911    55513.99\n59008       202002    54019.60\n59009       202003    52978.28\n\n[59010 rows x 2 columns]",
      "text/html": "<div>\n<style scoped>\n    .dataframe tbody tr th:only-of-type {\n        vertical-align: middle;\n    }\n\n    .dataframe tbody tr th {\n        vertical-align: top;\n    }\n\n    .dataframe thead th {\n        text-align: right;\n    }\n</style>\n<table border=\"1\" class=\"dataframe\">\n  <thead>\n    <tr style=\"text-align: right;\">\n      <th></th>\n      <th>Admit_Month</th>\n      <th>Total_Cost</th>\n    </tr>\n  </thead>\n  <tbody>\n    <tr>\n      <th>0</th>\n      <td>201304</td>\n      <td>37174.90</td>\n    </tr>\n    <tr>\n      <th>1</th>\n      <td>201302</td>\n      <td>28006.45</td>\n    </tr>\n    <tr>\n      <th>2</th>\n      <td>201302</td>\n      <td>27408.35</td>\n    </tr>\n    <tr>\n      <th>3</th>\n      <td>201305</td>\n      <td>31196.77</td>\n    </tr>\n    <tr>\n      <th>4</th>\n      <td>201311</td>\n      <td>25342.85</td>\n    </tr>\n    <tr>\n      <th>...</th>\n      <td>...</td>\n      <td>...</td>\n    </tr>\n    <tr>\n      <th>59005</th>\n      <td>201912</td>\n      <td>51263.80</td>\n    </tr>\n    <tr>\n      <th>59006</th>\n      <td>202002</td>\n      <td>49810.95</td>\n    </tr>\n    <tr>\n      <th>59007</th>\n      <td>201911</td>\n      <td>55513.99</td>\n    </tr>\n    <tr>\n      <th>59008</th>\n      <td>202002</td>\n      <td>54019.60</td>\n    </tr>\n    <tr>\n      <th>59009</th>\n      <td>202003</td>\n      <td>52978.28</td>\n    </tr>\n  </tbody>\n</table>\n<p>59010 rows × 2 columns</p>\n</div>"
     },
     "metadata": {},
     "execution_count": 8
    }
   ],
   "source": [
    "Caesarean=Caesarean.reset_index()\n",
    "Caesarean[[\"Admit_Month\",\"Total_Cost\"]]"
   ]
  },
  {
   "cell_type": "code",
   "execution_count": 9,
   "metadata": {},
   "outputs": [],
   "source": [
    "excel_file = pd.ExcelWriter(\"ML_data_for_thesis.xlsx\")"
   ]
  },
  {
   "cell_type": "code",
   "execution_count": 10,
   "metadata": {},
   "outputs": [],
   "source": [
    "Caesarean.to_excel(excel_file,sheet_name=\"Caesarean Deliveries\")\n",
    "Natural.to_excel(excel_file,sheet_name=\"Natural\")"
   ]
  },
  {
   "cell_type": "code",
   "execution_count": 11,
   "metadata": {},
   "outputs": [],
   "source": [
    "excel_file.save()"
   ]
  },
  {
   "cell_type": "code",
   "execution_count": null,
   "metadata": {},
   "outputs": [],
   "source": []
  },
  {
   "cell_type": "code",
   "execution_count": null,
   "metadata": {},
   "outputs": [],
   "source": []
  }
 ]
}