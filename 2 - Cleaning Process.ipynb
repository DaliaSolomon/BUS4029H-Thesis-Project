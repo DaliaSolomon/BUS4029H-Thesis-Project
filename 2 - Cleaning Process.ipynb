{
 "cells": [
  {
   "cell_type": "code",
   "execution_count": 1,
   "metadata": {},
   "outputs": [],
   "source": [
    "import pandas as pd\n",
    "import matplotlib.pyplot as plt\n",
    "import numpy as np\n",
    "%matplotlib inline"
   ]
  },
  {
   "cell_type": "markdown",
   "metadata": {},
   "source": [
    "# Importing the Required Data "
   ]
  },
  {
   "cell_type": "code",
   "execution_count": 2,
   "metadata": {},
   "outputs": [
    {
     "output_type": "execute_result",
     "data": {
      "text/plain": "                    Scheme_Code  Plan_Key  Authorization_Key  Stg_Has_Key  \\\n         admit_year                                                         \nScheme A 2013               BON      20.0        769500425.0    426069354   \n         2013               BON      20.0        769252214.0    425810854   \n         2013               BON      20.0        770333964.0    426326697   \n\n                     Member_Key  Beneficiary_Number     Admission_Category  \\\n         admit_year                                                          \nScheme A 2013        2000134527                   2  Complicated Pregnancy   \n         2013        2000141125                   2     Caesarean Delivery   \n         2013        2000149969                   5     Caesarean Delivery   \n\n                    Date_Of_Birth  Admit_Month  Age_At_Treatment  ...  \\\n         admit_year                                               ...   \nScheme A 2013          1968-01-09       201304                45  ...   \n         2013          1984-05-16       201304                28  ...   \n         2013          1994-11-14       201302                18  ...   \n\n                    Pathology_Amt Pharmacy_Amt Age_Group  Pulse_Paypoint_Code  \\\n         admit_year                                                             \nScheme A 2013               141.1          0.0   41 - 45            BON004KIM   \n         2013                 0.0          0.0   26 - 30            BON019KHG   \n         2013                60.8          0.0   16 - 20            BON004QUE   \n\n                    Dpm_Ind  Beneficiary_Type        Plan_Name  Pmb_Eligible  \\\n         admit_year                                                            \nScheme A 2013         Group              ADUL  STANDARD OPTION             Y   \n         2013         Group              ADUL  STANDARD OPTION             Y   \n         2013         Group              CHIL  STANDARD OPTION             Y   \n\n                     Magisterial_District_Descr   Region_Descr  \n         admit_year                                             \nScheme A 2013                         KIMBERLEY  NORTHERN CAPE  \n         2013                          ISIPINGO  KWAZULU-NATAL  \n         2013                        QUEENSTOWN   EASTERN CAPE  \n\n[3 rows x 30 columns]",
      "text/html": "<div>\n<style scoped>\n    .dataframe tbody tr th:only-of-type {\n        vertical-align: middle;\n    }\n\n    .dataframe tbody tr th {\n        vertical-align: top;\n    }\n\n    .dataframe thead th {\n        text-align: right;\n    }\n</style>\n<table border=\"1\" class=\"dataframe\">\n  <thead>\n    <tr style=\"text-align: right;\">\n      <th></th>\n      <th></th>\n      <th>Scheme_Code</th>\n      <th>Plan_Key</th>\n      <th>Authorization_Key</th>\n      <th>Stg_Has_Key</th>\n      <th>Member_Key</th>\n      <th>Beneficiary_Number</th>\n      <th>Admission_Category</th>\n      <th>Date_Of_Birth</th>\n      <th>Admit_Month</th>\n      <th>Age_At_Treatment</th>\n      <th>...</th>\n      <th>Pathology_Amt</th>\n      <th>Pharmacy_Amt</th>\n      <th>Age_Group</th>\n      <th>Pulse_Paypoint_Code</th>\n      <th>Dpm_Ind</th>\n      <th>Beneficiary_Type</th>\n      <th>Plan_Name</th>\n      <th>Pmb_Eligible</th>\n      <th>Magisterial_District_Descr</th>\n      <th>Region_Descr</th>\n    </tr>\n    <tr>\n      <th></th>\n      <th>admit_year</th>\n      <th></th>\n      <th></th>\n      <th></th>\n      <th></th>\n      <th></th>\n      <th></th>\n      <th></th>\n      <th></th>\n      <th></th>\n      <th></th>\n      <th></th>\n      <th></th>\n      <th></th>\n      <th></th>\n      <th></th>\n      <th></th>\n      <th></th>\n      <th></th>\n      <th></th>\n      <th></th>\n      <th></th>\n    </tr>\n  </thead>\n  <tbody>\n    <tr>\n      <th rowspan=\"3\" valign=\"top\">Scheme A</th>\n      <th>2013</th>\n      <td>BON</td>\n      <td>20.0</td>\n      <td>769500425.0</td>\n      <td>426069354</td>\n      <td>2000134527</td>\n      <td>2</td>\n      <td>Complicated Pregnancy</td>\n      <td>1968-01-09</td>\n      <td>201304</td>\n      <td>45</td>\n      <td>...</td>\n      <td>141.1</td>\n      <td>0.0</td>\n      <td>41 - 45</td>\n      <td>BON004KIM</td>\n      <td>Group</td>\n      <td>ADUL</td>\n      <td>STANDARD OPTION</td>\n      <td>Y</td>\n      <td>KIMBERLEY</td>\n      <td>NORTHERN CAPE</td>\n    </tr>\n    <tr>\n      <th>2013</th>\n      <td>BON</td>\n      <td>20.0</td>\n      <td>769252214.0</td>\n      <td>425810854</td>\n      <td>2000141125</td>\n      <td>2</td>\n      <td>Caesarean Delivery</td>\n      <td>1984-05-16</td>\n      <td>201304</td>\n      <td>28</td>\n      <td>...</td>\n      <td>0.0</td>\n      <td>0.0</td>\n      <td>26 - 30</td>\n      <td>BON019KHG</td>\n      <td>Group</td>\n      <td>ADUL</td>\n      <td>STANDARD OPTION</td>\n      <td>Y</td>\n      <td>ISIPINGO</td>\n      <td>KWAZULU-NATAL</td>\n    </tr>\n    <tr>\n      <th>2013</th>\n      <td>BON</td>\n      <td>20.0</td>\n      <td>770333964.0</td>\n      <td>426326697</td>\n      <td>2000149969</td>\n      <td>5</td>\n      <td>Caesarean Delivery</td>\n      <td>1994-11-14</td>\n      <td>201302</td>\n      <td>18</td>\n      <td>...</td>\n      <td>60.8</td>\n      <td>0.0</td>\n      <td>16 - 20</td>\n      <td>BON004QUE</td>\n      <td>Group</td>\n      <td>CHIL</td>\n      <td>STANDARD OPTION</td>\n      <td>Y</td>\n      <td>QUEENSTOWN</td>\n      <td>EASTERN CAPE</td>\n    </tr>\n  </tbody>\n</table>\n<p>3 rows × 30 columns</p>\n</div>"
     },
     "metadata": {},
     "execution_count": 2
    }
   ],
   "source": [
    "data=pd.read_excel(\"../Data/All_Schemes_Data.xlsx\",index_col=[0,1])\n",
    "data.head(3)"
   ]
  },
  {
   "cell_type": "markdown",
   "metadata": {},
   "source": [
    "# Cleaning the Data"
   ]
  },
  {
   "cell_type": "markdown",
   "metadata": {},
   "source": [
    "### Formatting the Headings for Consistency"
   ]
  },
  {
   "cell_type": "code",
   "execution_count": 3,
   "metadata": {},
   "outputs": [],
   "source": [
    "data.columns=data.columns.str.title()"
   ]
  },
  {
   "cell_type": "markdown",
   "metadata": {},
   "source": [
    "### Removing Any Fully Duplicated Rows "
   ]
  },
  {
   "cell_type": "code",
   "execution_count": 4,
   "metadata": {},
   "outputs": [
    {
     "output_type": "execute_result",
     "data": {
      "text/plain": "                    Scheme_Code  Plan_Key  Authorization_Key  Stg_Has_Key  \\\n         admit_year                                                         \nScheme A 2013               BON      20.0        769500425.0    426069354   \n         2013               BON      20.0        769252214.0    425810854   \n         2013               BON      20.0        770333964.0    426326697   \n         2013               BON      20.0        769012710.0    337573074   \n         2013               BON      20.0        769315294.0    337573075   \n...                         ...       ...                ...          ...   \nScheme_C 2019                 C     731.0        912810835.0    687097784   \n         2020                 C     731.0        913064135.0    699526385   \n         2020                 C     731.0        912910930.0    690643272   \n         2020                 C     731.0        913176090.0    702333359   \n         2020                 C     731.0        913063789.0    699526386   \n\n                      Member_Key  Beneficiary_Number  \\\n         admit_year                                    \nScheme A 2013         2000134527                   2   \n         2013         2000141125                   2   \n         2013         2000149969                   5   \n         2013         2000156110                   2   \n         2013         2000156110                   3   \n...                          ...                 ...   \nScheme_C 2019        88100667705                   1   \n         2020        88100668742                   2   \n         2020        88100668948                   1   \n         2020        88100669260                   1   \n         2020        88100669882                   1   \n\n                                               Admission_Category  \\\n         admit_year                                                 \nScheme A 2013                               Complicated Pregnancy   \n         2013                                  Caesarean Delivery   \n         2013                                  Caesarean Delivery   \n         2013                                     Normal Delivery   \n         2013        Newborn - Complications/Premature baby major   \n...                                                           ...   \nScheme_C 2019                                  Caesarean Delivery   \n         2020                                  Caesarean Delivery   \n         2020                                     Normal Delivery   \n         2020                                  Caesarean Delivery   \n         2020                                     Normal Delivery   \n\n                    Date_Of_Birth  Admit_Month  Age_At_Treatment  ...  \\\n         admit_year                                               ...   \nScheme A 2013          1968-01-09       201304                45  ...   \n         2013          1984-05-16       201304                28  ...   \n         2013          1994-11-14       201302                18  ...   \n         2013          1994-05-05       201303                18  ...   \n         2013          2013-03-07       201303                 0  ...   \n...                           ...          ...               ...  ...   \nScheme_C 2019          1988-02-02       201911                31  ...   \n         2020          1997-08-17       202002                22  ...   \n         2020          1988-03-21       202001                31  ...   \n         2020          1998-10-18       202003                21  ...   \n         2020          1988-06-28       202002                31  ...   \n\n                    Pathology_Amt Pharmacy_Amt Age_Group  Pulse_Paypoint_Code  \\\n         admit_year                                                             \nScheme A 2013               141.1         0.00   41 - 45            BON004KIM   \n         2013                 0.0         0.00   26 - 30            BON019KHG   \n         2013                60.8         0.00   16 - 20            BON004QUE   \n         2013              2463.2         0.00   16 - 20            BON033GDE   \n         2013                 0.0         0.00         0            BON033GDE   \n...                           ...          ...       ...                  ...   \nScheme_C 2019              1848.6       251.14   31 - 35            SMD011MIN   \n         2020               778.6       252.52   21 - 25            SMD004CHE   \n         2020              1033.0       162.47   31 - 35            SMD003SYN   \n         2020              1015.3       210.07   21 - 25            SMD011MIN   \n         2020                29.8         0.00   31 - 35            SMD011MIN   \n\n                    Dpm_Ind  Beneficiary_Type        Plan_Name  Pmb_Eligible  \\\n         admit_year                                                            \nScheme A 2013         Group              ADUL  STANDARD OPTION             Y   \n         2013         Group              ADUL  STANDARD OPTION             Y   \n         2013         Group              CHIL  STANDARD OPTION             Y   \n         2013         Group              CHIL  STANDARD OPTION             Y   \n         2013         Group               NaN  STANDARD OPTION             Y   \n...                     ...               ...              ...           ...   \nScheme_C 2019         Group              ADUL         SASOLMED             Y   \n         2020         Group              ADUL         SASOLMED             Y   \n         2020         Group              ADUL         SASOLMED             Y   \n         2020         Group              ADUL         SASOLMED             Y   \n         2020         Group              ADUL         SASOLMED             Y   \n\n                     Magisterial_District_Descr   Region_Descr  \n         admit_year                                             \nScheme A 2013                         KIMBERLEY  NORTHERN CAPE  \n         2013                          ISIPINGO  KWAZULU-NATAL  \n         2013                        QUEENSTOWN   EASTERN CAPE  \n         2013                          MAMELODI        GAUTENG  \n         2013                          MAMELODI        GAUTENG  \n...                                         ...            ...  \nScheme_C 2019                           SECUNDA     MPUMALANGA  \n         2020                        STANDERTON     MPUMALANGA  \n         2020                        EMBALENHLE     MPUMALANGA  \n         2020                            ERMELO     MPUMALANGA  \n         2020                        STANDERTON     MPUMALANGA  \n\n[131340 rows x 30 columns]",
      "text/html": "<div>\n<style scoped>\n    .dataframe tbody tr th:only-of-type {\n        vertical-align: middle;\n    }\n\n    .dataframe tbody tr th {\n        vertical-align: top;\n    }\n\n    .dataframe thead th {\n        text-align: right;\n    }\n</style>\n<table border=\"1\" class=\"dataframe\">\n  <thead>\n    <tr style=\"text-align: right;\">\n      <th></th>\n      <th></th>\n      <th>Scheme_Code</th>\n      <th>Plan_Key</th>\n      <th>Authorization_Key</th>\n      <th>Stg_Has_Key</th>\n      <th>Member_Key</th>\n      <th>Beneficiary_Number</th>\n      <th>Admission_Category</th>\n      <th>Date_Of_Birth</th>\n      <th>Admit_Month</th>\n      <th>Age_At_Treatment</th>\n      <th>...</th>\n      <th>Pathology_Amt</th>\n      <th>Pharmacy_Amt</th>\n      <th>Age_Group</th>\n      <th>Pulse_Paypoint_Code</th>\n      <th>Dpm_Ind</th>\n      <th>Beneficiary_Type</th>\n      <th>Plan_Name</th>\n      <th>Pmb_Eligible</th>\n      <th>Magisterial_District_Descr</th>\n      <th>Region_Descr</th>\n    </tr>\n    <tr>\n      <th></th>\n      <th>admit_year</th>\n      <th></th>\n      <th></th>\n      <th></th>\n      <th></th>\n      <th></th>\n      <th></th>\n      <th></th>\n      <th></th>\n      <th></th>\n      <th></th>\n      <th></th>\n      <th></th>\n      <th></th>\n      <th></th>\n      <th></th>\n      <th></th>\n      <th></th>\n      <th></th>\n      <th></th>\n      <th></th>\n      <th></th>\n    </tr>\n  </thead>\n  <tbody>\n    <tr>\n      <th rowspan=\"5\" valign=\"top\">Scheme A</th>\n      <th>2013</th>\n      <td>BON</td>\n      <td>20.0</td>\n      <td>769500425.0</td>\n      <td>426069354</td>\n      <td>2000134527</td>\n      <td>2</td>\n      <td>Complicated Pregnancy</td>\n      <td>1968-01-09</td>\n      <td>201304</td>\n      <td>45</td>\n      <td>...</td>\n      <td>141.1</td>\n      <td>0.00</td>\n      <td>41 - 45</td>\n      <td>BON004KIM</td>\n      <td>Group</td>\n      <td>ADUL</td>\n      <td>STANDARD OPTION</td>\n      <td>Y</td>\n      <td>KIMBERLEY</td>\n      <td>NORTHERN CAPE</td>\n    </tr>\n    <tr>\n      <th>2013</th>\n      <td>BON</td>\n      <td>20.0</td>\n      <td>769252214.0</td>\n      <td>425810854</td>\n      <td>2000141125</td>\n      <td>2</td>\n      <td>Caesarean Delivery</td>\n      <td>1984-05-16</td>\n      <td>201304</td>\n      <td>28</td>\n      <td>...</td>\n      <td>0.0</td>\n      <td>0.00</td>\n      <td>26 - 30</td>\n      <td>BON019KHG</td>\n      <td>Group</td>\n      <td>ADUL</td>\n      <td>STANDARD OPTION</td>\n      <td>Y</td>\n      <td>ISIPINGO</td>\n      <td>KWAZULU-NATAL</td>\n    </tr>\n    <tr>\n      <th>2013</th>\n      <td>BON</td>\n      <td>20.0</td>\n      <td>770333964.0</td>\n      <td>426326697</td>\n      <td>2000149969</td>\n      <td>5</td>\n      <td>Caesarean Delivery</td>\n      <td>1994-11-14</td>\n      <td>201302</td>\n      <td>18</td>\n      <td>...</td>\n      <td>60.8</td>\n      <td>0.00</td>\n      <td>16 - 20</td>\n      <td>BON004QUE</td>\n      <td>Group</td>\n      <td>CHIL</td>\n      <td>STANDARD OPTION</td>\n      <td>Y</td>\n      <td>QUEENSTOWN</td>\n      <td>EASTERN CAPE</td>\n    </tr>\n    <tr>\n      <th>2013</th>\n      <td>BON</td>\n      <td>20.0</td>\n      <td>769012710.0</td>\n      <td>337573074</td>\n      <td>2000156110</td>\n      <td>2</td>\n      <td>Normal Delivery</td>\n      <td>1994-05-05</td>\n      <td>201303</td>\n      <td>18</td>\n      <td>...</td>\n      <td>2463.2</td>\n      <td>0.00</td>\n      <td>16 - 20</td>\n      <td>BON033GDE</td>\n      <td>Group</td>\n      <td>CHIL</td>\n      <td>STANDARD OPTION</td>\n      <td>Y</td>\n      <td>MAMELODI</td>\n      <td>GAUTENG</td>\n    </tr>\n    <tr>\n      <th>2013</th>\n      <td>BON</td>\n      <td>20.0</td>\n      <td>769315294.0</td>\n      <td>337573075</td>\n      <td>2000156110</td>\n      <td>3</td>\n      <td>Newborn - Complications/Premature baby major</td>\n      <td>2013-03-07</td>\n      <td>201303</td>\n      <td>0</td>\n      <td>...</td>\n      <td>0.0</td>\n      <td>0.00</td>\n      <td>0</td>\n      <td>BON033GDE</td>\n      <td>Group</td>\n      <td>NaN</td>\n      <td>STANDARD OPTION</td>\n      <td>Y</td>\n      <td>MAMELODI</td>\n      <td>GAUTENG</td>\n    </tr>\n    <tr>\n      <th>...</th>\n      <th>...</th>\n      <td>...</td>\n      <td>...</td>\n      <td>...</td>\n      <td>...</td>\n      <td>...</td>\n      <td>...</td>\n      <td>...</td>\n      <td>...</td>\n      <td>...</td>\n      <td>...</td>\n      <td>...</td>\n      <td>...</td>\n      <td>...</td>\n      <td>...</td>\n      <td>...</td>\n      <td>...</td>\n      <td>...</td>\n      <td>...</td>\n      <td>...</td>\n      <td>...</td>\n      <td>...</td>\n    </tr>\n    <tr>\n      <th rowspan=\"5\" valign=\"top\">Scheme_C</th>\n      <th>2019</th>\n      <td>C</td>\n      <td>731.0</td>\n      <td>912810835.0</td>\n      <td>687097784</td>\n      <td>88100667705</td>\n      <td>1</td>\n      <td>Caesarean Delivery</td>\n      <td>1988-02-02</td>\n      <td>201911</td>\n      <td>31</td>\n      <td>...</td>\n      <td>1848.6</td>\n      <td>251.14</td>\n      <td>31 - 35</td>\n      <td>SMD011MIN</td>\n      <td>Group</td>\n      <td>ADUL</td>\n      <td>SASOLMED</td>\n      <td>Y</td>\n      <td>SECUNDA</td>\n      <td>MPUMALANGA</td>\n    </tr>\n    <tr>\n      <th>2020</th>\n      <td>C</td>\n      <td>731.0</td>\n      <td>913064135.0</td>\n      <td>699526385</td>\n      <td>88100668742</td>\n      <td>2</td>\n      <td>Caesarean Delivery</td>\n      <td>1997-08-17</td>\n      <td>202002</td>\n      <td>22</td>\n      <td>...</td>\n      <td>778.6</td>\n      <td>252.52</td>\n      <td>21 - 25</td>\n      <td>SMD004CHE</td>\n      <td>Group</td>\n      <td>ADUL</td>\n      <td>SASOLMED</td>\n      <td>Y</td>\n      <td>STANDERTON</td>\n      <td>MPUMALANGA</td>\n    </tr>\n    <tr>\n      <th>2020</th>\n      <td>C</td>\n      <td>731.0</td>\n      <td>912910930.0</td>\n      <td>690643272</td>\n      <td>88100668948</td>\n      <td>1</td>\n      <td>Normal Delivery</td>\n      <td>1988-03-21</td>\n      <td>202001</td>\n      <td>31</td>\n      <td>...</td>\n      <td>1033.0</td>\n      <td>162.47</td>\n      <td>31 - 35</td>\n      <td>SMD003SYN</td>\n      <td>Group</td>\n      <td>ADUL</td>\n      <td>SASOLMED</td>\n      <td>Y</td>\n      <td>EMBALENHLE</td>\n      <td>MPUMALANGA</td>\n    </tr>\n    <tr>\n      <th>2020</th>\n      <td>C</td>\n      <td>731.0</td>\n      <td>913176090.0</td>\n      <td>702333359</td>\n      <td>88100669260</td>\n      <td>1</td>\n      <td>Caesarean Delivery</td>\n      <td>1998-10-18</td>\n      <td>202003</td>\n      <td>21</td>\n      <td>...</td>\n      <td>1015.3</td>\n      <td>210.07</td>\n      <td>21 - 25</td>\n      <td>SMD011MIN</td>\n      <td>Group</td>\n      <td>ADUL</td>\n      <td>SASOLMED</td>\n      <td>Y</td>\n      <td>ERMELO</td>\n      <td>MPUMALANGA</td>\n    </tr>\n    <tr>\n      <th>2020</th>\n      <td>C</td>\n      <td>731.0</td>\n      <td>913063789.0</td>\n      <td>699526386</td>\n      <td>88100669882</td>\n      <td>1</td>\n      <td>Normal Delivery</td>\n      <td>1988-06-28</td>\n      <td>202002</td>\n      <td>31</td>\n      <td>...</td>\n      <td>29.8</td>\n      <td>0.00</td>\n      <td>31 - 35</td>\n      <td>SMD011MIN</td>\n      <td>Group</td>\n      <td>ADUL</td>\n      <td>SASOLMED</td>\n      <td>Y</td>\n      <td>STANDERTON</td>\n      <td>MPUMALANGA</td>\n    </tr>\n  </tbody>\n</table>\n<p>131340 rows × 30 columns</p>\n</div>"
     },
     "metadata": {},
     "execution_count": 4
    }
   ],
   "source": [
    "data.drop_duplicates()\n",
    "\n",
    "# Note: there were actually no fully duplicated rows"
   ]
  },
  {
   "cell_type": "markdown",
   "metadata": {},
   "source": [
    "### Looking at the Form of the Data Columns and Identifying the Number of Null Values in Each Column"
   ]
  },
  {
   "cell_type": "code",
   "execution_count": 5,
   "metadata": {
    "tags": []
   },
   "outputs": [
    {
     "output_type": "stream",
     "name": "stdout",
     "text": "<class 'pandas.core.frame.DataFrame'>\nMultiIndex: 131340 entries, ('Scheme A', 2013) to ('Scheme_C', 2020)\nData columns (total 30 columns):\n #   Column                      Non-Null Count   Dtype         \n---  ------                      --------------   -----         \n 0   Scheme_Code                 74302 non-null   object        \n 1   Plan_Key                    74302 non-null   float64       \n 2   Authorization_Key           130864 non-null  float64       \n 3   Stg_Has_Key                 131340 non-null  int64         \n 4   Member_Key                  131340 non-null  int64         \n 5   Beneficiary_Number          131340 non-null  int64         \n 6   Admission_Category          131340 non-null  object        \n 7   Date_Of_Birth               131340 non-null  datetime64[ns]\n 8   Admit_Month                 131340 non-null  int64         \n 9   Age_At_Treatment            131340 non-null  int64         \n 10  Patient_Gender              131340 non-null  object        \n 11  Claim_Tariff_Code           131340 non-null  object        \n 12  Final_Diagnosis             130828 non-null  object        \n 13  Prov_Prac_Type              125357 non-null  float64       \n 14  Hosp_Group                  131340 non-null  object        \n 15  Hosp_Length_Of_Stay         131340 non-null  int64         \n 16  Total_Cost                  131340 non-null  float64       \n 17  Hosp_Benefit_Amt            131340 non-null  float64       \n 18  Provider_Amt                125357 non-null  float64       \n 19  Radiology_Amt               131340 non-null  float64       \n 20  Pathology_Amt               131340 non-null  float64       \n 21  Pharmacy_Amt                131340 non-null  float64       \n 22  Age_Group                   131280 non-null  object        \n 23  Pulse_Paypoint_Code         74300 non-null   object        \n 24  Dpm_Ind                     131280 non-null  object        \n 25  Beneficiary_Type            117343 non-null  object        \n 26  Plan_Name                   74302 non-null   object        \n 27  Pmb_Eligible                74302 non-null   object        \n 28  Magisterial_District_Descr  131340 non-null  object        \n 29  Region_Descr                131340 non-null  object        \ndtypes: datetime64[ns](1), float64(9), int64(6), object(14)\nmemory usage: 30.3+ MB\n"
    }
   ],
   "source": [
    "data.info()"
   ]
  },
  {
   "cell_type": "markdown",
   "metadata": {},
   "source": [
    "### Re-defining the Type of Values Under Each Column to Simply Calculations and Reduce Size of Dataset"
   ]
  },
  {
   "cell_type": "code",
   "execution_count": 6,
   "metadata": {},
   "outputs": [
    {
     "output_type": "execute_result",
     "data": {
      "text/plain": "Index(['Scheme_Code', 'Plan_Key', 'Authorization_Key', 'Stg_Has_Key',\n       'Member_Key', 'Beneficiary_Number', 'Admission_Category',\n       'Date_Of_Birth', 'Admit_Month', 'Age_At_Treatment', 'Patient_Gender',\n       'Claim_Tariff_Code', 'Final_Diagnosis', 'Prov_Prac_Type', 'Hosp_Group',\n       'Hosp_Length_Of_Stay', 'Total_Cost', 'Hosp_Benefit_Amt', 'Provider_Amt',\n       'Radiology_Amt', 'Pathology_Amt', 'Pharmacy_Amt', 'Age_Group',\n       'Pulse_Paypoint_Code', 'Dpm_Ind', 'Beneficiary_Type', 'Plan_Name',\n       'Pmb_Eligible', 'Magisterial_District_Descr', 'Region_Descr'],\n      dtype='object')"
     },
     "metadata": {},
     "execution_count": 6
    }
   ],
   "source": [
    "data.columns"
   ]
  },
  {
   "cell_type": "code",
   "execution_count": 7,
   "metadata": {},
   "outputs": [],
   "source": [
    "data[\"Admission_Category\"] = data[\"Admission_Category\"].astype(\"category\")\n",
    "data[\"Hosp_Group\"] = data[\"Hosp_Group\"].astype(\"category\")\n",
    "data[\"Magisterial_District_Descr\"] = data[\"Magisterial_District_Descr\"].astype(\"category\")\n",
    "data[\"Region_Descr\"] = data[\"Region_Descr\"].astype(\"category\")\n",
    "data[\"Final_Diagnosis\"] = data[\"Final_Diagnosis\"].astype(\"category\")\n",
    "data[\"Patient_Gender\"] = data[\"Patient_Gender\"].astype(\"category\")"
   ]
  },
  {
   "cell_type": "markdown",
   "metadata": {},
   "source": [
    "# Creating a New Column That Combines Member Key and Beneficiary Number to Give a Unique Member ID"
   ]
  },
  {
   "cell_type": "code",
   "execution_count": 8,
   "metadata": {},
   "outputs": [
    {
     "output_type": "execute_result",
     "data": {
      "text/plain": "                    Scheme_Code  Plan_Key  Authorization_Key  Stg_Has_Key  \\\n         admit_year                                                         \nScheme A 2013               BON      20.0        769500425.0    426069354   \n         2013               BON      20.0        769252214.0    425810854   \n         2013               BON      20.0        770333964.0    426326697   \n         2013               BON      20.0        769012710.0    337573074   \n         2013               BON      20.0        769315294.0    337573075   \n...                         ...       ...                ...          ...   \nScheme_C 2019                 C     731.0        912810835.0    687097784   \n         2020                 C     731.0        913064135.0    699526385   \n         2020                 C     731.0        912910930.0    690643272   \n         2020                 C     731.0        913176090.0    702333359   \n         2020                 C     731.0        913063789.0    699526386   \n\n                      Member_Key  Beneficiary_Number  \\\n         admit_year                                    \nScheme A 2013         2000134527                   2   \n         2013         2000141125                   2   \n         2013         2000149969                   5   \n         2013         2000156110                   2   \n         2013         2000156110                   3   \n...                          ...                 ...   \nScheme_C 2019        88100667705                   1   \n         2020        88100668742                   2   \n         2020        88100668948                   1   \n         2020        88100669260                   1   \n         2020        88100669882                   1   \n\n                                               Admission_Category  \\\n         admit_year                                                 \nScheme A 2013                               Complicated Pregnancy   \n         2013                                  Caesarean Delivery   \n         2013                                  Caesarean Delivery   \n         2013                                     Normal Delivery   \n         2013        Newborn - Complications/Premature baby major   \n...                                                           ...   \nScheme_C 2019                                  Caesarean Delivery   \n         2020                                  Caesarean Delivery   \n         2020                                     Normal Delivery   \n         2020                                  Caesarean Delivery   \n         2020                                     Normal Delivery   \n\n                    Date_Of_Birth  Admit_Month  Age_At_Treatment  ...  \\\n         admit_year                                               ...   \nScheme A 2013          1968-01-09       201304                45  ...   \n         2013          1984-05-16       201304                28  ...   \n         2013          1994-11-14       201302                18  ...   \n         2013          1994-05-05       201303                18  ...   \n         2013          2013-03-07       201303                 0  ...   \n...                           ...          ...               ...  ...   \nScheme_C 2019          1988-02-02       201911                31  ...   \n         2020          1997-08-17       202002                22  ...   \n         2020          1988-03-21       202001                31  ...   \n         2020          1998-10-18       202003                21  ...   \n         2020          1988-06-28       202002                31  ...   \n\n                    Pharmacy_Amt Age_Group Pulse_Paypoint_Code  Dpm_Ind  \\\n         admit_year                                                       \nScheme A 2013               0.00   41 - 45           BON004KIM    Group   \n         2013               0.00   26 - 30           BON019KHG    Group   \n         2013               0.00   16 - 20           BON004QUE    Group   \n         2013               0.00   16 - 20           BON033GDE    Group   \n         2013               0.00         0           BON033GDE    Group   \n...                          ...       ...                 ...      ...   \nScheme_C 2019             251.14   31 - 35           SMD011MIN    Group   \n         2020             252.52   21 - 25           SMD004CHE    Group   \n         2020             162.47   31 - 35           SMD003SYN    Group   \n         2020             210.07   21 - 25           SMD011MIN    Group   \n         2020               0.00   31 - 35           SMD011MIN    Group   \n\n                    Beneficiary_Type        Plan_Name  Pmb_Eligible  \\\n         admit_year                                                   \nScheme A 2013                   ADUL  STANDARD OPTION             Y   \n         2013                   ADUL  STANDARD OPTION             Y   \n         2013                   CHIL  STANDARD OPTION             Y   \n         2013                   CHIL  STANDARD OPTION             Y   \n         2013                    NaN  STANDARD OPTION             Y   \n...                              ...              ...           ...   \nScheme_C 2019                   ADUL         SASOLMED             Y   \n         2020                   ADUL         SASOLMED             Y   \n         2020                   ADUL         SASOLMED             Y   \n         2020                   ADUL         SASOLMED             Y   \n         2020                   ADUL         SASOLMED             Y   \n\n                     Magisterial_District_Descr   Region_Descr      Member_ID  \n         admit_year                                                            \nScheme A 2013                         KIMBERLEY  NORTHERN CAPE   2000134527-2  \n         2013                          ISIPINGO  KWAZULU-NATAL   2000141125-2  \n         2013                        QUEENSTOWN   EASTERN CAPE   2000149969-5  \n         2013                          MAMELODI        GAUTENG   2000156110-2  \n         2013                          MAMELODI        GAUTENG   2000156110-3  \n...                                         ...            ...            ...  \nScheme_C 2019                           SECUNDA     MPUMALANGA  88100667705-1  \n         2020                        STANDERTON     MPUMALANGA  88100668742-2  \n         2020                        EMBALENHLE     MPUMALANGA  88100668948-1  \n         2020                            ERMELO     MPUMALANGA  88100669260-1  \n         2020                        STANDERTON     MPUMALANGA  88100669882-1  \n\n[131340 rows x 31 columns]",
      "text/html": "<div>\n<style scoped>\n    .dataframe tbody tr th:only-of-type {\n        vertical-align: middle;\n    }\n\n    .dataframe tbody tr th {\n        vertical-align: top;\n    }\n\n    .dataframe thead th {\n        text-align: right;\n    }\n</style>\n<table border=\"1\" class=\"dataframe\">\n  <thead>\n    <tr style=\"text-align: right;\">\n      <th></th>\n      <th></th>\n      <th>Scheme_Code</th>\n      <th>Plan_Key</th>\n      <th>Authorization_Key</th>\n      <th>Stg_Has_Key</th>\n      <th>Member_Key</th>\n      <th>Beneficiary_Number</th>\n      <th>Admission_Category</th>\n      <th>Date_Of_Birth</th>\n      <th>Admit_Month</th>\n      <th>Age_At_Treatment</th>\n      <th>...</th>\n      <th>Pharmacy_Amt</th>\n      <th>Age_Group</th>\n      <th>Pulse_Paypoint_Code</th>\n      <th>Dpm_Ind</th>\n      <th>Beneficiary_Type</th>\n      <th>Plan_Name</th>\n      <th>Pmb_Eligible</th>\n      <th>Magisterial_District_Descr</th>\n      <th>Region_Descr</th>\n      <th>Member_ID</th>\n    </tr>\n    <tr>\n      <th></th>\n      <th>admit_year</th>\n      <th></th>\n      <th></th>\n      <th></th>\n      <th></th>\n      <th></th>\n      <th></th>\n      <th></th>\n      <th></th>\n      <th></th>\n      <th></th>\n      <th></th>\n      <th></th>\n      <th></th>\n      <th></th>\n      <th></th>\n      <th></th>\n      <th></th>\n      <th></th>\n      <th></th>\n      <th></th>\n      <th></th>\n    </tr>\n  </thead>\n  <tbody>\n    <tr>\n      <th rowspan=\"5\" valign=\"top\">Scheme A</th>\n      <th>2013</th>\n      <td>BON</td>\n      <td>20.0</td>\n      <td>769500425.0</td>\n      <td>426069354</td>\n      <td>2000134527</td>\n      <td>2</td>\n      <td>Complicated Pregnancy</td>\n      <td>1968-01-09</td>\n      <td>201304</td>\n      <td>45</td>\n      <td>...</td>\n      <td>0.00</td>\n      <td>41 - 45</td>\n      <td>BON004KIM</td>\n      <td>Group</td>\n      <td>ADUL</td>\n      <td>STANDARD OPTION</td>\n      <td>Y</td>\n      <td>KIMBERLEY</td>\n      <td>NORTHERN CAPE</td>\n      <td>2000134527-2</td>\n    </tr>\n    <tr>\n      <th>2013</th>\n      <td>BON</td>\n      <td>20.0</td>\n      <td>769252214.0</td>\n      <td>425810854</td>\n      <td>2000141125</td>\n      <td>2</td>\n      <td>Caesarean Delivery</td>\n      <td>1984-05-16</td>\n      <td>201304</td>\n      <td>28</td>\n      <td>...</td>\n      <td>0.00</td>\n      <td>26 - 30</td>\n      <td>BON019KHG</td>\n      <td>Group</td>\n      <td>ADUL</td>\n      <td>STANDARD OPTION</td>\n      <td>Y</td>\n      <td>ISIPINGO</td>\n      <td>KWAZULU-NATAL</td>\n      <td>2000141125-2</td>\n    </tr>\n    <tr>\n      <th>2013</th>\n      <td>BON</td>\n      <td>20.0</td>\n      <td>770333964.0</td>\n      <td>426326697</td>\n      <td>2000149969</td>\n      <td>5</td>\n      <td>Caesarean Delivery</td>\n      <td>1994-11-14</td>\n      <td>201302</td>\n      <td>18</td>\n      <td>...</td>\n      <td>0.00</td>\n      <td>16 - 20</td>\n      <td>BON004QUE</td>\n      <td>Group</td>\n      <td>CHIL</td>\n      <td>STANDARD OPTION</td>\n      <td>Y</td>\n      <td>QUEENSTOWN</td>\n      <td>EASTERN CAPE</td>\n      <td>2000149969-5</td>\n    </tr>\n    <tr>\n      <th>2013</th>\n      <td>BON</td>\n      <td>20.0</td>\n      <td>769012710.0</td>\n      <td>337573074</td>\n      <td>2000156110</td>\n      <td>2</td>\n      <td>Normal Delivery</td>\n      <td>1994-05-05</td>\n      <td>201303</td>\n      <td>18</td>\n      <td>...</td>\n      <td>0.00</td>\n      <td>16 - 20</td>\n      <td>BON033GDE</td>\n      <td>Group</td>\n      <td>CHIL</td>\n      <td>STANDARD OPTION</td>\n      <td>Y</td>\n      <td>MAMELODI</td>\n      <td>GAUTENG</td>\n      <td>2000156110-2</td>\n    </tr>\n    <tr>\n      <th>2013</th>\n      <td>BON</td>\n      <td>20.0</td>\n      <td>769315294.0</td>\n      <td>337573075</td>\n      <td>2000156110</td>\n      <td>3</td>\n      <td>Newborn - Complications/Premature baby major</td>\n      <td>2013-03-07</td>\n      <td>201303</td>\n      <td>0</td>\n      <td>...</td>\n      <td>0.00</td>\n      <td>0</td>\n      <td>BON033GDE</td>\n      <td>Group</td>\n      <td>NaN</td>\n      <td>STANDARD OPTION</td>\n      <td>Y</td>\n      <td>MAMELODI</td>\n      <td>GAUTENG</td>\n      <td>2000156110-3</td>\n    </tr>\n    <tr>\n      <th>...</th>\n      <th>...</th>\n      <td>...</td>\n      <td>...</td>\n      <td>...</td>\n      <td>...</td>\n      <td>...</td>\n      <td>...</td>\n      <td>...</td>\n      <td>...</td>\n      <td>...</td>\n      <td>...</td>\n      <td>...</td>\n      <td>...</td>\n      <td>...</td>\n      <td>...</td>\n      <td>...</td>\n      <td>...</td>\n      <td>...</td>\n      <td>...</td>\n      <td>...</td>\n      <td>...</td>\n      <td>...</td>\n    </tr>\n    <tr>\n      <th rowspan=\"5\" valign=\"top\">Scheme_C</th>\n      <th>2019</th>\n      <td>C</td>\n      <td>731.0</td>\n      <td>912810835.0</td>\n      <td>687097784</td>\n      <td>88100667705</td>\n      <td>1</td>\n      <td>Caesarean Delivery</td>\n      <td>1988-02-02</td>\n      <td>201911</td>\n      <td>31</td>\n      <td>...</td>\n      <td>251.14</td>\n      <td>31 - 35</td>\n      <td>SMD011MIN</td>\n      <td>Group</td>\n      <td>ADUL</td>\n      <td>SASOLMED</td>\n      <td>Y</td>\n      <td>SECUNDA</td>\n      <td>MPUMALANGA</td>\n      <td>88100667705-1</td>\n    </tr>\n    <tr>\n      <th>2020</th>\n      <td>C</td>\n      <td>731.0</td>\n      <td>913064135.0</td>\n      <td>699526385</td>\n      <td>88100668742</td>\n      <td>2</td>\n      <td>Caesarean Delivery</td>\n      <td>1997-08-17</td>\n      <td>202002</td>\n      <td>22</td>\n      <td>...</td>\n      <td>252.52</td>\n      <td>21 - 25</td>\n      <td>SMD004CHE</td>\n      <td>Group</td>\n      <td>ADUL</td>\n      <td>SASOLMED</td>\n      <td>Y</td>\n      <td>STANDERTON</td>\n      <td>MPUMALANGA</td>\n      <td>88100668742-2</td>\n    </tr>\n    <tr>\n      <th>2020</th>\n      <td>C</td>\n      <td>731.0</td>\n      <td>912910930.0</td>\n      <td>690643272</td>\n      <td>88100668948</td>\n      <td>1</td>\n      <td>Normal Delivery</td>\n      <td>1988-03-21</td>\n      <td>202001</td>\n      <td>31</td>\n      <td>...</td>\n      <td>162.47</td>\n      <td>31 - 35</td>\n      <td>SMD003SYN</td>\n      <td>Group</td>\n      <td>ADUL</td>\n      <td>SASOLMED</td>\n      <td>Y</td>\n      <td>EMBALENHLE</td>\n      <td>MPUMALANGA</td>\n      <td>88100668948-1</td>\n    </tr>\n    <tr>\n      <th>2020</th>\n      <td>C</td>\n      <td>731.0</td>\n      <td>913176090.0</td>\n      <td>702333359</td>\n      <td>88100669260</td>\n      <td>1</td>\n      <td>Caesarean Delivery</td>\n      <td>1998-10-18</td>\n      <td>202003</td>\n      <td>21</td>\n      <td>...</td>\n      <td>210.07</td>\n      <td>21 - 25</td>\n      <td>SMD011MIN</td>\n      <td>Group</td>\n      <td>ADUL</td>\n      <td>SASOLMED</td>\n      <td>Y</td>\n      <td>ERMELO</td>\n      <td>MPUMALANGA</td>\n      <td>88100669260-1</td>\n    </tr>\n    <tr>\n      <th>2020</th>\n      <td>C</td>\n      <td>731.0</td>\n      <td>913063789.0</td>\n      <td>699526386</td>\n      <td>88100669882</td>\n      <td>1</td>\n      <td>Normal Delivery</td>\n      <td>1988-06-28</td>\n      <td>202002</td>\n      <td>31</td>\n      <td>...</td>\n      <td>0.00</td>\n      <td>31 - 35</td>\n      <td>SMD011MIN</td>\n      <td>Group</td>\n      <td>ADUL</td>\n      <td>SASOLMED</td>\n      <td>Y</td>\n      <td>STANDERTON</td>\n      <td>MPUMALANGA</td>\n      <td>88100669882-1</td>\n    </tr>\n  </tbody>\n</table>\n<p>131340 rows × 31 columns</p>\n</div>"
     },
     "metadata": {},
     "execution_count": 8
    }
   ],
   "source": [
    "data[\"Member_ID\"] = data[\"Member_Key\"].astype(str) +\"-\"+ data[\"Beneficiary_Number\"].astype(str)\n",
    "data"
   ]
  },
  {
   "cell_type": "markdown",
   "metadata": {},
   "source": [
    "# Removing Data Points That Are Not Within South Africa"
   ]
  },
  {
   "cell_type": "code",
   "execution_count": 9,
   "metadata": {},
   "outputs": [
    {
     "output_type": "execute_result",
     "data": {
      "text/plain": "['NORTHERN CAPE',\n 'KWAZULU-NATAL',\n 'EASTERN CAPE',\n 'GAUTENG',\n 'LIMPOPO',\n 'KWAZULU NATAL',\n 'FREE STATE',\n 'SWAZILAND',\n 'NORTH WEST',\n 'MPUMALANGA',\n 'WESTERN CAPE',\n 'ZIMBABWE',\n 'LESOTHO',\n 'Unknown',\n 'ANGOLA',\n 'NORTHWEST PROVINCE',\n 'BRAZIL',\n 'BOTSWANA',\n 'NAMIBIA']"
     },
     "metadata": {},
     "execution_count": 9
    }
   ],
   "source": [
    "data[\"Region_Descr\"].unique().tolist()"
   ]
  },
  {
   "cell_type": "code",
   "execution_count": 10,
   "metadata": {},
   "outputs": [],
   "source": [
    "data.replace(to_replace=\"KWAZULU-NATAL\",value=\"KWAZULU NATAL\",inplace=True)\n",
    "data.replace(to_replace=\"NORTHWEST PROVINCE\",value=\"NORTH WEST\",inplace=True)"
   ]
  },
  {
   "cell_type": "code",
   "execution_count": 11,
   "metadata": {},
   "outputs": [
    {
     "output_type": "execute_result",
     "data": {
      "text/plain": "['NORTHERN CAPE',\n 'KWAZULU NATAL',\n 'EASTERN CAPE',\n 'GAUTENG',\n 'LIMPOPO',\n 'FREE STATE',\n 'SWAZILAND',\n 'NORTH WEST',\n 'MPUMALANGA',\n 'WESTERN CAPE',\n 'ZIMBABWE',\n 'LESOTHO',\n 'Unknown',\n 'ANGOLA',\n 'BRAZIL',\n 'BOTSWANA',\n 'NAMIBIA']"
     },
     "metadata": {},
     "execution_count": 11
    }
   ],
   "source": [
    "data[\"Region_Descr\"].unique().tolist()"
   ]
  },
  {
   "cell_type": "code",
   "execution_count": 12,
   "metadata": {},
   "outputs": [],
   "source": [
    "req1=data[\"Region_Descr\"]==\"NORTHERN CAPE\"\n",
    "req2=data[\"Region_Descr\"]==\"KWAZULU NATAL\"\n",
    "req3=data[\"Region_Descr\"]==\"EASTERN CAPE\"\n",
    "req4=data[\"Region_Descr\"]==\"GAUTENG\"\n",
    "req5=data[\"Region_Descr\"]==\"LIMPOPO\"\n",
    "req6=data[\"Region_Descr\"]==\"FREE STATE\"\n",
    "req7=data[\"Region_Descr\"]==\"NORTH WEST\"\n",
    "req8=data[\"Region_Descr\"]==\"MPUMALANGA\"\n",
    "req9=data[\"Region_Descr\"]==\"WESTERN CAPE\""
   ]
  },
  {
   "cell_type": "code",
   "execution_count": 13,
   "metadata": {},
   "outputs": [],
   "source": [
    "data=data[req1|req2|req3|req4|req5|req6|req7|req8|req9]"
   ]
  },
  {
   "cell_type": "code",
   "execution_count": 14,
   "metadata": {},
   "outputs": [
    {
     "output_type": "execute_result",
     "data": {
      "text/plain": "[NORTHERN CAPE, KWAZULU NATAL, EASTERN CAPE, GAUTENG, LIMPOPO, FREE STATE, NORTH WEST, MPUMALANGA, WESTERN CAPE]\nCategories (9, object): [NORTHERN CAPE, KWAZULU NATAL, EASTERN CAPE, GAUTENG, ..., FREE STATE, NORTH WEST, MPUMALANGA, WESTERN CAPE]"
     },
     "metadata": {},
     "execution_count": 14
    }
   ],
   "source": [
    "data[\"Region_Descr\"].unique()"
   ]
  },
  {
   "cell_type": "markdown",
   "metadata": {},
   "source": [
    "## Splitting the Data According to Mother and Child"
   ]
  },
  {
   "cell_type": "code",
   "execution_count": 15,
   "metadata": {},
   "outputs": [],
   "source": [
    "mom_data=data[data[\"Age_At_Treatment\"]>10]"
   ]
  },
  {
   "cell_type": "code",
   "execution_count": 16,
   "metadata": {},
   "outputs": [],
   "source": [
    "baby_data=data[data[\"Age_At_Treatment\"]<=10]"
   ]
  },
  {
   "cell_type": "code",
   "execution_count": 17,
   "metadata": {
    "scrolled": true
   },
   "outputs": [
    {
     "output_type": "execute_result",
     "data": {
      "text/plain": "                    Scheme_Code  Plan_Key  Authorization_Key  Stg_Has_Key  \\\n         admit_year                                                         \nScheme A 2013               BON      20.0        769315294.0    337573075   \n         2013               BON      20.0        770412480.0    427619851   \n         2013               BON      20.0        831092695.0    432614025   \n         2013               BON      20.0        770323323.0    337579005   \n         2013               BON      20.0        769015898.0    426069791   \n...                         ...       ...                ...          ...   \nScheme_C 2019                 C     731.0        912950955.0    689717769   \n         2020                 C     731.0        913341339.0    704340207   \n         2020                 C     731.0        913020536.0    696845865   \n         2020                 C     731.0        913034356.0    690643266   \n         2020                 C     731.0        913022384.0    690643265   \n\n                      Member_Key  Beneficiary_Number  \\\n         admit_year                                    \nScheme A 2013         2000156110                   3   \n         2013         2000446019                   4   \n         2013         2000490168                   4   \n         2013         2000522050                   4   \n         2013         2000562687                  12   \n...                          ...                 ...   \nScheme_C 2019        88100660142                   2   \n         2020        88100662133                   2   \n         2020        88100663888                   3   \n         2020        88100663888                   3   \n         2020        88100663888                   3   \n\n                                               Admission_Category  \\\n         admit_year                                                 \nScheme A 2013        Newborn - Complications/Premature baby major   \n         2013        Newborn - Complications/Premature baby major   \n         2013        Newborn - Complications/Premature baby minor   \n         2013        Newborn - Complications/Premature baby major   \n         2013        Newborn - Complications/Premature baby major   \n...                                                           ...   \nScheme_C 2019        Newborn - Complications/Premature baby major   \n         2020        Newborn - Complications/Premature baby minor   \n         2020        Newborn - Complications/Premature baby major   \n         2020        Newborn - Complications/Premature baby minor   \n         2020        Newborn - Complications/Premature baby minor   \n\n                    Date_Of_Birth  Admit_Month  Age_At_Treatment  ...  \\\n         admit_year                                               ...   \nScheme A 2013          2013-03-07       201303                 0  ...   \n         2013          2013-05-03       201305                 0  ...   \n         2013          2013-06-30       201307                 0  ...   \n         2013          2013-01-13       201301                 0  ...   \n         2013          2013-03-08       201303                 0  ...   \n...                           ...          ...               ...  ...   \nScheme_C 2019          2019-11-26       201911                 0  ...   \n         2020          2020-03-13       202003                 0  ...   \n         2020          2020-01-08       202001                 0  ...   \n         2020          2020-01-08       202001                 0  ...   \n         2020          2020-01-08       202001                 0  ...   \n\n                    Pharmacy_Amt Age_Group Pulse_Paypoint_Code  Dpm_Ind  \\\n         admit_year                                                       \nScheme A 2013                0.0         0           BON033GDE    Group   \n         2013                0.0         0           BON124EY5    Group   \n         2013                0.0         0           BON005UNO    Group   \n         2013                0.0         0           BON001JHM    Group   \n         2013                0.0         0           BON040JBW    Group   \n...                          ...       ...                 ...      ...   \nScheme_C 2019                0.0         0           SMD004CHE    Group   \n         2020                0.0         0           SMD003SYN    Group   \n         2020                0.0         0           SMD011MIN    Group   \n         2020                0.0         0           SMD011MIN    Group   \n         2020                0.0         0           SMD011MIN    Group   \n\n                    Beneficiary_Type        Plan_Name  Pmb_Eligible  \\\n         admit_year                                                   \nScheme A 2013                    NaN  STANDARD OPTION             Y   \n         2013                    NaN  STANDARD OPTION             Y   \n         2013                   CHIL  STANDARD OPTION             N   \n         2013                    NaN  STANDARD OPTION             Y   \n         2013                    NaN  STANDARD OPTION             Y   \n...                              ...              ...           ...   \nScheme_C 2019                    NaN         SASOLMED             Y   \n         2020                    NaN         SASOLMED             Y   \n         2020                    NaN         SASOLMED             Y   \n         2020                    NaN         SASOLMED             Y   \n         2020                    NaN         SASOLMED             N   \n\n                     Magisterial_District_Descr  Region_Descr      Member_ID  \n         admit_year                                                           \nScheme A 2013                          MAMELODI       GAUTENG   2000156110-3  \n         2013                       KOMATIPOORT    MPUMALANGA   2000446019-4  \n         2013                          PRETORIA       GAUTENG   2000490168-4  \n         2013                       MEADOWLANDS       GAUTENG   2000522050-4  \n         2013                      JOHANNESBURG       GAUTENG  2000562687-12  \n...                                         ...           ...            ...  \nScheme_C 2019                           SECUNDA    MPUMALANGA  88100660142-2  \n         2020                        EMBALENHLE    MPUMALANGA  88100662133-2  \n         2020                           SECUNDA    MPUMALANGA  88100663888-3  \n         2020                           SECUNDA    MPUMALANGA  88100663888-3  \n         2020                           SECUNDA    MPUMALANGA  88100663888-3  \n\n[15768 rows x 31 columns]",
      "text/html": "<div>\n<style scoped>\n    .dataframe tbody tr th:only-of-type {\n        vertical-align: middle;\n    }\n\n    .dataframe tbody tr th {\n        vertical-align: top;\n    }\n\n    .dataframe thead th {\n        text-align: right;\n    }\n</style>\n<table border=\"1\" class=\"dataframe\">\n  <thead>\n    <tr style=\"text-align: right;\">\n      <th></th>\n      <th></th>\n      <th>Scheme_Code</th>\n      <th>Plan_Key</th>\n      <th>Authorization_Key</th>\n      <th>Stg_Has_Key</th>\n      <th>Member_Key</th>\n      <th>Beneficiary_Number</th>\n      <th>Admission_Category</th>\n      <th>Date_Of_Birth</th>\n      <th>Admit_Month</th>\n      <th>Age_At_Treatment</th>\n      <th>...</th>\n      <th>Pharmacy_Amt</th>\n      <th>Age_Group</th>\n      <th>Pulse_Paypoint_Code</th>\n      <th>Dpm_Ind</th>\n      <th>Beneficiary_Type</th>\n      <th>Plan_Name</th>\n      <th>Pmb_Eligible</th>\n      <th>Magisterial_District_Descr</th>\n      <th>Region_Descr</th>\n      <th>Member_ID</th>\n    </tr>\n    <tr>\n      <th></th>\n      <th>admit_year</th>\n      <th></th>\n      <th></th>\n      <th></th>\n      <th></th>\n      <th></th>\n      <th></th>\n      <th></th>\n      <th></th>\n      <th></th>\n      <th></th>\n      <th></th>\n      <th></th>\n      <th></th>\n      <th></th>\n      <th></th>\n      <th></th>\n      <th></th>\n      <th></th>\n      <th></th>\n      <th></th>\n      <th></th>\n    </tr>\n  </thead>\n  <tbody>\n    <tr>\n      <th rowspan=\"5\" valign=\"top\">Scheme A</th>\n      <th>2013</th>\n      <td>BON</td>\n      <td>20.0</td>\n      <td>769315294.0</td>\n      <td>337573075</td>\n      <td>2000156110</td>\n      <td>3</td>\n      <td>Newborn - Complications/Premature baby major</td>\n      <td>2013-03-07</td>\n      <td>201303</td>\n      <td>0</td>\n      <td>...</td>\n      <td>0.0</td>\n      <td>0</td>\n      <td>BON033GDE</td>\n      <td>Group</td>\n      <td>NaN</td>\n      <td>STANDARD OPTION</td>\n      <td>Y</td>\n      <td>MAMELODI</td>\n      <td>GAUTENG</td>\n      <td>2000156110-3</td>\n    </tr>\n    <tr>\n      <th>2013</th>\n      <td>BON</td>\n      <td>20.0</td>\n      <td>770412480.0</td>\n      <td>427619851</td>\n      <td>2000446019</td>\n      <td>4</td>\n      <td>Newborn - Complications/Premature baby major</td>\n      <td>2013-05-03</td>\n      <td>201305</td>\n      <td>0</td>\n      <td>...</td>\n      <td>0.0</td>\n      <td>0</td>\n      <td>BON124EY5</td>\n      <td>Group</td>\n      <td>NaN</td>\n      <td>STANDARD OPTION</td>\n      <td>Y</td>\n      <td>KOMATIPOORT</td>\n      <td>MPUMALANGA</td>\n      <td>2000446019-4</td>\n    </tr>\n    <tr>\n      <th>2013</th>\n      <td>BON</td>\n      <td>20.0</td>\n      <td>831092695.0</td>\n      <td>432614025</td>\n      <td>2000490168</td>\n      <td>4</td>\n      <td>Newborn - Complications/Premature baby minor</td>\n      <td>2013-06-30</td>\n      <td>201307</td>\n      <td>0</td>\n      <td>...</td>\n      <td>0.0</td>\n      <td>0</td>\n      <td>BON005UNO</td>\n      <td>Group</td>\n      <td>CHIL</td>\n      <td>STANDARD OPTION</td>\n      <td>N</td>\n      <td>PRETORIA</td>\n      <td>GAUTENG</td>\n      <td>2000490168-4</td>\n    </tr>\n    <tr>\n      <th>2013</th>\n      <td>BON</td>\n      <td>20.0</td>\n      <td>770323323.0</td>\n      <td>337579005</td>\n      <td>2000522050</td>\n      <td>4</td>\n      <td>Newborn - Complications/Premature baby major</td>\n      <td>2013-01-13</td>\n      <td>201301</td>\n      <td>0</td>\n      <td>...</td>\n      <td>0.0</td>\n      <td>0</td>\n      <td>BON001JHM</td>\n      <td>Group</td>\n      <td>NaN</td>\n      <td>STANDARD OPTION</td>\n      <td>Y</td>\n      <td>MEADOWLANDS</td>\n      <td>GAUTENG</td>\n      <td>2000522050-4</td>\n    </tr>\n    <tr>\n      <th>2013</th>\n      <td>BON</td>\n      <td>20.0</td>\n      <td>769015898.0</td>\n      <td>426069791</td>\n      <td>2000562687</td>\n      <td>12</td>\n      <td>Newborn - Complications/Premature baby major</td>\n      <td>2013-03-08</td>\n      <td>201303</td>\n      <td>0</td>\n      <td>...</td>\n      <td>0.0</td>\n      <td>0</td>\n      <td>BON040JBW</td>\n      <td>Group</td>\n      <td>NaN</td>\n      <td>STANDARD OPTION</td>\n      <td>Y</td>\n      <td>JOHANNESBURG</td>\n      <td>GAUTENG</td>\n      <td>2000562687-12</td>\n    </tr>\n    <tr>\n      <th>...</th>\n      <th>...</th>\n      <td>...</td>\n      <td>...</td>\n      <td>...</td>\n      <td>...</td>\n      <td>...</td>\n      <td>...</td>\n      <td>...</td>\n      <td>...</td>\n      <td>...</td>\n      <td>...</td>\n      <td>...</td>\n      <td>...</td>\n      <td>...</td>\n      <td>...</td>\n      <td>...</td>\n      <td>...</td>\n      <td>...</td>\n      <td>...</td>\n      <td>...</td>\n      <td>...</td>\n      <td>...</td>\n    </tr>\n    <tr>\n      <th rowspan=\"5\" valign=\"top\">Scheme_C</th>\n      <th>2019</th>\n      <td>C</td>\n      <td>731.0</td>\n      <td>912950955.0</td>\n      <td>689717769</td>\n      <td>88100660142</td>\n      <td>2</td>\n      <td>Newborn - Complications/Premature baby major</td>\n      <td>2019-11-26</td>\n      <td>201911</td>\n      <td>0</td>\n      <td>...</td>\n      <td>0.0</td>\n      <td>0</td>\n      <td>SMD004CHE</td>\n      <td>Group</td>\n      <td>NaN</td>\n      <td>SASOLMED</td>\n      <td>Y</td>\n      <td>SECUNDA</td>\n      <td>MPUMALANGA</td>\n      <td>88100660142-2</td>\n    </tr>\n    <tr>\n      <th>2020</th>\n      <td>C</td>\n      <td>731.0</td>\n      <td>913341339.0</td>\n      <td>704340207</td>\n      <td>88100662133</td>\n      <td>2</td>\n      <td>Newborn - Complications/Premature baby minor</td>\n      <td>2020-03-13</td>\n      <td>202003</td>\n      <td>0</td>\n      <td>...</td>\n      <td>0.0</td>\n      <td>0</td>\n      <td>SMD003SYN</td>\n      <td>Group</td>\n      <td>NaN</td>\n      <td>SASOLMED</td>\n      <td>Y</td>\n      <td>EMBALENHLE</td>\n      <td>MPUMALANGA</td>\n      <td>88100662133-2</td>\n    </tr>\n    <tr>\n      <th>2020</th>\n      <td>C</td>\n      <td>731.0</td>\n      <td>913020536.0</td>\n      <td>696845865</td>\n      <td>88100663888</td>\n      <td>3</td>\n      <td>Newborn - Complications/Premature baby major</td>\n      <td>2020-01-08</td>\n      <td>202001</td>\n      <td>0</td>\n      <td>...</td>\n      <td>0.0</td>\n      <td>0</td>\n      <td>SMD011MIN</td>\n      <td>Group</td>\n      <td>NaN</td>\n      <td>SASOLMED</td>\n      <td>Y</td>\n      <td>SECUNDA</td>\n      <td>MPUMALANGA</td>\n      <td>88100663888-3</td>\n    </tr>\n    <tr>\n      <th>2020</th>\n      <td>C</td>\n      <td>731.0</td>\n      <td>913034356.0</td>\n      <td>690643266</td>\n      <td>88100663888</td>\n      <td>3</td>\n      <td>Newborn - Complications/Premature baby minor</td>\n      <td>2020-01-08</td>\n      <td>202001</td>\n      <td>0</td>\n      <td>...</td>\n      <td>0.0</td>\n      <td>0</td>\n      <td>SMD011MIN</td>\n      <td>Group</td>\n      <td>NaN</td>\n      <td>SASOLMED</td>\n      <td>Y</td>\n      <td>SECUNDA</td>\n      <td>MPUMALANGA</td>\n      <td>88100663888-3</td>\n    </tr>\n    <tr>\n      <th>2020</th>\n      <td>C</td>\n      <td>731.0</td>\n      <td>913022384.0</td>\n      <td>690643265</td>\n      <td>88100663888</td>\n      <td>3</td>\n      <td>Newborn - Complications/Premature baby minor</td>\n      <td>2020-01-08</td>\n      <td>202001</td>\n      <td>0</td>\n      <td>...</td>\n      <td>0.0</td>\n      <td>0</td>\n      <td>SMD011MIN</td>\n      <td>Group</td>\n      <td>NaN</td>\n      <td>SASOLMED</td>\n      <td>N</td>\n      <td>SECUNDA</td>\n      <td>MPUMALANGA</td>\n      <td>88100663888-3</td>\n    </tr>\n  </tbody>\n</table>\n<p>15768 rows × 31 columns</p>\n</div>"
     },
     "metadata": {},
     "execution_count": 17
    }
   ],
   "source": [
    "baby_data"
   ]
  },
  {
   "cell_type": "markdown",
   "metadata": {},
   "source": [
    "# Removing Problematic Rows"
   ]
  },
  {
   "cell_type": "markdown",
   "metadata": {},
   "source": [
    "Remove any rows where the admission category for mother contain newborn"
   ]
  },
  {
   "cell_type": "code",
   "execution_count": 18,
   "metadata": {},
   "outputs": [
    {
     "output_type": "execute_result",
     "data": {
      "text/plain": "[Complicated Pregnancy, Caesarean Delivery, Normal Delivery, Uncomplicated delivery, Complications of the pueperium, ..., Newborn Care, Newborn - Uncomplicated Birth, Newborn - Complications/Premature baby minor, Newborn - Complications/Premature baby major, Complex Newborn Care]\nLength: 12\nCategories (12, object): [Complicated Pregnancy, Caesarean Delivery, Normal Delivery, Uncomplicated delivery, ..., Newborn - Uncomplicated Birth, Newborn - Complications/Premature baby minor, Newborn - Complications/Premature baby major, Complex Newborn Care]"
     },
     "metadata": {},
     "execution_count": 18
    }
   ],
   "source": [
    "mom_data[\"Admission_Category\"].unique()"
   ]
  },
  {
   "cell_type": "code",
   "execution_count": 19,
   "metadata": {},
   "outputs": [
    {
     "output_type": "execute_result",
     "data": {
      "text/plain": "                    Scheme_Code  Plan_Key  Authorization_Key  Stg_Has_Key  \\\n         admit_year                                                         \nScheme A 2013               BON      20.0                NaN    447376749   \n         2017               NaN       NaN                NaN    591189313   \n         2017               NaN       NaN                NaN    581344208   \n         2017               NaN       NaN                NaN    573963990   \n         2017               NaN       NaN                NaN    590636421   \n         2017               NaN       NaN                NaN    606172998   \n         2017               NaN       NaN                NaN    581068530   \nScheme_B 2014                 B     751.0                NaN    541323537   \n\n                      Member_Key  Beneficiary_Number Admission_Category  \\\n         admit_year                                                       \nScheme A 2013         2025552988                   0       Newborn Care   \n         2017         2000784513                   2       Newborn Care   \n         2017         2025716865                   1       Newborn Care   \n         2017        24003102376                   0       Newborn Care   \n         2017        47001813149                   0       Newborn Care   \n         2017        47600222485                   1       Newborn Care   \n         2017        47900163543                   0       Newborn Care   \nScheme_B 2014        80100404564                   0       Newborn Care   \n\n                    Date_Of_Birth  Admit_Month  Age_At_Treatment  ...  \\\n         admit_year                                               ...   \nScheme A 2013          1983-07-02       201312                30  ...   \n         2017          1979-05-03       201705                38  ...   \n         2017          1979-07-04       201702                37  ...   \n         2017          1984-01-10       201701                33  ...   \n         2017          1983-05-10       201705                34  ...   \n         2017          1992-01-23       201710                25  ...   \n         2017          1986-08-22       201703                30  ...   \nScheme_B 2014          1988-03-09       201412                26  ...   \n\n                    Pharmacy_Amt Age_Group Pulse_Paypoint_Code     Dpm_Ind  \\\n         admit_year                                                          \nScheme A 2013                0.0   26 - 30           BON998BEN  Individual   \n         2017                0.0   36 - 40                 NaN  Individual   \n         2017                0.0   36 - 40                 NaN       Group   \n         2017                0.0   31 - 35                 NaN       Group   \n         2017                0.0   31 - 35                 NaN  Individual   \n         2017                0.0   21 - 25                 NaN  Individual   \n         2017                0.0   26 - 30                 NaN  Individual   \nScheme_B 2014                0.0   26 - 30           FDH510DPM  Individual   \n\n                    Beneficiary_Type        Plan_Name  Pmb_Eligible  \\\n         admit_year                                                   \nScheme A 2013                   MEMB  STANDARD OPTION             N   \n         2017                   ADUL              NaN           NaN   \n         2017                   ADUL              NaN           NaN   \n         2017                   MEMB              NaN           NaN   \n         2017                   MEMB              NaN           NaN   \n         2017                   ADUL              NaN           NaN   \n         2017                   MEMB              NaN           NaN   \nScheme_B 2014                   MEMB       flexiFED 3             N   \n\n                     Magisterial_District_Descr  Region_Descr      Member_ID  \n         admit_year                                                           \nScheme A 2013                       PIET RETIEF    MPUMALANGA   2025552988-0  \n         2017                        SOSHANGUVE       GAUTENG   2000784513-2  \n         2017                            RUSLOO       GAUTENG   2025716865-1  \n         2017                       EAST LONDON  EASTERN CAPE  24003102376-0  \n         2017                          ALBERTON       GAUTENG  47001813149-0  \n         2017                        THABA NCHU    FREE STATE  47600222485-1  \n         2017                         CAPE TOWN  WESTERN CAPE  47900163543-0  \nScheme_B 2014                         GERMISTON       GAUTENG  80100404564-0  \n\n[8 rows x 31 columns]",
      "text/html": "<div>\n<style scoped>\n    .dataframe tbody tr th:only-of-type {\n        vertical-align: middle;\n    }\n\n    .dataframe tbody tr th {\n        vertical-align: top;\n    }\n\n    .dataframe thead th {\n        text-align: right;\n    }\n</style>\n<table border=\"1\" class=\"dataframe\">\n  <thead>\n    <tr style=\"text-align: right;\">\n      <th></th>\n      <th></th>\n      <th>Scheme_Code</th>\n      <th>Plan_Key</th>\n      <th>Authorization_Key</th>\n      <th>Stg_Has_Key</th>\n      <th>Member_Key</th>\n      <th>Beneficiary_Number</th>\n      <th>Admission_Category</th>\n      <th>Date_Of_Birth</th>\n      <th>Admit_Month</th>\n      <th>Age_At_Treatment</th>\n      <th>...</th>\n      <th>Pharmacy_Amt</th>\n      <th>Age_Group</th>\n      <th>Pulse_Paypoint_Code</th>\n      <th>Dpm_Ind</th>\n      <th>Beneficiary_Type</th>\n      <th>Plan_Name</th>\n      <th>Pmb_Eligible</th>\n      <th>Magisterial_District_Descr</th>\n      <th>Region_Descr</th>\n      <th>Member_ID</th>\n    </tr>\n    <tr>\n      <th></th>\n      <th>admit_year</th>\n      <th></th>\n      <th></th>\n      <th></th>\n      <th></th>\n      <th></th>\n      <th></th>\n      <th></th>\n      <th></th>\n      <th></th>\n      <th></th>\n      <th></th>\n      <th></th>\n      <th></th>\n      <th></th>\n      <th></th>\n      <th></th>\n      <th></th>\n      <th></th>\n      <th></th>\n      <th></th>\n      <th></th>\n    </tr>\n  </thead>\n  <tbody>\n    <tr>\n      <th rowspan=\"7\" valign=\"top\">Scheme A</th>\n      <th>2013</th>\n      <td>BON</td>\n      <td>20.0</td>\n      <td>NaN</td>\n      <td>447376749</td>\n      <td>2025552988</td>\n      <td>0</td>\n      <td>Newborn Care</td>\n      <td>1983-07-02</td>\n      <td>201312</td>\n      <td>30</td>\n      <td>...</td>\n      <td>0.0</td>\n      <td>26 - 30</td>\n      <td>BON998BEN</td>\n      <td>Individual</td>\n      <td>MEMB</td>\n      <td>STANDARD OPTION</td>\n      <td>N</td>\n      <td>PIET RETIEF</td>\n      <td>MPUMALANGA</td>\n      <td>2025552988-0</td>\n    </tr>\n    <tr>\n      <th>2017</th>\n      <td>NaN</td>\n      <td>NaN</td>\n      <td>NaN</td>\n      <td>591189313</td>\n      <td>2000784513</td>\n      <td>2</td>\n      <td>Newborn Care</td>\n      <td>1979-05-03</td>\n      <td>201705</td>\n      <td>38</td>\n      <td>...</td>\n      <td>0.0</td>\n      <td>36 - 40</td>\n      <td>NaN</td>\n      <td>Individual</td>\n      <td>ADUL</td>\n      <td>NaN</td>\n      <td>NaN</td>\n      <td>SOSHANGUVE</td>\n      <td>GAUTENG</td>\n      <td>2000784513-2</td>\n    </tr>\n    <tr>\n      <th>2017</th>\n      <td>NaN</td>\n      <td>NaN</td>\n      <td>NaN</td>\n      <td>581344208</td>\n      <td>2025716865</td>\n      <td>1</td>\n      <td>Newborn Care</td>\n      <td>1979-07-04</td>\n      <td>201702</td>\n      <td>37</td>\n      <td>...</td>\n      <td>0.0</td>\n      <td>36 - 40</td>\n      <td>NaN</td>\n      <td>Group</td>\n      <td>ADUL</td>\n      <td>NaN</td>\n      <td>NaN</td>\n      <td>RUSLOO</td>\n      <td>GAUTENG</td>\n      <td>2025716865-1</td>\n    </tr>\n    <tr>\n      <th>2017</th>\n      <td>NaN</td>\n      <td>NaN</td>\n      <td>NaN</td>\n      <td>573963990</td>\n      <td>24003102376</td>\n      <td>0</td>\n      <td>Newborn Care</td>\n      <td>1984-01-10</td>\n      <td>201701</td>\n      <td>33</td>\n      <td>...</td>\n      <td>0.0</td>\n      <td>31 - 35</td>\n      <td>NaN</td>\n      <td>Group</td>\n      <td>MEMB</td>\n      <td>NaN</td>\n      <td>NaN</td>\n      <td>EAST LONDON</td>\n      <td>EASTERN CAPE</td>\n      <td>24003102376-0</td>\n    </tr>\n    <tr>\n      <th>2017</th>\n      <td>NaN</td>\n      <td>NaN</td>\n      <td>NaN</td>\n      <td>590636421</td>\n      <td>47001813149</td>\n      <td>0</td>\n      <td>Newborn Care</td>\n      <td>1983-05-10</td>\n      <td>201705</td>\n      <td>34</td>\n      <td>...</td>\n      <td>0.0</td>\n      <td>31 - 35</td>\n      <td>NaN</td>\n      <td>Individual</td>\n      <td>MEMB</td>\n      <td>NaN</td>\n      <td>NaN</td>\n      <td>ALBERTON</td>\n      <td>GAUTENG</td>\n      <td>47001813149-0</td>\n    </tr>\n    <tr>\n      <th>2017</th>\n      <td>NaN</td>\n      <td>NaN</td>\n      <td>NaN</td>\n      <td>606172998</td>\n      <td>47600222485</td>\n      <td>1</td>\n      <td>Newborn Care</td>\n      <td>1992-01-23</td>\n      <td>201710</td>\n      <td>25</td>\n      <td>...</td>\n      <td>0.0</td>\n      <td>21 - 25</td>\n      <td>NaN</td>\n      <td>Individual</td>\n      <td>ADUL</td>\n      <td>NaN</td>\n      <td>NaN</td>\n      <td>THABA NCHU</td>\n      <td>FREE STATE</td>\n      <td>47600222485-1</td>\n    </tr>\n    <tr>\n      <th>2017</th>\n      <td>NaN</td>\n      <td>NaN</td>\n      <td>NaN</td>\n      <td>581068530</td>\n      <td>47900163543</td>\n      <td>0</td>\n      <td>Newborn Care</td>\n      <td>1986-08-22</td>\n      <td>201703</td>\n      <td>30</td>\n      <td>...</td>\n      <td>0.0</td>\n      <td>26 - 30</td>\n      <td>NaN</td>\n      <td>Individual</td>\n      <td>MEMB</td>\n      <td>NaN</td>\n      <td>NaN</td>\n      <td>CAPE TOWN</td>\n      <td>WESTERN CAPE</td>\n      <td>47900163543-0</td>\n    </tr>\n    <tr>\n      <th>Scheme_B</th>\n      <th>2014</th>\n      <td>B</td>\n      <td>751.0</td>\n      <td>NaN</td>\n      <td>541323537</td>\n      <td>80100404564</td>\n      <td>0</td>\n      <td>Newborn Care</td>\n      <td>1988-03-09</td>\n      <td>201412</td>\n      <td>26</td>\n      <td>...</td>\n      <td>0.0</td>\n      <td>26 - 30</td>\n      <td>FDH510DPM</td>\n      <td>Individual</td>\n      <td>MEMB</td>\n      <td>flexiFED 3</td>\n      <td>N</td>\n      <td>GERMISTON</td>\n      <td>GAUTENG</td>\n      <td>80100404564-0</td>\n    </tr>\n  </tbody>\n</table>\n<p>8 rows × 31 columns</p>\n</div>"
     },
     "metadata": {},
     "execution_count": 19
    }
   ],
   "source": [
    "mom_data[mom_data[\"Admission_Category\"]==\"Newborn Care\"]"
   ]
  },
  {
   "cell_type": "code",
   "execution_count": 20,
   "metadata": {},
   "outputs": [
    {
     "output_type": "execute_result",
     "data": {
      "text/plain": "                    Scheme_Code  Plan_Key  Authorization_Key  Stg_Has_Key  \\\n         admit_year                                                         \nScheme A 2014               BON     921.0        851574094.0    543542263   \n         2015               BON     240.0        873689536.0    541892328   \n         2015               BON     277.0        876436101.0    542644765   \n         2017               NaN       NaN        909359142.0    594946834   \n         2017               NaN       NaN        910272054.0    610659942   \n         2018               NaN       NaN        906743075.0    622541894   \nScheme_B 2020                 B     752.0        912979442.0    690481242   \n\n                      Member_Key  Beneficiary_Number  \\\n         admit_year                                    \nScheme A 2014        47600070259                   0   \n         2015        24002390048                   0   \n         2015        27703975893                   1   \n         2017         2000843399                   1   \n         2017        47600074891                   1   \n         2018        47001439293                   0   \nScheme_B 2020        80200210287                   3   \n\n                                               Admission_Category  \\\n         admit_year                                                 \nScheme A 2014        Newborn - Complications/Premature baby minor   \n         2015        Newborn - Complications/Premature baby minor   \n         2015        Newborn - Complications/Premature baby minor   \n         2017        Newborn - Complications/Premature baby minor   \n         2017        Newborn - Complications/Premature baby minor   \n         2018        Newborn - Complications/Premature baby minor   \nScheme_B 2020        Newborn - Complications/Premature baby minor   \n\n                    Date_Of_Birth  Admit_Month  Age_At_Treatment  ...  \\\n         admit_year                                               ...   \nScheme A 2014          1963-07-02       201410                51  ...   \n         2015          1958-09-06       201503                56  ...   \n         2015          1954-08-05       201512                61  ...   \n         2017          1961-04-18       201706                56  ...   \n         2017          1985-03-25       201712                32  ...   \n         2018          1937-11-20       201803                80  ...   \nScheme_B 2020          2000-05-02       202001                19  ...   \n\n                    Pharmacy_Amt Age_Group Pulse_Paypoint_Code     Dpm_Ind  \\\n         admit_year                                                          \nScheme A 2014               0.00   51 - 55           BON011KOD       Group   \n         2015               0.00   56 - 60           BON998MPV  Individual   \n         2015               0.00   61 - 65           BON040TNN       Group   \n         2017             981.92   56 - 60                 NaN       Group   \n         2017               0.00   31 - 35                 NaN  Individual   \n         2018              13.83       80+                 NaN  Individual   \nScheme_B 2020               0.00   16 - 20           FDH002XNW       Group   \n\n                    Beneficiary_Type       Plan_Name  Pmb_Eligible  \\\n         admit_year                                                  \nScheme A 2014                   MEMB      BonClassic             Y   \n         2015                   MEMB  BONSAVE OPTION             N   \n         2015                   ADUL  PRIMARY OPTION             N   \n         2017                   ADUL             NaN           NaN   \n         2017                   ADUL             NaN           NaN   \n         2018                   MEMB             NaN           NaN   \nScheme_B 2020                   CHIL      FLEXIFED 4             Y   \n\n                     Magisterial_District_Descr   Region_Descr      Member_ID  \n         admit_year                                                            \nScheme A 2014                       TOUWS RIVER   WESTERN CAPE  47600070259-0  \n         2015                      JOHANNESBURG        GAUTENG  24002390048-0  \n         2015                            DURBAN  KWAZULU NATAL  27703975893-1  \n         2017                         BETHLEHEM     FREE STATE   2000843399-1  \n         2017                        TABLE VIEW   WESTERN CAPE  47600074891-1  \n         2018                        KLERKSDORP     NORTH WEST  47001439293-0  \nScheme_B 2020                  SCHWEIZER-RENEKE     NORTH WEST  80200210287-3  \n\n[7 rows x 31 columns]",
      "text/html": "<div>\n<style scoped>\n    .dataframe tbody tr th:only-of-type {\n        vertical-align: middle;\n    }\n\n    .dataframe tbody tr th {\n        vertical-align: top;\n    }\n\n    .dataframe thead th {\n        text-align: right;\n    }\n</style>\n<table border=\"1\" class=\"dataframe\">\n  <thead>\n    <tr style=\"text-align: right;\">\n      <th></th>\n      <th></th>\n      <th>Scheme_Code</th>\n      <th>Plan_Key</th>\n      <th>Authorization_Key</th>\n      <th>Stg_Has_Key</th>\n      <th>Member_Key</th>\n      <th>Beneficiary_Number</th>\n      <th>Admission_Category</th>\n      <th>Date_Of_Birth</th>\n      <th>Admit_Month</th>\n      <th>Age_At_Treatment</th>\n      <th>...</th>\n      <th>Pharmacy_Amt</th>\n      <th>Age_Group</th>\n      <th>Pulse_Paypoint_Code</th>\n      <th>Dpm_Ind</th>\n      <th>Beneficiary_Type</th>\n      <th>Plan_Name</th>\n      <th>Pmb_Eligible</th>\n      <th>Magisterial_District_Descr</th>\n      <th>Region_Descr</th>\n      <th>Member_ID</th>\n    </tr>\n    <tr>\n      <th></th>\n      <th>admit_year</th>\n      <th></th>\n      <th></th>\n      <th></th>\n      <th></th>\n      <th></th>\n      <th></th>\n      <th></th>\n      <th></th>\n      <th></th>\n      <th></th>\n      <th></th>\n      <th></th>\n      <th></th>\n      <th></th>\n      <th></th>\n      <th></th>\n      <th></th>\n      <th></th>\n      <th></th>\n      <th></th>\n      <th></th>\n    </tr>\n  </thead>\n  <tbody>\n    <tr>\n      <th rowspan=\"6\" valign=\"top\">Scheme A</th>\n      <th>2014</th>\n      <td>BON</td>\n      <td>921.0</td>\n      <td>851574094.0</td>\n      <td>543542263</td>\n      <td>47600070259</td>\n      <td>0</td>\n      <td>Newborn - Complications/Premature baby minor</td>\n      <td>1963-07-02</td>\n      <td>201410</td>\n      <td>51</td>\n      <td>...</td>\n      <td>0.00</td>\n      <td>51 - 55</td>\n      <td>BON011KOD</td>\n      <td>Group</td>\n      <td>MEMB</td>\n      <td>BonClassic</td>\n      <td>Y</td>\n      <td>TOUWS RIVER</td>\n      <td>WESTERN CAPE</td>\n      <td>47600070259-0</td>\n    </tr>\n    <tr>\n      <th>2015</th>\n      <td>BON</td>\n      <td>240.0</td>\n      <td>873689536.0</td>\n      <td>541892328</td>\n      <td>24002390048</td>\n      <td>0</td>\n      <td>Newborn - Complications/Premature baby minor</td>\n      <td>1958-09-06</td>\n      <td>201503</td>\n      <td>56</td>\n      <td>...</td>\n      <td>0.00</td>\n      <td>56 - 60</td>\n      <td>BON998MPV</td>\n      <td>Individual</td>\n      <td>MEMB</td>\n      <td>BONSAVE OPTION</td>\n      <td>N</td>\n      <td>JOHANNESBURG</td>\n      <td>GAUTENG</td>\n      <td>24002390048-0</td>\n    </tr>\n    <tr>\n      <th>2015</th>\n      <td>BON</td>\n      <td>277.0</td>\n      <td>876436101.0</td>\n      <td>542644765</td>\n      <td>27703975893</td>\n      <td>1</td>\n      <td>Newborn - Complications/Premature baby minor</td>\n      <td>1954-08-05</td>\n      <td>201512</td>\n      <td>61</td>\n      <td>...</td>\n      <td>0.00</td>\n      <td>61 - 65</td>\n      <td>BON040TNN</td>\n      <td>Group</td>\n      <td>ADUL</td>\n      <td>PRIMARY OPTION</td>\n      <td>N</td>\n      <td>DURBAN</td>\n      <td>KWAZULU NATAL</td>\n      <td>27703975893-1</td>\n    </tr>\n    <tr>\n      <th>2017</th>\n      <td>NaN</td>\n      <td>NaN</td>\n      <td>909359142.0</td>\n      <td>594946834</td>\n      <td>2000843399</td>\n      <td>1</td>\n      <td>Newborn - Complications/Premature baby minor</td>\n      <td>1961-04-18</td>\n      <td>201706</td>\n      <td>56</td>\n      <td>...</td>\n      <td>981.92</td>\n      <td>56 - 60</td>\n      <td>NaN</td>\n      <td>Group</td>\n      <td>ADUL</td>\n      <td>NaN</td>\n      <td>NaN</td>\n      <td>BETHLEHEM</td>\n      <td>FREE STATE</td>\n      <td>2000843399-1</td>\n    </tr>\n    <tr>\n      <th>2017</th>\n      <td>NaN</td>\n      <td>NaN</td>\n      <td>910272054.0</td>\n      <td>610659942</td>\n      <td>47600074891</td>\n      <td>1</td>\n      <td>Newborn - Complications/Premature baby minor</td>\n      <td>1985-03-25</td>\n      <td>201712</td>\n      <td>32</td>\n      <td>...</td>\n      <td>0.00</td>\n      <td>31 - 35</td>\n      <td>NaN</td>\n      <td>Individual</td>\n      <td>ADUL</td>\n      <td>NaN</td>\n      <td>NaN</td>\n      <td>TABLE VIEW</td>\n      <td>WESTERN CAPE</td>\n      <td>47600074891-1</td>\n    </tr>\n    <tr>\n      <th>2018</th>\n      <td>NaN</td>\n      <td>NaN</td>\n      <td>906743075.0</td>\n      <td>622541894</td>\n      <td>47001439293</td>\n      <td>0</td>\n      <td>Newborn - Complications/Premature baby minor</td>\n      <td>1937-11-20</td>\n      <td>201803</td>\n      <td>80</td>\n      <td>...</td>\n      <td>13.83</td>\n      <td>80+</td>\n      <td>NaN</td>\n      <td>Individual</td>\n      <td>MEMB</td>\n      <td>NaN</td>\n      <td>NaN</td>\n      <td>KLERKSDORP</td>\n      <td>NORTH WEST</td>\n      <td>47001439293-0</td>\n    </tr>\n    <tr>\n      <th>Scheme_B</th>\n      <th>2020</th>\n      <td>B</td>\n      <td>752.0</td>\n      <td>912979442.0</td>\n      <td>690481242</td>\n      <td>80200210287</td>\n      <td>3</td>\n      <td>Newborn - Complications/Premature baby minor</td>\n      <td>2000-05-02</td>\n      <td>202001</td>\n      <td>19</td>\n      <td>...</td>\n      <td>0.00</td>\n      <td>16 - 20</td>\n      <td>FDH002XNW</td>\n      <td>Group</td>\n      <td>CHIL</td>\n      <td>FLEXIFED 4</td>\n      <td>Y</td>\n      <td>SCHWEIZER-RENEKE</td>\n      <td>NORTH WEST</td>\n      <td>80200210287-3</td>\n    </tr>\n  </tbody>\n</table>\n<p>7 rows × 31 columns</p>\n</div>"
     },
     "metadata": {},
     "execution_count": 20
    }
   ],
   "source": [
    "mom_data[mom_data[\"Admission_Category\"]==\"Newborn - Complications/Premature baby minor\"]"
   ]
  },
  {
   "cell_type": "code",
   "execution_count": 21,
   "metadata": {},
   "outputs": [
    {
     "output_type": "execute_result",
     "data": {
      "text/plain": "                    Scheme_Code  Plan_Key  Authorization_Key  Stg_Has_Key  \\\n         admit_year                                                         \nScheme A 2017               NaN       NaN                NaN    603078181   \n         2018               NaN       NaN                NaN    613692421   \n         2018               NaN       NaN                NaN    649971130   \n\n                      Member_Key  Beneficiary_Number    Admission_Category  \\\n         admit_year                                                          \nScheme A 2017        27702756185                   0  Complex Newborn Care   \n         2018        27702338572                   3  Complex Newborn Care   \n         2018        47002133811                   0  Complex Newborn Care   \n\n                    Date_Of_Birth  Admit_Month  Age_At_Treatment  ...  \\\n         admit_year                                               ...   \nScheme A 2017          1964-08-05       201709                53  ...   \n         2018          1997-05-15       201801                20  ...   \n         2018          1992-01-18       201810                26  ...   \n\n                    Pharmacy_Amt Age_Group Pulse_Paypoint_Code  Dpm_Ind  \\\n         admit_year                                                       \nScheme A 2017                0.0   51 - 55                 NaN    Group   \n         2018                0.0   16 - 20                 NaN    Group   \n         2018                0.0   26 - 30                 NaN    Group   \n\n                    Beneficiary_Type  Plan_Name  Pmb_Eligible  \\\n         admit_year                                             \nScheme A 2017                   MEMB        NaN           NaN   \n         2018                   CHIL        NaN           NaN   \n         2018                   MEMB        NaN           NaN   \n\n                     Magisterial_District_Descr   Region_Descr      Member_ID  \n         admit_year                                                            \nScheme A 2017                           STANGER  KWAZULU NATAL  27702756185-0  \n         2018                           TZANEEN        LIMPOPO  27702338572-3  \n         2018                         NELSPRUIT     MPUMALANGA  47002133811-0  \n\n[3 rows x 31 columns]",
      "text/html": "<div>\n<style scoped>\n    .dataframe tbody tr th:only-of-type {\n        vertical-align: middle;\n    }\n\n    .dataframe tbody tr th {\n        vertical-align: top;\n    }\n\n    .dataframe thead th {\n        text-align: right;\n    }\n</style>\n<table border=\"1\" class=\"dataframe\">\n  <thead>\n    <tr style=\"text-align: right;\">\n      <th></th>\n      <th></th>\n      <th>Scheme_Code</th>\n      <th>Plan_Key</th>\n      <th>Authorization_Key</th>\n      <th>Stg_Has_Key</th>\n      <th>Member_Key</th>\n      <th>Beneficiary_Number</th>\n      <th>Admission_Category</th>\n      <th>Date_Of_Birth</th>\n      <th>Admit_Month</th>\n      <th>Age_At_Treatment</th>\n      <th>...</th>\n      <th>Pharmacy_Amt</th>\n      <th>Age_Group</th>\n      <th>Pulse_Paypoint_Code</th>\n      <th>Dpm_Ind</th>\n      <th>Beneficiary_Type</th>\n      <th>Plan_Name</th>\n      <th>Pmb_Eligible</th>\n      <th>Magisterial_District_Descr</th>\n      <th>Region_Descr</th>\n      <th>Member_ID</th>\n    </tr>\n    <tr>\n      <th></th>\n      <th>admit_year</th>\n      <th></th>\n      <th></th>\n      <th></th>\n      <th></th>\n      <th></th>\n      <th></th>\n      <th></th>\n      <th></th>\n      <th></th>\n      <th></th>\n      <th></th>\n      <th></th>\n      <th></th>\n      <th></th>\n      <th></th>\n      <th></th>\n      <th></th>\n      <th></th>\n      <th></th>\n      <th></th>\n      <th></th>\n    </tr>\n  </thead>\n  <tbody>\n    <tr>\n      <th rowspan=\"3\" valign=\"top\">Scheme A</th>\n      <th>2017</th>\n      <td>NaN</td>\n      <td>NaN</td>\n      <td>NaN</td>\n      <td>603078181</td>\n      <td>27702756185</td>\n      <td>0</td>\n      <td>Complex Newborn Care</td>\n      <td>1964-08-05</td>\n      <td>201709</td>\n      <td>53</td>\n      <td>...</td>\n      <td>0.0</td>\n      <td>51 - 55</td>\n      <td>NaN</td>\n      <td>Group</td>\n      <td>MEMB</td>\n      <td>NaN</td>\n      <td>NaN</td>\n      <td>STANGER</td>\n      <td>KWAZULU NATAL</td>\n      <td>27702756185-0</td>\n    </tr>\n    <tr>\n      <th>2018</th>\n      <td>NaN</td>\n      <td>NaN</td>\n      <td>NaN</td>\n      <td>613692421</td>\n      <td>27702338572</td>\n      <td>3</td>\n      <td>Complex Newborn Care</td>\n      <td>1997-05-15</td>\n      <td>201801</td>\n      <td>20</td>\n      <td>...</td>\n      <td>0.0</td>\n      <td>16 - 20</td>\n      <td>NaN</td>\n      <td>Group</td>\n      <td>CHIL</td>\n      <td>NaN</td>\n      <td>NaN</td>\n      <td>TZANEEN</td>\n      <td>LIMPOPO</td>\n      <td>27702338572-3</td>\n    </tr>\n    <tr>\n      <th>2018</th>\n      <td>NaN</td>\n      <td>NaN</td>\n      <td>NaN</td>\n      <td>649971130</td>\n      <td>47002133811</td>\n      <td>0</td>\n      <td>Complex Newborn Care</td>\n      <td>1992-01-18</td>\n      <td>201810</td>\n      <td>26</td>\n      <td>...</td>\n      <td>0.0</td>\n      <td>26 - 30</td>\n      <td>NaN</td>\n      <td>Group</td>\n      <td>MEMB</td>\n      <td>NaN</td>\n      <td>NaN</td>\n      <td>NELSPRUIT</td>\n      <td>MPUMALANGA</td>\n      <td>47002133811-0</td>\n    </tr>\n  </tbody>\n</table>\n<p>3 rows × 31 columns</p>\n</div>"
     },
     "metadata": {},
     "execution_count": 21
    }
   ],
   "source": [
    "mom_data[mom_data[\"Admission_Category\"]==\"Complex Newborn Care\"]"
   ]
  },
  {
   "cell_type": "code",
   "execution_count": 22,
   "metadata": {},
   "outputs": [
    {
     "output_type": "execute_result",
     "data": {
      "text/plain": "                    Scheme_Code  Plan_Key  Authorization_Key  Stg_Has_Key  \\\n         admit_year                                                         \nScheme A 2014               BON     277.0        851271582.0    542791783   \n\n                      Member_Key  Beneficiary_Number  \\\n         admit_year                                    \nScheme A 2014        27703397354                   0   \n\n                                Admission_Category Date_Of_Birth  Admit_Month  \\\n         admit_year                                                             \nScheme A 2014        Newborn - Uncomplicated Birth    1978-10-18       201406   \n\n                     Age_At_Treatment  ... Pharmacy_Amt Age_Group  \\\n         admit_year                    ...                          \nScheme A 2014                      35  ...          0.0   31 - 35   \n\n                    Pulse_Paypoint_Code  Dpm_Ind Beneficiary_Type  \\\n         admit_year                                                 \nScheme A 2014                 BON124EY5    Group             MEMB   \n\n                          Plan_Name  Pmb_Eligible  Magisterial_District_Descr  \\\n         admit_year                                                             \nScheme A 2014        PRIMARY OPTION             N                     WITBANK   \n\n                     Region_Descr      Member_ID  \n         admit_year                               \nScheme A 2014          MPUMALANGA  27703397354-0  \n\n[1 rows x 31 columns]",
      "text/html": "<div>\n<style scoped>\n    .dataframe tbody tr th:only-of-type {\n        vertical-align: middle;\n    }\n\n    .dataframe tbody tr th {\n        vertical-align: top;\n    }\n\n    .dataframe thead th {\n        text-align: right;\n    }\n</style>\n<table border=\"1\" class=\"dataframe\">\n  <thead>\n    <tr style=\"text-align: right;\">\n      <th></th>\n      <th></th>\n      <th>Scheme_Code</th>\n      <th>Plan_Key</th>\n      <th>Authorization_Key</th>\n      <th>Stg_Has_Key</th>\n      <th>Member_Key</th>\n      <th>Beneficiary_Number</th>\n      <th>Admission_Category</th>\n      <th>Date_Of_Birth</th>\n      <th>Admit_Month</th>\n      <th>Age_At_Treatment</th>\n      <th>...</th>\n      <th>Pharmacy_Amt</th>\n      <th>Age_Group</th>\n      <th>Pulse_Paypoint_Code</th>\n      <th>Dpm_Ind</th>\n      <th>Beneficiary_Type</th>\n      <th>Plan_Name</th>\n      <th>Pmb_Eligible</th>\n      <th>Magisterial_District_Descr</th>\n      <th>Region_Descr</th>\n      <th>Member_ID</th>\n    </tr>\n    <tr>\n      <th></th>\n      <th>admit_year</th>\n      <th></th>\n      <th></th>\n      <th></th>\n      <th></th>\n      <th></th>\n      <th></th>\n      <th></th>\n      <th></th>\n      <th></th>\n      <th></th>\n      <th></th>\n      <th></th>\n      <th></th>\n      <th></th>\n      <th></th>\n      <th></th>\n      <th></th>\n      <th></th>\n      <th></th>\n      <th></th>\n      <th></th>\n    </tr>\n  </thead>\n  <tbody>\n    <tr>\n      <th>Scheme A</th>\n      <th>2014</th>\n      <td>BON</td>\n      <td>277.0</td>\n      <td>851271582.0</td>\n      <td>542791783</td>\n      <td>27703397354</td>\n      <td>0</td>\n      <td>Newborn - Uncomplicated Birth</td>\n      <td>1978-10-18</td>\n      <td>201406</td>\n      <td>35</td>\n      <td>...</td>\n      <td>0.0</td>\n      <td>31 - 35</td>\n      <td>BON124EY5</td>\n      <td>Group</td>\n      <td>MEMB</td>\n      <td>PRIMARY OPTION</td>\n      <td>N</td>\n      <td>WITBANK</td>\n      <td>MPUMALANGA</td>\n      <td>27703397354-0</td>\n    </tr>\n  </tbody>\n</table>\n<p>1 rows × 31 columns</p>\n</div>"
     },
     "metadata": {},
     "execution_count": 22
    }
   ],
   "source": [
    "mom_data[mom_data[\"Admission_Category\"]==\"Newborn - Uncomplicated Birth\"]"
   ]
  },
  {
   "cell_type": "code",
   "execution_count": 23,
   "metadata": {},
   "outputs": [
    {
     "output_type": "execute_result",
     "data": {
      "text/plain": "          admit_year\nScheme A  2015          P35.2\nName: Final_Diagnosis, dtype: category\nCategories (667, object): [A09, A09.0, A09.9, A41.5, ..., Z39.2, Z48.8, Z51.3, Z51.9]"
     },
     "metadata": {},
     "execution_count": 23
    }
   ],
   "source": [
    "mom_data[mom_data[\"Admission_Category\"]==\"Newborn - Complications/Premature baby major\"][\"Final_Diagnosis\"]"
   ]
  },
  {
   "cell_type": "markdown",
   "metadata": {},
   "source": [
    "Removing Rows in mom_data Whose Admission Category are Related to Newborn Care "
   ]
  },
  {
   "cell_type": "code",
   "execution_count": 24,
   "metadata": {},
   "outputs": [],
   "source": [
    "cond1=mom_data[\"Admission_Category\"]!=\"Newborn Care\"\n",
    "cond2=mom_data[\"Admission_Category\"]!=\"Newborn - Uncomplicated Birth\"\n",
    "cond3=mom_data[\"Admission_Category\"]!=\"Newborn - Complications/Premature baby minor\"\n",
    "cond4=mom_data[\"Admission_Category\"]!=\"Newborn - Complications/Premature baby major\"\n",
    "cond5=mom_data[\"Admission_Category\"]!=\"Complex Newborn Care\""
   ]
  },
  {
   "cell_type": "code",
   "execution_count": 25,
   "metadata": {},
   "outputs": [],
   "source": [
    "mom_data=mom_data[cond1 & cond2 & cond3 & cond4 & cond5]"
   ]
  },
  {
   "cell_type": "code",
   "execution_count": 26,
   "metadata": {},
   "outputs": [
    {
     "output_type": "execute_result",
     "data": {
      "text/plain": "[Complicated Pregnancy, Caesarean Delivery, Normal Delivery, Uncomplicated delivery, Complications of the pueperium, Complicated labour, delivery and puerperium, Uncomplicated Pregnancy]\nCategories (7, object): [Complicated Pregnancy, Caesarean Delivery, Normal Delivery, Uncomplicated delivery, Complications of the pueperium, Complicated labour, delivery and puerperium, Uncomplicated Pregnancy]"
     },
     "metadata": {},
     "execution_count": 26
    }
   ],
   "source": [
    "mom_data[\"Admission_Category\"].unique()"
   ]
  },
  {
   "cell_type": "markdown",
   "metadata": {},
   "source": [
    "Removing Rows in baby_data, Where the Admission Category is Complictaions of the Pueperium"
   ]
  },
  {
   "cell_type": "code",
   "execution_count": 27,
   "metadata": {},
   "outputs": [
    {
     "output_type": "execute_result",
     "data": {
      "text/plain": "[Newborn - Complications/Premature baby major, Newborn - Complications/Premature baby minor, Newborn - Uncomplicated Birth, Newborn Care, Complications of the pueperium, Complex Newborn Care]\nCategories (6, object): [Newborn - Complications/Premature baby major, Newborn - Complications/Premature baby minor, Newborn - Uncomplicated Birth, Newborn Care, Complications of the pueperium, Complex Newborn Care]"
     },
     "metadata": {},
     "execution_count": 27
    }
   ],
   "source": [
    "baby_data[\"Admission_Category\"].unique()"
   ]
  },
  {
   "cell_type": "code",
   "execution_count": 28,
   "metadata": {},
   "outputs": [],
   "source": [
    "baby_data=baby_data[baby_data[\"Admission_Category\"]!=\"Complications of the pueperium\"]"
   ]
  },
  {
   "cell_type": "markdown",
   "metadata": {},
   "source": [
    "# Saving the Mom Data and Baby Data into 2 Seperate Excel Files"
   ]
  },
  {
   "cell_type": "code",
   "execution_count": 29,
   "metadata": {},
   "outputs": [],
   "source": [
    "excel_file = pd.ExcelWriter(\"All_Schemes_Data_Broken_Into_Mom_And_Baby.xlsx\")"
   ]
  },
  {
   "cell_type": "code",
   "execution_count": 91,
   "metadata": {},
   "outputs": [],
   "source": [
    "mom_data.to_excel(excel_file,sheet_name=\"Mom_Data\")\n",
    "baby_data.to_excel(excel_file,sheet_name=\"Baby_Data\")"
   ]
  },
  {
   "cell_type": "code",
   "execution_count": 92,
   "metadata": {},
   "outputs": [],
   "source": [
    "excel_file.save()"
   ]
  }
 ],
 "metadata": {
  "kernelspec": {
   "display_name": "Python 3.8.3 64-bit ('pandas_playground': conda)",
   "language": "python",
   "name": "python38364bitpandasplaygroundconda84a10f80b1fd4332ae3de9b6c1656e8d"
  },
  "language_info": {
   "codemirror_mode": {
    "name": "ipython",
    "version": 3
   },
   "file_extension": ".py",
   "mimetype": "text/x-python",
   "name": "python",
   "nbconvert_exporter": "python",
   "pygments_lexer": "ipython3",
   "version": "3.8.3-final"
  }
 },
 "nbformat": 4,
 "nbformat_minor": 4
}